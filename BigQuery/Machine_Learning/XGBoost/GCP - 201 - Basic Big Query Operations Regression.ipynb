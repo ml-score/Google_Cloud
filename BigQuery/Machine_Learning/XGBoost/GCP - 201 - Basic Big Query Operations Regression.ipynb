{
 "cells": [
  {
   "cell_type": "markdown",
   "id": "V1bmkkXRt-EM",
   "metadata": {
    "id": "V1bmkkXRt-EM"
   },
   "source": [
    "# Basic Big Query Operations - Loading Regression Data \n",
    "\n",
    "<img src=\"https://lh3.googleusercontent.com/UiNooY4LUgW_oTvpsNhPpQzsstV5W8F7rYgxgGBD85cWJoLmrOzhVs_ksK_vgx40SHs7jCqkTkCk=e14-rj-sc0xffffff-h130-w32\" alt=\"Vertex AI logo\">\n",
    "\n",
    "... some semi advanced Code to manage Big Query Tables including partitions. Though these sample files are so samll partitions are not really needed this might com in handy at another time.\n",
    "\n",
    "\n",
    "\n",
    "### GCP Locations\n",
    "https://cloud.google.com/about/locations\n",
    "\n",
    "https://cloud.google.com/bigquery/docs/locations#supported_locations\n",
    "\n",
    "\n",
    "---\n",
    "\n",
    "by Markus Lauber (https://medium.com/@mlxl)\n",
    "\n",
    "https://yam-united.telekom.com/profile/markus-lauber/"
   ]
  },
  {
   "cell_type": "code",
   "execution_count": null,
   "id": "edHKvTkitiSN",
   "metadata": {
    "colab": {
     "base_uri": "https://localhost:8080/"
    },
    "executionInfo": {
     "elapsed": 1681,
     "status": "ok",
     "timestamp": 1724138890966,
     "user": {
      "displayName": "",
      "userId": ""
     },
     "user_tz": -120
    },
    "id": "edHKvTkitiSN",
    "outputId": "4155f3c7-7019-45f5-c635-366b2232e85d"
   },
   "outputs": [
    {
     "name": "stdout",
     "output_type": "stream",
     "text": [
      "WARNING: google.colab.auth.authenticate_user() is not supported in Colab Enterprise.\n"
     ]
    }
   ],
   "source": [
    "from google.colab import auth\n",
    "auth.authenticate_user()\n",
    "project_id = 'de123456-user-prd-1'\n",
    "dataset_id = 'xgb_regression_project'\n",
    "bucket_id = 'gs://mybucket/'\n",
    "\n",
    "from google.cloud import bigquery\n",
    "import pandas as pd\n",
    "from pandas_gbq import to_gbq\n",
    "\n",
    "# Initialize the BigQuery client\n",
    "client = bigquery.Client(project=project_id)"
   ]
  },
  {
   "cell_type": "markdown",
   "id": "rrxv0HN0VzpJ",
   "metadata": {
    "id": "rrxv0HN0VzpJ"
   },
   "source": [
    "### Rename Columns that have - (hyphen) in their name to _ (underscore)\n",
    "\n",
    "Standard big query tables do not seem to like special characters in column names. So best to remove hyphens (in this case)"
   ]
  },
  {
   "cell_type": "code",
   "execution_count": null,
   "id": "L4ghLHDlV-nE",
   "metadata": {
    "id": "L4ghLHDlV-nE"
   },
   "outputs": [],
   "source": [
    "def rename_columns_underscore_and_number(project_id, dataset_id, table_re_name):\n",
    "    \"\"\"\n",
    "    Args:\n",
    "      project_id:\n",
    "      dataset_id:\n",
    "      table_re_name:\n",
    "    \"\"\"\n",
    "    # Initialize a client\n",
    "    client = bigquery.Client(project=project_id)\n",
    "\n",
    "    # Get the table schema\n",
    "    table_re_ref = client.dataset(dataset_id).table(table_re_name)\n",
    "    table_re = client.get_table(table_re_ref)\n",
    "\n",
    "    # Prepare SQL to rename columns with hyphens or starting with a number\n",
    "    queries = []\n",
    "    for field in table_re.schema:\n",
    "        new_name = field.name\n",
    "\n",
    "        # Replace hyphens with underscores\n",
    "        if '-' in field.name:\n",
    "            new_name = new_name.replace('-', '_')\n",
    "\n",
    "        # Check if the column name starts with a digit\n",
    "        if field.name[0].isdigit():\n",
    "            new_name = f\"v_{new_name}\"\n",
    "\n",
    "        # If a change is required, prepare the SQL statement\n",
    "        if new_name != field.name:\n",
    "            print(\"Old: \", field.name, \" | New: \", new_name)\n",
    "            sql = f\"ALTER TABLE `{project_id}.{dataset_id}.{table_re_name}` RENAME COLUMN `{field.name}` TO `{new_name}`;\"\n",
    "            queries.append(sql)\n",
    "\n",
    "    # Execute the queries\n",
    "    for query in queries:\n",
    "        client.query(query)\n",
    "\n",
    "    print(\"Column renaming completed.\")\n"
   ]
  },
  {
   "cell_type": "markdown",
   "id": "nr8x92I-wGZ9",
   "metadata": {
    "id": "nr8x92I-wGZ9"
   },
   "source": [
    "The Bucket where the Parquet files are being stored. You can obviously use other datasets and methods to load them\n",
    "\n",
    "gs://mybucket/dataset_regression_80.parquet"
   ]
  },
  {
   "cell_type": "code",
   "execution_count": null,
   "id": "_OK1pnrZwG6F",
   "metadata": {
    "colab": {
     "base_uri": "https://localhost:8080/"
    },
    "executionInfo": {
     "elapsed": 2571,
     "status": "ok",
     "timestamp": 1724154195176,
     "user": {
      "displayName": "",
      "userId": ""
     },
     "user_tz": -120
    },
    "id": "_OK1pnrZwG6F",
    "outputId": "40e0fa85-5ca9-4a4b-85b2-f97646dbb933"
   },
   "outputs": [
    {
     "name": "stdout",
     "output_type": "stream",
     "text": [
      "Job finished.\n"
     ]
    }
   ],
   "source": [
    "# Define your table ID (which includes dataset)\n",
    "table_name = 'regression_train'\n",
    "table_id = f\"{project_id}.{dataset_id}.{table_name}\"\n",
    "\n",
    "# Set up the configuration for the load job\n",
    "job_config = bigquery.LoadJobConfig(\n",
    "    source_format=bigquery.SourceFormat.PARQUET,\n",
    "    write_disposition=bigquery.WriteDisposition.WRITE_TRUNCATE  # This line replaces the data instead of appending\n",
    ")\n",
    "\n",
    "# URI of the Parquet file in Google Cloud Storage\n",
    "# https://github.com/ml-score/knime_meets_python/tree/main/machine_learning/regression\n",
    "# https://www.kaggle.com/c/house-prices-advanced-regression-techniques/overview\n",
    "uri = 'gs://mybucket/dataset_regression_80.parquet'\n",
    "\n",
    "# API request - starts the load job\n",
    "load_job = client.load_table_from_uri(\n",
    "    uri,\n",
    "    table_id,\n",
    "    job_config=job_config\n",
    ")\n",
    "\n",
    "# Wait for the job to complete\n",
    "load_job.result()\n",
    "\n",
    "print(\"Job finished.\")\n"
   ]
  },
  {
   "cell_type": "code",
   "execution_count": null,
   "id": "EYxe-CboV0fQ",
   "metadata": {
    "colab": {
     "base_uri": "https://localhost:8080/"
    },
    "executionInfo": {
     "elapsed": 1140,
     "status": "ok",
     "timestamp": 1724154199245,
     "user": {
      "displayName": "",
      "userId": ""
     },
     "user_tz": -120
    },
    "id": "EYxe-CboV0fQ",
    "outputId": "1747dff4-13e7-4eac-827d-c12a0591282a"
   },
   "outputs": [
    {
     "name": "stdout",
     "output_type": "stream",
     "text": [
      "Old:  1stFlrSF  | New:  v_1stFlrSF\n",
      "Old:  2ndFlrSF  | New:  v_2ndFlrSF\n",
      "Old:  3SsnPorch  | New:  v_3SsnPorch\n",
      "Column renaming completed.\n"
     ]
    }
   ],
   "source": [
    "# Example usage to remove unwanted characters in column names:\n",
    "rename_columns_underscore_and_number(project_id, dataset_id, table_name)"
   ]
  },
  {
   "cell_type": "code",
   "execution_count": null,
   "id": "eLZWCgxeW4Sq",
   "metadata": {
    "colab": {
     "base_uri": "https://localhost:8080/"
    },
    "executionInfo": {
     "elapsed": 300,
     "status": "ok",
     "timestamp": 1724154201907,
     "user": {
      "displayName": "",
      "userId": ""
     },
     "user_tz": -120
    },
    "id": "eLZWCgxeW4Sq",
    "outputId": "fd9832d1-a568-481f-c6b2-3985c888c625"
   },
   "outputs": [
    {
     "name": "stdout",
     "output_type": "stream",
     "text": [
      "Column renaming completed.\n"
     ]
    }
   ],
   "source": [
    "# sometimes it seems on go is not enough to capture all of the instances. So just run this a second or third time\n",
    "rename_columns_underscore_and_number(project_id, dataset_id, table_name)"
   ]
  },
  {
   "cell_type": "code",
   "execution_count": null,
   "id": "h1RQZN4PxeV8",
   "metadata": {
    "id": "h1RQZN4PxeV8"
   },
   "outputs": [],
   "source": [
    "# Fetch the table\n",
    "table = client.get_table(table_id)  # Make sure to provide the full table ID here"
   ]
  },
  {
   "cell_type": "markdown",
   "id": "gE5u9FghxUXS",
   "metadata": {
    "id": "gE5u9FghxUXS"
   },
   "source": [
    "```Python\n",
    "@bpd.remote_function(bpd.DataFrame, str, str)\n",
    "def add_constant_column(df, column_name, constant_value):\n",
    "    df[column_name] = constant_value\n",
    "    return df\n",
    "```\n"
   ]
  },
  {
   "cell_type": "code",
   "execution_count": null,
   "id": "RRTPTa34cDMe",
   "metadata": {
    "colab": {
     "base_uri": "https://localhost:8080/"
    },
    "executionInfo": {
     "elapsed": 1,
     "status": "ok",
     "timestamp": 1724153810327,
     "user": {
      "displayName": "",
      "userId": ""
     },
     "user_tz": -120
    },
    "id": "RRTPTa34cDMe",
    "outputId": "06d12a01-f1ac-45cf-93cf-35e2552a71ec"
   },
   "outputs": [
    {
     "data": {
      "text/plain": [
       "google.cloud.bigquery.table.Table"
      ]
     },
     "execution_count": 39,
     "metadata": {},
     "output_type": "execute_result"
    }
   ],
   "source": [
    "type(table)"
   ]
  },
  {
   "cell_type": "code",
   "execution_count": null,
   "id": "iuNYOmD2yYVE",
   "metadata": {
    "id": "iuNYOmD2yYVE"
   },
   "outputs": [],
   "source": [
    "# Extract the schema and format it into the desired Python code structure\n",
    "schema_code_snippets = []\n",
    "for field in table.schema:\n",
    "    description = field.description if field.description else ''\n",
    "    schema_line = f'bigquery.SchemaField(\"{field.name}\", \"{field.field_type}\", description=\"{description}\")'\n",
    "    schema_code_snippets.append(schema_line)"
   ]
  },
  {
   "cell_type": "code",
   "execution_count": null,
   "id": "cCfayy6iybNz",
   "metadata": {
    "colab": {
     "base_uri": "https://localhost:8080/"
    },
    "executionInfo": {
     "elapsed": 167,
     "status": "ok",
     "timestamp": 1724154209875,
     "user": {
      "displayName": "",
      "userId": ""
     },
     "user_tz": -120
    },
    "id": "cCfayy6iybNz",
    "outputId": "9f567cb6-acd6-4dfd-ca60-fee245174b7b"
   },
   "outputs": [
    {
     "name": "stdout",
     "output_type": "stream",
     "text": [
      "Fields:  MSSubClass, MSZoning, LotFrontage, LotArea, Street, Alley, LotShape, LandContour, Utilities, LotConfig, LandSlope, Neighborhood, Condition1, Condition2, BldgType, HouseStyle, OverallQual, OverallCond, YearBuilt, YearRemodAdd, RoofStyle, RoofMatl, Exterior1st, Exterior2nd, MasVnrType, MasVnrArea, ExterQual, ExterCond, Foundation, BsmtQual, BsmtCond, BsmtExposure, BsmtFinType1, BsmtFinSF1, BsmtFinType2, BsmtFinSF2, BsmtUnfSF, TotalBsmtSF, Heating, HeatingQC, CentralAir, Electrical, v_1stFlrSF, v_2ndFlrSF, LowQualFinSF, GrLivArea, BsmtFullBath, BsmtHalfBath, FullBath, HalfBath, BedroomAbvGr, KitchenAbvGr, KitchenQual, TotRmsAbvGrd, Functional, Fireplaces, FireplaceQu, GarageType, GarageYrBlt, GarageFinish, GarageCars, GarageArea, GarageQual, GarageCond, PavedDrive, WoodDeckSF, OpenPorchSF, EnclosedPorch, v_3SsnPorch, ScreenPorch, PoolArea, PoolQC, Fence, MiscFeature, MiscVal, MoSold, YrSold, SaleType, SaleCondition, Target, row_id\n"
     ]
    }
   ],
   "source": [
    "# Extract the field names and join them with commas\n",
    "field_names = \", \".join(field.name for field in table.schema)\n",
    "\n",
    "# Print the comma-separated field names\n",
    "print(\"Fields: \", field_names)"
   ]
  },
  {
   "cell_type": "code",
   "execution_count": null,
   "id": "56QgqakfydiU",
   "metadata": {
    "colab": {
     "base_uri": "https://localhost:8080/"
    },
    "executionInfo": {
     "elapsed": 222,
     "status": "ok",
     "timestamp": 1724154211711,
     "user": {
      "displayName": "",
      "userId": ""
     },
     "user_tz": -120
    },
    "id": "56QgqakfydiU",
    "outputId": "07458fd2-d31a-4d4a-c204-8e59f0971f19"
   },
   "outputs": [
    {
     "name": "stdout",
     "output_type": "stream",
     "text": [
      "# Define the table schema with various data types\n",
      "schema =  [\n",
      "    bigquery.SchemaField(\"MSSubClass\", \"INTEGER\", description=\"\"),\n",
      "    bigquery.SchemaField(\"MSZoning\", \"STRING\", description=\"\"),\n",
      "    bigquery.SchemaField(\"LotFrontage\", \"INTEGER\", description=\"\"),\n",
      "    bigquery.SchemaField(\"LotArea\", \"INTEGER\", description=\"\"),\n",
      "    bigquery.SchemaField(\"Street\", \"STRING\", description=\"\"),\n",
      "    bigquery.SchemaField(\"Alley\", \"STRING\", description=\"\"),\n",
      "    bigquery.SchemaField(\"LotShape\", \"STRING\", description=\"\"),\n",
      "    bigquery.SchemaField(\"LandContour\", \"STRING\", description=\"\"),\n",
      "    bigquery.SchemaField(\"Utilities\", \"STRING\", description=\"\"),\n",
      "    bigquery.SchemaField(\"LotConfig\", \"STRING\", description=\"\"),\n",
      "    bigquery.SchemaField(\"LandSlope\", \"STRING\", description=\"\"),\n",
      "    bigquery.SchemaField(\"Neighborhood\", \"STRING\", description=\"\"),\n",
      "    bigquery.SchemaField(\"Condition1\", \"STRING\", description=\"\"),\n",
      "    bigquery.SchemaField(\"Condition2\", \"STRING\", description=\"\"),\n",
      "    bigquery.SchemaField(\"BldgType\", \"STRING\", description=\"\"),\n",
      "    bigquery.SchemaField(\"HouseStyle\", \"STRING\", description=\"\"),\n",
      "    bigquery.SchemaField(\"OverallQual\", \"INTEGER\", description=\"\"),\n",
      "    bigquery.SchemaField(\"OverallCond\", \"INTEGER\", description=\"\"),\n",
      "    bigquery.SchemaField(\"YearBuilt\", \"INTEGER\", description=\"\"),\n",
      "    bigquery.SchemaField(\"YearRemodAdd\", \"INTEGER\", description=\"\"),\n",
      "    bigquery.SchemaField(\"RoofStyle\", \"STRING\", description=\"\"),\n",
      "    bigquery.SchemaField(\"RoofMatl\", \"STRING\", description=\"\"),\n",
      "    bigquery.SchemaField(\"Exterior1st\", \"STRING\", description=\"\"),\n",
      "    bigquery.SchemaField(\"Exterior2nd\", \"STRING\", description=\"\"),\n",
      "    bigquery.SchemaField(\"MasVnrType\", \"STRING\", description=\"\"),\n",
      "    bigquery.SchemaField(\"MasVnrArea\", \"INTEGER\", description=\"\"),\n",
      "    bigquery.SchemaField(\"ExterQual\", \"STRING\", description=\"\"),\n",
      "    bigquery.SchemaField(\"ExterCond\", \"STRING\", description=\"\"),\n",
      "    bigquery.SchemaField(\"Foundation\", \"STRING\", description=\"\"),\n",
      "    bigquery.SchemaField(\"BsmtQual\", \"STRING\", description=\"\"),\n",
      "    bigquery.SchemaField(\"BsmtCond\", \"STRING\", description=\"\"),\n",
      "    bigquery.SchemaField(\"BsmtExposure\", \"STRING\", description=\"\"),\n",
      "    bigquery.SchemaField(\"BsmtFinType1\", \"STRING\", description=\"\"),\n",
      "    bigquery.SchemaField(\"BsmtFinSF1\", \"INTEGER\", description=\"\"),\n",
      "    bigquery.SchemaField(\"BsmtFinType2\", \"STRING\", description=\"\"),\n",
      "    bigquery.SchemaField(\"BsmtFinSF2\", \"INTEGER\", description=\"\"),\n",
      "    bigquery.SchemaField(\"BsmtUnfSF\", \"INTEGER\", description=\"\"),\n",
      "    bigquery.SchemaField(\"TotalBsmtSF\", \"INTEGER\", description=\"\"),\n",
      "    bigquery.SchemaField(\"Heating\", \"STRING\", description=\"\"),\n",
      "    bigquery.SchemaField(\"HeatingQC\", \"STRING\", description=\"\"),\n",
      "    bigquery.SchemaField(\"CentralAir\", \"STRING\", description=\"\"),\n",
      "    bigquery.SchemaField(\"Electrical\", \"STRING\", description=\"\"),\n",
      "    bigquery.SchemaField(\"v_1stFlrSF\", \"INTEGER\", description=\"\"),\n",
      "    bigquery.SchemaField(\"v_2ndFlrSF\", \"INTEGER\", description=\"\"),\n",
      "    bigquery.SchemaField(\"LowQualFinSF\", \"INTEGER\", description=\"\"),\n",
      "    bigquery.SchemaField(\"GrLivArea\", \"INTEGER\", description=\"\"),\n",
      "    bigquery.SchemaField(\"BsmtFullBath\", \"INTEGER\", description=\"\"),\n",
      "    bigquery.SchemaField(\"BsmtHalfBath\", \"INTEGER\", description=\"\"),\n",
      "    bigquery.SchemaField(\"FullBath\", \"INTEGER\", description=\"\"),\n",
      "    bigquery.SchemaField(\"HalfBath\", \"INTEGER\", description=\"\"),\n",
      "    bigquery.SchemaField(\"BedroomAbvGr\", \"INTEGER\", description=\"\"),\n",
      "    bigquery.SchemaField(\"KitchenAbvGr\", \"INTEGER\", description=\"\"),\n",
      "    bigquery.SchemaField(\"KitchenQual\", \"STRING\", description=\"\"),\n",
      "    bigquery.SchemaField(\"TotRmsAbvGrd\", \"INTEGER\", description=\"\"),\n",
      "    bigquery.SchemaField(\"Functional\", \"STRING\", description=\"\"),\n",
      "    bigquery.SchemaField(\"Fireplaces\", \"INTEGER\", description=\"\"),\n",
      "    bigquery.SchemaField(\"FireplaceQu\", \"STRING\", description=\"\"),\n",
      "    bigquery.SchemaField(\"GarageType\", \"STRING\", description=\"\"),\n",
      "    bigquery.SchemaField(\"GarageYrBlt\", \"INTEGER\", description=\"\"),\n",
      "    bigquery.SchemaField(\"GarageFinish\", \"STRING\", description=\"\"),\n",
      "    bigquery.SchemaField(\"GarageCars\", \"INTEGER\", description=\"\"),\n",
      "    bigquery.SchemaField(\"GarageArea\", \"INTEGER\", description=\"\"),\n",
      "    bigquery.SchemaField(\"GarageQual\", \"STRING\", description=\"\"),\n",
      "    bigquery.SchemaField(\"GarageCond\", \"STRING\", description=\"\"),\n",
      "    bigquery.SchemaField(\"PavedDrive\", \"STRING\", description=\"\"),\n",
      "    bigquery.SchemaField(\"WoodDeckSF\", \"INTEGER\", description=\"\"),\n",
      "    bigquery.SchemaField(\"OpenPorchSF\", \"INTEGER\", description=\"\"),\n",
      "    bigquery.SchemaField(\"EnclosedPorch\", \"INTEGER\", description=\"\"),\n",
      "    bigquery.SchemaField(\"v_3SsnPorch\", \"INTEGER\", description=\"\"),\n",
      "    bigquery.SchemaField(\"ScreenPorch\", \"INTEGER\", description=\"\"),\n",
      "    bigquery.SchemaField(\"PoolArea\", \"INTEGER\", description=\"\"),\n",
      "    bigquery.SchemaField(\"PoolQC\", \"STRING\", description=\"\"),\n",
      "    bigquery.SchemaField(\"Fence\", \"STRING\", description=\"\"),\n",
      "    bigquery.SchemaField(\"MiscFeature\", \"STRING\", description=\"\"),\n",
      "    bigquery.SchemaField(\"MiscVal\", \"INTEGER\", description=\"\"),\n",
      "    bigquery.SchemaField(\"MoSold\", \"INTEGER\", description=\"\"),\n",
      "    bigquery.SchemaField(\"YrSold\", \"INTEGER\", description=\"\"),\n",
      "    bigquery.SchemaField(\"SaleType\", \"STRING\", description=\"\"),\n",
      "    bigquery.SchemaField(\"SaleCondition\", \"STRING\", description=\"\"),\n",
      "    bigquery.SchemaField(\"Target\", \"INTEGER\", description=\"\"),\n",
      "    bigquery.SchemaField(\"row_id\", \"STRING\", description=\"\")\n",
      "]\n"
     ]
    }
   ],
   "source": [
    "# Combine the snippets into the full schema definition\n",
    "schema_code = \"[\\n    \" + \",\\n    \".join(schema_code_snippets) + \"\\n]\"\n",
    "\n",
    "# Print the generated code\n",
    "print(\"# Define the table schema with various data types\")\n",
    "print(\"schema = \", schema_code)"
   ]
  },
  {
   "cell_type": "markdown",
   "id": "169d1ed5",
   "metadata": {},
   "source": [
    "### Use the schema you just extracted\n",
    "\n",
    "You can now use the schema to create a (new) partitioned Big Query table (just to demonstrate how this is done). You also might add descriptions. Currently you can only have one partitioning column and they only can be long/integers or date fields.\n",
    "\n",
    "Note: I added the category field and use the \"MSSubClass\" as a partition where I would accept integers from 1 to 500.\n",
    "\"Neighborhood\" is used for clustring which means the table wil be sorted to make access easier"
   ]
  },
  {
   "cell_type": "code",
   "execution_count": null,
   "id": "7tlL-jiz0gHN",
   "metadata": {
    "colab": {
     "base_uri": "https://localhost:8080/"
    },
    "executionInfo": {
     "elapsed": 258,
     "status": "ok",
     "timestamp": 1724153910311,
     "user": {
      "displayName": "",
      "userId": ""
     },
     "user_tz": -120
    },
    "id": "7tlL-jiz0gHN",
    "outputId": "3098e02b-c3bf-4f30-c07b-a091004289dc"
   },
   "outputs": [
    {
     "data": {
      "text/plain": [
       "Table(TableReference(DatasetReference('de123456-user-prd-1', 'xgb_regression_project'), 'regression_data'))"
      ]
     },
     "execution_count": 43,
     "metadata": {},
     "output_type": "execute_result"
    }
   ],
   "source": [
    "# Define your dataset and table ID\n",
    "table_id = 'regression_data'\n",
    "\n",
    "# TIMESTAMP,\n",
    "\n",
    "# bigquery.SchemaField(\"category\", \"STRING\", description=\"\")\n",
    "\n",
    "# Define the table schema with various data types\n",
    "schema =  [\n",
    "    bigquery.SchemaField(\"MSSubClass\", \"INTEGER\", description=\"\"),\n",
    "    bigquery.SchemaField(\"MSZoning\", \"STRING\", description=\"\"),\n",
    "    bigquery.SchemaField(\"LotFrontage\", \"INTEGER\", description=\"\"),\n",
    "    bigquery.SchemaField(\"LotArea\", \"INTEGER\", description=\"\"),\n",
    "    bigquery.SchemaField(\"Street\", \"STRING\", description=\"\"),\n",
    "    bigquery.SchemaField(\"Alley\", \"STRING\", description=\"\"),\n",
    "    bigquery.SchemaField(\"LotShape\", \"STRING\", description=\"\"),\n",
    "    bigquery.SchemaField(\"LandContour\", \"STRING\", description=\"\"),\n",
    "    bigquery.SchemaField(\"Utilities\", \"STRING\", description=\"\"),\n",
    "    bigquery.SchemaField(\"LotConfig\", \"STRING\", description=\"\"),\n",
    "    bigquery.SchemaField(\"LandSlope\", \"STRING\", description=\"\"),\n",
    "    bigquery.SchemaField(\"Neighborhood\", \"STRING\", description=\"\"),\n",
    "    bigquery.SchemaField(\"Condition1\", \"STRING\", description=\"\"),\n",
    "    bigquery.SchemaField(\"Condition2\", \"STRING\", description=\"\"),\n",
    "    bigquery.SchemaField(\"BldgType\", \"STRING\", description=\"\"),\n",
    "    bigquery.SchemaField(\"HouseStyle\", \"STRING\", description=\"\"),\n",
    "    bigquery.SchemaField(\"OverallQual\", \"INTEGER\", description=\"\"),\n",
    "    bigquery.SchemaField(\"OverallCond\", \"INTEGER\", description=\"\"),\n",
    "    bigquery.SchemaField(\"YearBuilt\", \"INTEGER\", description=\"\"),\n",
    "    bigquery.SchemaField(\"YearRemodAdd\", \"INTEGER\", description=\"\"),\n",
    "    bigquery.SchemaField(\"RoofStyle\", \"STRING\", description=\"\"),\n",
    "    bigquery.SchemaField(\"RoofMatl\", \"STRING\", description=\"\"),\n",
    "    bigquery.SchemaField(\"Exterior1st\", \"STRING\", description=\"\"),\n",
    "    bigquery.SchemaField(\"Exterior2nd\", \"STRING\", description=\"\"),\n",
    "    bigquery.SchemaField(\"MasVnrType\", \"STRING\", description=\"\"),\n",
    "    bigquery.SchemaField(\"MasVnrArea\", \"INTEGER\", description=\"\"),\n",
    "    bigquery.SchemaField(\"ExterQual\", \"STRING\", description=\"\"),\n",
    "    bigquery.SchemaField(\"ExterCond\", \"STRING\", description=\"\"),\n",
    "    bigquery.SchemaField(\"Foundation\", \"STRING\", description=\"\"),\n",
    "    bigquery.SchemaField(\"BsmtQual\", \"STRING\", description=\"\"),\n",
    "    bigquery.SchemaField(\"BsmtCond\", \"STRING\", description=\"\"),\n",
    "    bigquery.SchemaField(\"BsmtExposure\", \"STRING\", description=\"\"),\n",
    "    bigquery.SchemaField(\"BsmtFinType1\", \"STRING\", description=\"\"),\n",
    "    bigquery.SchemaField(\"BsmtFinSF1\", \"INTEGER\", description=\"\"),\n",
    "    bigquery.SchemaField(\"BsmtFinType2\", \"STRING\", description=\"\"),\n",
    "    bigquery.SchemaField(\"BsmtFinSF2\", \"INTEGER\", description=\"\"),\n",
    "    bigquery.SchemaField(\"BsmtUnfSF\", \"INTEGER\", description=\"\"),\n",
    "    bigquery.SchemaField(\"TotalBsmtSF\", \"INTEGER\", description=\"\"),\n",
    "    bigquery.SchemaField(\"Heating\", \"STRING\", description=\"\"),\n",
    "    bigquery.SchemaField(\"HeatingQC\", \"STRING\", description=\"\"),\n",
    "    bigquery.SchemaField(\"CentralAir\", \"STRING\", description=\"\"),\n",
    "    bigquery.SchemaField(\"Electrical\", \"STRING\", description=\"\"),\n",
    "    bigquery.SchemaField(\"v_1stFlrSF\", \"INTEGER\", description=\"\"),\n",
    "    bigquery.SchemaField(\"v_2ndFlrSF\", \"INTEGER\", description=\"\"),\n",
    "    bigquery.SchemaField(\"LowQualFinSF\", \"INTEGER\", description=\"\"),\n",
    "    bigquery.SchemaField(\"GrLivArea\", \"INTEGER\", description=\"\"),\n",
    "    bigquery.SchemaField(\"BsmtFullBath\", \"INTEGER\", description=\"\"),\n",
    "    bigquery.SchemaField(\"BsmtHalfBath\", \"INTEGER\", description=\"\"),\n",
    "    bigquery.SchemaField(\"FullBath\", \"INTEGER\", description=\"\"),\n",
    "    bigquery.SchemaField(\"HalfBath\", \"INTEGER\", description=\"\"),\n",
    "    bigquery.SchemaField(\"BedroomAbvGr\", \"INTEGER\", description=\"\"),\n",
    "    bigquery.SchemaField(\"KitchenAbvGr\", \"INTEGER\", description=\"\"),\n",
    "    bigquery.SchemaField(\"KitchenQual\", \"STRING\", description=\"\"),\n",
    "    bigquery.SchemaField(\"TotRmsAbvGrd\", \"INTEGER\", description=\"\"),\n",
    "    bigquery.SchemaField(\"Functional\", \"STRING\", description=\"\"),\n",
    "    bigquery.SchemaField(\"Fireplaces\", \"INTEGER\", description=\"\"),\n",
    "    bigquery.SchemaField(\"FireplaceQu\", \"STRING\", description=\"\"),\n",
    "    bigquery.SchemaField(\"GarageType\", \"STRING\", description=\"\"),\n",
    "    bigquery.SchemaField(\"GarageYrBlt\", \"INTEGER\", description=\"\"),\n",
    "    bigquery.SchemaField(\"GarageFinish\", \"STRING\", description=\"\"),\n",
    "    bigquery.SchemaField(\"GarageCars\", \"INTEGER\", description=\"\"),\n",
    "    bigquery.SchemaField(\"GarageArea\", \"INTEGER\", description=\"\"),\n",
    "    bigquery.SchemaField(\"GarageQual\", \"STRING\", description=\"\"),\n",
    "    bigquery.SchemaField(\"GarageCond\", \"STRING\", description=\"\"),\n",
    "    bigquery.SchemaField(\"PavedDrive\", \"STRING\", description=\"\"),\n",
    "    bigquery.SchemaField(\"WoodDeckSF\", \"INTEGER\", description=\"\"),\n",
    "    bigquery.SchemaField(\"OpenPorchSF\", \"INTEGER\", description=\"\"),\n",
    "    bigquery.SchemaField(\"EnclosedPorch\", \"INTEGER\", description=\"\"),\n",
    "    bigquery.SchemaField(\"v_3SsnPorch\", \"INTEGER\", description=\"\"),\n",
    "    bigquery.SchemaField(\"ScreenPorch\", \"INTEGER\", description=\"\"),\n",
    "    bigquery.SchemaField(\"PoolArea\", \"INTEGER\", description=\"\"),\n",
    "    bigquery.SchemaField(\"PoolQC\", \"STRING\", description=\"\"),\n",
    "    bigquery.SchemaField(\"Fence\", \"STRING\", description=\"\"),\n",
    "    bigquery.SchemaField(\"MiscFeature\", \"STRING\", description=\"\"),\n",
    "    bigquery.SchemaField(\"MiscVal\", \"INTEGER\", description=\"\"),\n",
    "    bigquery.SchemaField(\"MoSold\", \"INTEGER\", description=\"\"),\n",
    "    bigquery.SchemaField(\"YrSold\", \"INTEGER\", description=\"\"),\n",
    "    bigquery.SchemaField(\"SaleType\", \"STRING\", description=\"\"),\n",
    "    bigquery.SchemaField(\"SaleCondition\", \"STRING\", description=\"\"),\n",
    "    bigquery.SchemaField(\"Target\", \"INTEGER\", description=\"\"),\n",
    "    bigquery.SchemaField(\"row_id\", \"STRING\", description=\"\"),\n",
    "    bigquery.SchemaField(\"category\", \"STRING\", description=\"Indicating if Test or Training\")\n",
    "]\n",
    "# Define integer range partitioning settings for the \"education_num\" column, could also be year or any other\n",
    "range_partitioning = bigquery.RangePartitioning(\n",
    "    field=\"MSSubClass\",\n",
    "    range_=bigquery.PartitionRange(\n",
    "        start=1,\n",
    "        end=500,\n",
    "        interval=1\n",
    "    )\n",
    ")\n",
    "\n",
    "# Define table reference\n",
    "table_ref = client.dataset(dataset_id).table(table_id)\n",
    "\n",
    "# Define table with schema and partitioning settings\n",
    "table = bigquery.Table(table_ref, schema=schema)\n",
    "table.range_partitioning = range_partitioning\n",
    "\n",
    "# Specify clustering fields directly in the table object\n",
    "table.clustering_fields = [\"Neighborhood\"]\n",
    "\n",
    "# Create the table\n",
    "client.create_table(table)\n"
   ]
  },
  {
   "cell_type": "markdown",
   "id": "CdyVnkHgX6j7",
   "metadata": {
    "id": "CdyVnkHgX6j7"
   },
   "source": [
    "### Import the TEST data also"
   ]
  },
  {
   "cell_type": "code",
   "execution_count": null,
   "id": "1473E4_XX5d6",
   "metadata": {
    "colab": {
     "base_uri": "https://localhost:8080/"
    },
    "executionInfo": {
     "elapsed": 1951,
     "status": "ok",
     "timestamp": 1724154221651,
     "user": {
      "displayName": "",
      "userId": ""
     },
     "user_tz": -120
    },
    "id": "1473E4_XX5d6",
    "outputId": "434726d9-36c6-4b05-d8d6-f7089525cc96"
   },
   "outputs": [
    {
     "name": "stdout",
     "output_type": "stream",
     "text": [
      "Job finished.\n"
     ]
    }
   ],
   "source": [
    "# Define your table ID (which includes dataset)\n",
    "table_name = 'regression_test'\n",
    "table_id = f\"{project_id}.{dataset_id}.{table_name}\"\n",
    "# table_id = '{}.{}.census_train'.format(project_id, dataset_name)\n",
    "\n",
    "# Set up the configuration for the load job\n",
    "job_config = bigquery.LoadJobConfig(\n",
    "    source_format=bigquery.SourceFormat.PARQUET,\n",
    "    write_disposition=bigquery.WriteDisposition.WRITE_TRUNCATE  # This line replaces the data instead of appending\n",
    ")\n",
    "\n",
    "# URI of the Parquet file in Google Cloud Storage\n",
    "# https://github.com/ml-score/knime_meets_python/tree/main/machine_learning/regression\n",
    "# https://www.kaggle.com/c/house-prices-advanced-regression-techniques/overview\n",
    "uri = 'gs://mybucket/dataset_regression_20.parquet'\n",
    "\n",
    "# API request - starts the load job\n",
    "load_job = client.load_table_from_uri(\n",
    "    uri,\n",
    "    table_id,\n",
    "    job_config=job_config\n",
    ")\n",
    "\n",
    "# Wait for the job to complete\n",
    "load_job.result()\n",
    "\n",
    "print(\"Job finished.\")\n"
   ]
  },
  {
   "cell_type": "code",
   "execution_count": null,
   "id": "SJMOjKaqWtgY",
   "metadata": {
    "colab": {
     "base_uri": "https://localhost:8080/"
    },
    "executionInfo": {
     "elapsed": 754,
     "status": "ok",
     "timestamp": 1724154225231,
     "user": {
      "displayName": "",
      "userId": ""
     },
     "user_tz": -120
    },
    "id": "SJMOjKaqWtgY",
    "outputId": "bcd690a5-adf2-42cd-daf0-443f8d2950d2"
   },
   "outputs": [
    {
     "name": "stdout",
     "output_type": "stream",
     "text": [
      "Old:  1stFlrSF  | New:  v_1stFlrSF\n",
      "Old:  2ndFlrSF  | New:  v_2ndFlrSF\n",
      "Old:  3SsnPorch  | New:  v_3SsnPorch\n",
      "Column renaming completed.\n"
     ]
    }
   ],
   "source": [
    "rename_columns_underscore_and_number(project_id, dataset_id, table_name)"
   ]
  },
  {
   "cell_type": "code",
   "execution_count": null,
   "id": "_VI7eDkkXYTG",
   "metadata": {
    "colab": {
     "base_uri": "https://localhost:8080/"
    },
    "executionInfo": {
     "elapsed": 253,
     "status": "ok",
     "timestamp": 1724154226684,
     "user": {
      "displayName": "",
      "userId": ""
     },
     "user_tz": -120
    },
    "id": "_VI7eDkkXYTG",
    "outputId": "8727c512-ba51-4a75-8a74-d1ff5a6825c7"
   },
   "outputs": [
    {
     "name": "stdout",
     "output_type": "stream",
     "text": [
      "Column renaming completed.\n"
     ]
    }
   ],
   "source": [
    "rename_columns_underscore_and_number(project_id, dataset_id, table_name)"
   ]
  },
  {
   "cell_type": "markdown",
   "id": "sTWGDLeEXoJD",
   "metadata": {
    "id": "sTWGDLeEXoJD"
   },
   "source": [
    "## Insert TRAIN and TEST into the (partitioned) target table"
   ]
  },
  {
   "cell_type": "code",
   "execution_count": null,
   "id": "G4ZOiAZkaGpX",
   "metadata": {
    "colab": {
     "base_uri": "https://localhost:8080/"
    },
    "executionInfo": {
     "elapsed": 174,
     "status": "ok",
     "timestamp": 1724154232455,
     "user": {
      "displayName": "",
      "userId": ""
     },
     "user_tz": -120
    },
    "id": "G4ZOiAZkaGpX",
    "outputId": "0d2b09cb-c939-47d7-fc20-cd85ac8d9ae0"
   },
   "outputs": [
    {
     "name": "stdout",
     "output_type": "stream",
     "text": [
      "Source:  de123456-user-prd-1.xgb_regression_project.regression_test  | Target table:  de123456-user-prd-1.xgb_regression_project.regression_data\n"
     ]
    }
   ],
   "source": [
    "# Define your source and destination tables\n",
    "source_table = 'regression_test'\n",
    "source_table_id = f\"{project_id}.{dataset_id}.{source_table}\"\n",
    "\n",
    "destination_table = 'regression_data'\n",
    "destination_table_id = f\"{project_id}.{dataset_id}.{destination_table}\"\n",
    "\n",
    "print(\"Source: \", source_table_id, \" | Target table: \", destination_table_id)"
   ]
  },
  {
   "cell_type": "markdown",
   "id": "mdNl8B0HaOMP",
   "metadata": {
    "id": "mdNl8B0HaOMP"
   },
   "source": [
    "## Make sure the table is empty (also handy if you have to set up the table again)"
   ]
  },
  {
   "cell_type": "code",
   "execution_count": null,
   "id": "pzRQu5mkZ4XE",
   "metadata": {
    "colab": {
     "base_uri": "https://localhost:8080/"
    },
    "executionInfo": {
     "elapsed": 1979,
     "status": "ok",
     "timestamp": 1724154246035,
     "user": {
      "displayName": "",
      "userId": ""
     },
     "user_tz": -120
    },
    "id": "pzRQu5mkZ4XE",
    "outputId": "ed87f795-1d9f-4fb7-c7af-38ae16b1f594"
   },
   "outputs": [
    {
     "name": "stdout",
     "output_type": "stream",
     "text": [
      "Table de123456-user-prd-1.xgb_regression_project.regression_data has been truncated.\n"
     ]
    }
   ],
   "source": [
    "# Create a query to truncate the table\n",
    "query = f\"TRUNCATE TABLE `{destination_table_id}`\"\n",
    "\n",
    "# Execute the query\n",
    "query_job = client.query(query)\n",
    "query_job.result()  # Wait for the job to complete\n",
    "\n",
    "print(f\"Table {destination_table_id} has been truncated.\")"
   ]
  },
  {
   "cell_type": "markdown",
   "id": "FUonodiWay0Q",
   "metadata": {
    "id": "FUonodiWay0Q"
   },
   "source": [
    "## INSERT TEST data first"
   ]
  },
  {
   "cell_type": "code",
   "execution_count": null,
   "id": "b6biYWRXaXLL",
   "metadata": {
    "colab": {
     "base_uri": "https://localhost:8080/"
    },
    "executionInfo": {
     "elapsed": 2528,
     "status": "ok",
     "timestamp": 1724154270881,
     "user": {
      "displayName": "",
      "userId": ""
     },
     "user_tz": -120
    },
    "id": "b6biYWRXaXLL",
    "outputId": "f8aab8ed-5ad1-4b3f-b08f-ecc5fbc7c74e"
   },
   "outputs": [
    {
     "name": "stdout",
     "output_type": "stream",
     "text": [
      "Data has been appended successfully.\n"
     ]
    }
   ],
   "source": [
    "# SQL query to append data from source to destination\n",
    "query = f\"\"\"\n",
    "INSERT INTO `{destination_table_id}`\n",
    "SELECT *\n",
    ", '{source_table}' AS category\n",
    "FROM `{source_table_id}`\n",
    "WHERE row_id  NOT IN (SELECT DISTINCT row_id FROM `{destination_table_id}` WHERE category = '{source_table}')\n",
    "\"\"\"\n",
    "\n",
    "# Execute the query\n",
    "query_job = client.query(query)  # Make an API request.\n",
    "\n",
    "# Wait for the job to complete\n",
    "query_job.result()\n",
    "\n",
    "print(\"Data has been appended successfully.\")\n"
   ]
  },
  {
   "cell_type": "markdown",
   "id": "Q5GrPEiMa-lu",
   "metadata": {
    "id": "Q5GrPEiMa-lu"
   },
   "source": [
    "## now insert TRAIN data"
   ]
  },
  {
   "cell_type": "code",
   "execution_count": null,
   "id": "llwt0xyuY_-i",
   "metadata": {
    "id": "llwt0xyuY_-i"
   },
   "outputs": [],
   "source": [
    "# Define your source and destination tables\n",
    "source_table = 'regression_train'\n",
    "source_table_id = f\"{project_id}.{dataset_id}.{source_table}\""
   ]
  },
  {
   "cell_type": "code",
   "execution_count": null,
   "id": "Q8CmcmK6ZYY8",
   "metadata": {
    "colab": {
     "base_uri": "https://localhost:8080/"
    },
    "executionInfo": {
     "elapsed": 2383,
     "status": "ok",
     "timestamp": 1724154277509,
     "user": {
      "displayName": "",
      "userId": ""
     },
     "user_tz": -120
    },
    "id": "Q8CmcmK6ZYY8",
    "outputId": "7c6abd6b-d1d5-45ce-a41f-438aa97f2be2"
   },
   "outputs": [
    {
     "name": "stdout",
     "output_type": "stream",
     "text": [
      "Data has been appended successfully.\n"
     ]
    }
   ],
   "source": [
    "# SQL query to append data from source to destination\n",
    "query = f\"\"\"\n",
    "INSERT INTO `{destination_table_id}`\n",
    "SELECT *\n",
    ", '{source_table}' AS category\n",
    "FROM `{source_table_id}`\n",
    "WHERE row_id  NOT IN (SELECT DISTINCT row_id FROM `{destination_table_id}` WHERE category = '{source_table}')\n",
    "\"\"\"\n",
    "# Execute the query\n",
    "query_job = client.query(query)  # Make an API request.\n",
    "\n",
    "# Wait for the job to complete\n",
    "query_job.result()\n",
    "\n",
    "print(\"Data has been appended successfully.\")\n"
   ]
  },
  {
   "cell_type": "code",
   "execution_count": null,
   "id": "zCFO2OeSZU18",
   "metadata": {
    "colab": {
     "base_uri": "https://localhost:8080/"
    },
    "executionInfo": {
     "elapsed": 1545,
     "status": "ok",
     "timestamp": 1724154280109,
     "user": {
      "displayName": "",
      "userId": ""
     },
     "user_tz": -120
    },
    "id": "zCFO2OeSZU18",
    "outputId": "a68e5c0c-b91d-4ba9-883e-77cc97a66118"
   },
   "outputs": [
    {
     "name": "stdout",
     "output_type": "stream",
     "text": [
      "           category     avg_target  Anzahl\n",
      "0   regression_test  177287.848375     277\n",
      "1  regression_train  181771.945900    1183\n"
     ]
    }
   ],
   "source": [
    "# SQL Query - modify the query to match your table and desired aggregation\n",
    "query = f\"\"\"\n",
    "SELECT\n",
    "  category,\n",
    "  AVG(Target) as avg_target,\n",
    "  COUNT(*) AS Anzahl\n",
    "FROM\n",
    "  `{destination_table_id}` AS t1\n",
    "  GROUP BY category\n",
    "  ORDER BY category\n",
    "\"\"\"\n",
    "\n",
    "# Execute the query and load results into a DataFrame\n",
    "query_job = client.query(query)  # Run the query\n",
    "df = query_job.to_dataframe()  # Convert the results into a pandas DataFrame\n",
    "\n",
    "# Display the DataFrame\n",
    "print(df)"
   ]
  }
 ],
 "metadata": {
  "colab": {
   "name": "GCP - 205 - Basic Big Query Operations Regression",
   "provenance": []
  },
  "kernelspec": {
   "display_name": "Python 3 (ipykernel)",
   "language": "python",
   "name": "python3"
  },
  "language_info": {
   "codemirror_mode": {
    "name": "ipython",
    "version": 3
   },
   "file_extension": ".py",
   "mimetype": "text/x-python",
   "name": "python",
   "nbconvert_exporter": "python",
   "pygments_lexer": "ipython3",
   "version": "3.9.16"
  }
 },
 "nbformat": 4,
 "nbformat_minor": 5
}
