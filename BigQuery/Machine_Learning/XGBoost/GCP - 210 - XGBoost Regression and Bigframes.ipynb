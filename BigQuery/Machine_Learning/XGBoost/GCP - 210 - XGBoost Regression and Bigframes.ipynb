{
 "cells": [
  {
   "cell_type": "markdown",
   "id": "X-CCyHRL6dN8",
   "metadata": {
    "id": "X-CCyHRL6dN8"
   },
   "source": [
    "# Goggle Cloud - XGBoost Regression and Bigframes \n",
    "\n",
    "<img src=\"https://lh3.googleusercontent.com/UiNooY4LUgW_oTvpsNhPpQzsstV5W8F7rYgxgGBD85cWJoLmrOzhVs_ksK_vgx40SHs7jCqkTkCk=e14-rj-sc0xffffff-h130-w32\" alt=\"Vertex AI logo\">\n",
    "\n",
    "Bigframes allows you to work with larger datasets in Vertex AI Notebooks like you would with pandas dataframes. The data is being stored in BigQuery under the hood in the [Google Region](https://cloud.google.com/about/locations) you selcted. So you will not be limited to the memory of your 'local' engine you fired up to use Vertex AI notebooks in the first place. Though you might want to consider the costs that might be associated with processing very large datasets.\n",
    "\n",
    "Vertex AI / Colab (now) also offers the option to schedule notebooks directly.\n",
    "\n",
    "* [Use Python XGBoost and Optuna hyper parameter tuning to build model and deploy with KNIME Python nodes](https://github.com/ml-score/knime_meets_python/blob/main/machine_learning/binary/notebooks/kn_example_python_xgboost_hyper_parameter_optuna.ipynb)\n",
    "* [Machine Learning Fundamentals with BigQuery DataFrames](https://github.com/googleapis/python-bigquery-dataframes/blob/main/notebooks/getting_started/ml_fundamentals_bq_dataframes.ipynb)\n",
    "* [BigQuery DataFrames: Your Gateway to Scalable Data Analysis and ML in the Cloud](https://medium.com/technoesis/bigquery-dataframes-your-gateway-to-scalable-data-analysis-and-ml-in-the-cloud-73c2d2466549)\n",
    "* [End-to-end user journey for each model](https://cloud.google.com/bigquery/docs/e2e-journey)\n",
    "\n",
    "---\n",
    "\n",
    "by Markus Lauber (https://medium.com/@mlxl)\n",
    "\n",
    "https://yam-united.telekom.com/profile/markus-lauber/\n",
    "\n"
   ]
  },
  {
   "cell_type": "markdown",
   "id": "7dOfB6i0xihY",
   "metadata": {
    "id": "7dOfB6i0xihY"
   },
   "source": [
    "---\n",
    "#### Google Github with massive Code base for Trainings\n",
    "https://github.com/GoogleCloudPlatform/training-data-analyst\n",
    "\n",
    "https://github.com/GoogleCloudPlatform/training-data-analyst/tree/master/self-paced-labs/vertex-ai"
   ]
  },
  {
   "cell_type": "markdown",
   "id": "wVQvy6lybVIc",
   "metadata": {
    "id": "wVQvy6lybVIc"
   },
   "source": [
    "### MEDIUM - more articles to consider\n",
    "\n",
    "\n",
    "[Getting Started with BigQuery ML: A Practical Tutorial for Beginners](https://medium.com/@dipan.saha/getting-started-with-bigquery-ml-a-practical-tutorial-for-beginners-9653329d2cc4)\n",
    "\n",
    "\n",
    "[How to use advance feature engineering to preprocess data in BigQuery ML](https://cloud.google.com/blog/products/data-analytics/preprocess-data-use-bigquery-ml)"
   ]
  },
  {
   "cell_type": "code",
   "execution_count": 55,
   "id": "5EFU28XB7QYX",
   "metadata": {
    "colab": {
     "base_uri": "https://localhost:8080/"
    },
    "executionInfo": {
     "elapsed": 4,
     "status": "ok",
     "timestamp": 1724156174993,
     "user": {
      "displayName": "",
      "userId": ""
     },
     "user_tz": -120
    },
    "id": "5EFU28XB7QYX",
    "outputId": "17afff6f-f42b-4929-eb8d-8948400c607e"
   },
   "outputs": [
    {
     "name": "stdout",
     "output_type": "stream",
     "text": [
      "WARNING: google.colab.auth.authenticate_user() is not supported in Colab Enterprise.\n"
     ]
    }
   ],
   "source": [
    "# Prepare the environment and the packages\n",
    "from google.colab import auth\n",
    "auth.authenticate_user()\n",
    "project_id = 'de123456-user-prd-1'\n",
    "dataset_id = 'xgb_regression_project'\n",
    "region_id = 'europe-west3' #  https://cloud.google.com/bigquery/docs/locations#supported_locations\n",
    "\n",
    "# https://cloud.google.com/about/locations\n",
    "\n",
    "from google.cloud import bigquery\n",
    "import pandas as pd\n",
    "from pandas_gbq import to_gbq\n",
    "\n",
    "import bigframes.pandas as bpd\n",
    "\n",
    "# Initialize the BigQuery client\n",
    "client = bigquery.Client(project=project_id)"
   ]
  },
  {
   "cell_type": "code",
   "execution_count": 56,
   "id": "E_PpAy5-kDNe",
   "metadata": {
    "executionInfo": {
     "elapsed": 237,
     "status": "ok",
     "timestamp": 1724156186193,
     "user": {
      "displayName": "",
      "userId": ""
     },
     "user_tz": -120
    },
    "id": "E_PpAy5-kDNe"
   },
   "outputs": [],
   "source": [
    "from google.cloud import aiplatform\n",
    "import joblib"
   ]
  },
  {
   "cell_type": "code",
   "execution_count": 58,
   "id": "tfJmSlXxWs8I",
   "metadata": {
    "executionInfo": {
     "elapsed": 2,
     "status": "ok",
     "timestamp": 1724156191005,
     "user": {
      "displayName": "",
      "userId": ""
     },
     "user_tz": -120
    },
    "id": "tfJmSlXxWs8I"
   },
   "outputs": [],
   "source": [
    "from bigframes.ml.model_selection import train_test_split"
   ]
  },
  {
   "cell_type": "markdown",
   "id": "_iLb923F4Hyv",
   "metadata": {
    "id": "_iLb923F4Hyv"
   },
   "source": [
    "#### Class XGBRegressor\n",
    "\n",
    "https://cloud.google.com/python/docs/reference/bigframes/latest/bigframes.ml.ensemble.XGBRegressor"
   ]
  },
  {
   "cell_type": "code",
   "execution_count": 57,
   "id": "b5HTJKjvZiKZ",
   "metadata": {
    "executionInfo": {
     "elapsed": 919,
     "status": "ok",
     "timestamp": 1724156190733,
     "user": {
      "displayName": "",
      "userId": ""
     },
     "user_tz": -120
    },
    "id": "b5HTJKjvZiKZ"
   },
   "outputs": [],
   "source": [
    "# https://cloud.google.com/python/docs/reference/bigframes/latest/bigframes.ml.ensemble.XGBRegressor\n",
    "\n",
    "from bigframes.ml.ensemble import XGBRegressor\n",
    "# import xgboost as xgb"
   ]
  },
  {
   "cell_type": "code",
   "execution_count": 59,
   "id": "gf0cJqX68V7o",
   "metadata": {
    "executionInfo": {
     "elapsed": 1,
     "status": "ok",
     "timestamp": 1724156193135,
     "user": {
      "displayName": "",
      "userId": ""
     },
     "user_tz": -120
    },
    "id": "gf0cJqX68V7o"
   },
   "outputs": [],
   "source": [
    "# Note: The project option is not required in all environments.\n",
    "# On BigQuery Studio, the project ID is automatically detected.\n",
    "bpd.options.bigquery.project = project_id\n",
    "\n",
    "# Note: The location option is not required.\n",
    "# It defaults to the location of the first table or query\n",
    "# passed to read_gbq(). For APIs where a location can't be\n",
    "# auto-detected, the location defaults to the \"US\" location.\n",
    "bpd.options.bigquery.location = region_id"
   ]
  },
  {
   "cell_type": "code",
   "execution_count": null,
   "id": "GUwtydYq77bufWr1aLoTNcYK",
   "metadata": {
    "id": "GUwtydYq77bufWr1aLoTNcYK",
    "tags": []
   },
   "outputs": [],
   "source": [
    "### GCP - XGBoost and Bigframes"
   ]
  },
  {
   "cell_type": "code",
   "execution_count": 60,
   "id": "6UEMEBtbb0RM",
   "metadata": {
    "colab": {
     "base_uri": "https://localhost:8080/"
    },
    "executionInfo": {
     "elapsed": 216,
     "status": "ok",
     "timestamp": 1724156196021,
     "user": {
      "displayName": "",
      "userId": ""
     },
     "user_tz": -120
    },
    "id": "6UEMEBtbb0RM",
    "outputId": "c9fbbdc9-8ac5-4a65-ae88-ebfc8914007b"
   },
   "outputs": [
    {
     "name": "stdout",
     "output_type": "stream",
     "text": [
      "Train (train_table_id):  de123456-user-prd-1.xgb_regression_project.regression_train  - Test (test_table_id):  de123456-user-prd-1.xgb_regression_project.regression_test\n",
      "Train NEW (train_table_id_new):  de123456-user-prd-1.xgb_regression_project.regression_train_new  - Test NEW (test_table_id_new):  de123456-user-prd-1.xgb_regression_project.regression_test_new\n"
     ]
    }
   ],
   "source": [
    "# Define your source and destination tables\n",
    "train_table = 'regression_train'\n",
    "train_table_id = f\"{project_id}.{dataset_id}.{train_table}\"\n",
    "train_table_id_new = f\"{project_id}.{dataset_id}.{train_table}_new\"\n",
    "test_table = 'regression_test'\n",
    "test_table_id = f\"{project_id}.{dataset_id}.{test_table}\"\n",
    "test_table_id_new = f\"{project_id}.{dataset_id}.{test_table}_new\"\n",
    "\n",
    "print(\"Train (train_table_id): \", train_table_id, \" - Test (test_table_id): \", test_table_id)\n",
    "print(\"Train NEW (train_table_id_new): \", train_table_id_new, \" - Test NEW (test_table_id_new): \", test_table_id_new)"
   ]
  },
  {
   "cell_type": "code",
   "execution_count": 61,
   "id": "jaPyiiZjWXLe",
   "metadata": {
    "executionInfo": {
     "elapsed": 1813,
     "status": "ok",
     "timestamp": 1724156202778,
     "user": {
      "displayName": "",
      "userId": ""
     },
     "user_tz": -120
    },
    "id": "jaPyiiZjWXLe"
   },
   "outputs": [],
   "source": [
    "# SQL query to get the first 10 rows as a sample file to see the structure\n",
    "query = f\"\"\"\n",
    "SELECT *\n",
    "FROM `{train_table_id}`\n",
    "LIMIT 10\n",
    "\"\"\"\n",
    "\n",
    "# Execute the query and load results into a DataFrame\n",
    "query_job = client.query(query)  # Run the query\n",
    "df = query_job.to_dataframe()  # Convert the results into a pandas DataFrame\n",
    "\n",
    "\n",
    "# Convert to bqplot DataFrame (bpd)\n",
    "# data_test_bpd = bpd.DataFrame(data_test)"
   ]
  },
  {
   "cell_type": "code",
   "execution_count": 62,
   "id": "OVfNit0VWwyU",
   "metadata": {
    "colab": {
     "base_uri": "https://localhost:8080/"
    },
    "executionInfo": {
     "elapsed": 210,
     "status": "ok",
     "timestamp": 1724156205583,
     "user": {
      "displayName": "",
      "userId": ""
     },
     "user_tz": -120
    },
    "id": "OVfNit0VWwyU",
    "outputId": "4720dae5-b8bd-49fe-f310-12e9f06e2eef"
   },
   "outputs": [
    {
     "name": "stdout",
     "output_type": "stream",
     "text": [
      "df shape:            (10, 81)\n",
      "df[features] shape:  (10, 79)\n",
      "categorical columns: ['MSZoning', 'Street', 'Alley', 'LotShape', 'LandContour', 'Utilities', 'LotConfig', 'LandSlope', 'Neighborhood', 'Condition1', 'Condition2', 'BldgType', 'HouseStyle', 'RoofStyle', 'RoofMatl', 'Exterior1st', 'Exterior2nd', 'MasVnrType', 'ExterQual', 'ExterCond', 'Foundation', 'BsmtQual', 'BsmtCond', 'BsmtExposure', 'BsmtFinType1', 'BsmtFinType2', 'Heating', 'HeatingQC', 'CentralAir', 'Electrical', 'KitchenQual', 'Functional', 'FireplaceQu', 'GarageType', 'GarageFinish', 'GarageQual', 'GarageCond', 'PavedDrive', 'PoolQC', 'Fence', 'MiscFeature', 'SaleType', 'SaleCondition']\n",
      "numerical columns: ['MSSubClass', 'LotFrontage', 'LotArea', 'OverallQual', 'OverallCond', 'YearBuilt', 'YearRemodAdd', 'MasVnrArea', 'BsmtFinSF1', 'BsmtFinSF2', 'BsmtUnfSF', 'TotalBsmtSF', 'v_1stFlrSF', 'v_2ndFlrSF', 'LowQualFinSF', 'GrLivArea', 'BsmtFullBath', 'BsmtHalfBath', 'FullBath', 'HalfBath', 'BedroomAbvGr', 'KitchenAbvGr', 'TotRmsAbvGrd', 'Fireplaces', 'GarageYrBlt', 'GarageCars', 'GarageArea', 'WoodDeckSF', 'OpenPorchSF', 'EnclosedPorch', 'v_3SsnPorch', 'ScreenPorch', 'PoolArea', 'MiscVal', 'MoSold', 'YrSold']\n",
      "feature columns: ['MSSubClass', 'MSZoning', 'LotFrontage', 'LotArea', 'Street', 'Alley', 'LotShape', 'LandContour', 'Utilities', 'LotConfig', 'LandSlope', 'Neighborhood', 'Condition1', 'Condition2', 'BldgType', 'HouseStyle', 'OverallQual', 'OverallCond', 'YearBuilt', 'YearRemodAdd', 'RoofStyle', 'RoofMatl', 'Exterior1st', 'Exterior2nd', 'MasVnrType', 'MasVnrArea', 'ExterQual', 'ExterCond', 'Foundation', 'BsmtQual', 'BsmtCond', 'BsmtExposure', 'BsmtFinType1', 'BsmtFinSF1', 'BsmtFinType2', 'BsmtFinSF2', 'BsmtUnfSF', 'TotalBsmtSF', 'Heating', 'HeatingQC', 'CentralAir', 'Electrical', 'v_1stFlrSF', 'v_2ndFlrSF', 'LowQualFinSF', 'GrLivArea', 'BsmtFullBath', 'BsmtHalfBath', 'FullBath', 'HalfBath', 'BedroomAbvGr', 'KitchenAbvGr', 'KitchenQual', 'TotRmsAbvGrd', 'Functional', 'Fireplaces', 'FireplaceQu', 'GarageType', 'GarageYrBlt', 'GarageFinish', 'GarageCars', 'GarageArea', 'GarageQual', 'GarageCond', 'PavedDrive', 'WoodDeckSF', 'OpenPorchSF', 'EnclosedPorch', 'v_3SsnPorch', 'ScreenPorch', 'PoolArea', 'PoolQC', 'Fence', 'MiscFeature', 'MiscVal', 'MoSold', 'YrSold', 'SaleType', 'SaleCondition']\n",
      "rest columns: ['Target', 'row_id']\n"
     ]
    }
   ],
   "source": [
    "excluded_features = ['row_id']\n",
    "label = ['Target']\n",
    "\n",
    "# features = [feat for feat in data.columns if feat not in excluded_features and not feat==label]\n",
    "df_features = [feat for feat in df.columns if feat not in excluded_features and feat not in label]\n",
    "\n",
    "df_num_cols = df[df_features].select_dtypes(include='number').columns.tolist()\n",
    "df_cat_cols = df[df_features].select_dtypes(exclude='number').columns.tolist()\n",
    "\n",
    "df_rest_cols = [feat for feat in df.columns if feat not in df_cat_cols and feat not in df_num_cols]\n",
    "\n",
    "print(f'''{\"df shape:\":20} {df.shape}\n",
    "{\"df[features] shape:\":20} {df[df_features].shape}\n",
    "categorical columns: {df_cat_cols}\n",
    "numerical columns: {df_num_cols}\n",
    "feature columns: {df_features}\n",
    "rest columns: {df_rest_cols}''')\n",
    "\n",
    "# THX David Gutmann"
   ]
  },
  {
   "cell_type": "code",
   "execution_count": 63,
   "id": "Qqe3mHCtZXey",
   "metadata": {
    "colab": {
     "base_uri": "https://localhost:8080/"
    },
    "executionInfo": {
     "elapsed": 408,
     "status": "ok",
     "timestamp": 1724156211609,
     "user": {
      "displayName": "",
      "userId": ""
     },
     "user_tz": -120
    },
    "id": "Qqe3mHCtZXey",
    "outputId": "55015e39-7f87-4b82-d29f-d6afee05bf99"
   },
   "outputs": [
    {
     "name": "stdout",
     "output_type": "stream",
     "text": [
      "df_num_cols_str:  'MSSubClass', 'LotFrontage', 'LotArea', 'OverallQual', 'OverallCond', 'YearBuilt', 'YearRemodAdd', 'MasVnrArea', 'BsmtFinSF1', 'BsmtFinSF2', 'BsmtUnfSF', 'TotalBsmtSF', 'v_1stFlrSF', 'v_2ndFlrSF', 'LowQualFinSF', 'GrLivArea', 'BsmtFullBath', 'BsmtHalfBath', 'FullBath', 'HalfBath', 'BedroomAbvGr', 'KitchenAbvGr', 'TotRmsAbvGrd', 'Fireplaces', 'GarageYrBlt', 'GarageCars', 'GarageArea', 'WoodDeckSF', 'OpenPorchSF', 'EnclosedPorch', 'v_3SsnPorch', 'ScreenPorch', 'PoolArea', 'MiscVal', 'MoSold', 'YrSold'\n",
      "df_cat_cols_str:  'MSZoning', 'Street', 'Alley', 'LotShape', 'LandContour', 'Utilities', 'LotConfig', 'LandSlope', 'Neighborhood', 'Condition1', 'Condition2', 'BldgType', 'HouseStyle', 'RoofStyle', 'RoofMatl', 'Exterior1st', 'Exterior2nd', 'MasVnrType', 'ExterQual', 'ExterCond', 'Foundation', 'BsmtQual', 'BsmtCond', 'BsmtExposure', 'BsmtFinType1', 'BsmtFinType2', 'Heating', 'HeatingQC', 'CentralAir', 'Electrical', 'KitchenQual', 'Functional', 'FireplaceQu', 'GarageType', 'GarageFinish', 'GarageQual', 'GarageCond', 'PavedDrive', 'PoolQC', 'Fence', 'MiscFeature', 'SaleType', 'SaleCondition'\n",
      "df_target_str:  'Target'\n"
     ]
    }
   ],
   "source": [
    "# Format columns lists as strings for the query\n",
    "df_num_cols_str = ', '.join([f\"'{col}'\" for col in df_num_cols])\n",
    "df_cat_cols_str = ', '.join([f\"'{col}'\" for col in df_cat_cols])\n",
    "df_target_str = ', '.join([f\"'{col}'\" for col in label])\n",
    "\n",
    "print(\"df_num_cols_str: \", df_num_cols_str)\n",
    "print(\"df_cat_cols_str: \", df_cat_cols_str)\n",
    "print(\"df_target_str: \", df_target_str)"
   ]
  },
  {
   "cell_type": "code",
   "execution_count": 64,
   "id": "rdWFg5E3RiZc",
   "metadata": {
    "executionInfo": {
     "elapsed": 472,
     "status": "ok",
     "timestamp": 1724156215581,
     "user": {
      "displayName": "",
      "userId": ""
     },
     "user_tz": -120
    },
    "id": "rdWFg5E3RiZc"
   },
   "outputs": [],
   "source": [
    "# Define the SQL query to create or replace a table with the converted values for the Target variable\n",
    "query = f\"\"\"\n",
    "CREATE OR REPLACE TABLE `{train_table_id_new}` AS\n",
    "  SELECT  SAFE_CAST(Target AS INT64) AS Target_int\n",
    "        , *\n",
    "FROM `{train_table_id}`\n",
    "\"\"\"\n",
    "\n",
    "# Run the query\n",
    "query_job = client.query(query)"
   ]
  },
  {
   "cell_type": "code",
   "execution_count": 65,
   "id": "dnesvS4hRrOl",
   "metadata": {
    "executionInfo": {
     "elapsed": 467,
     "status": "ok",
     "timestamp": 1724156216811,
     "user": {
      "displayName": "",
      "userId": ""
     },
     "user_tz": -120
    },
    "id": "dnesvS4hRrOl"
   },
   "outputs": [],
   "source": [
    "# Define the SQL query to create or replace a table with the converted values\n",
    "query = f\"\"\"\n",
    "CREATE OR REPLACE TABLE `{test_table_id_new}` AS\n",
    "  SELECT  SAFE_CAST(Target AS INT64) AS Target_int\n",
    "        , *\n",
    "FROM `{test_table_id}`\n",
    "\"\"\"\n",
    "\n",
    "# Run the query\n",
    "query_job = client.query(query)"
   ]
  },
  {
   "cell_type": "code",
   "execution_count": 68,
   "id": "8XiLZ4GtVWnm",
   "metadata": {
    "executionInfo": {
     "elapsed": 309,
     "status": "ok",
     "timestamp": 1724156230458,
     "user": {
      "displayName": "",
      "userId": ""
     },
     "user_tz": -120
    },
    "id": "8XiLZ4GtVWnm"
   },
   "outputs": [],
   "source": [
    "# del data"
   ]
  },
  {
   "cell_type": "code",
   "execution_count": 70,
   "id": "NZpUW5Wr_3_V",
   "metadata": {
    "colab": {
     "base_uri": "https://localhost:8080/",
     "height": 391
    },
    "executionInfo": {
     "elapsed": 8788,
     "status": "ok",
     "timestamp": 1724156247262,
     "user": {
      "displayName": "",
      "userId": ""
     },
     "user_tz": -120
    },
    "id": "NZpUW5Wr_3_V",
    "outputId": "de3a9f3f-7619-4a51-da87-adf83a23c305"
   },
   "outputs": [
    {
     "name": "stderr",
     "output_type": "stream",
     "text": [
      "/usr/local/lib/python3.10/dist-packages/IPython/core/interactiveshell.py:3553: UserWarning: Reading cached table from 2024-08-20 08:24:49.649767+00:00 to avoid incompatibilies with previous reads of this table. To read the latest version, set `use_cache=False` or close the current session with Session.close() or bigframes.pandas.close_session().\n",
      "  exec(code_obj, self.user_global_ns, self.user_ns)\n"
     ]
    },
    {
     "data": {
      "text/html": [
       "Query job 50606aff-0bb7-42f2-ba8f-c1f2341b6f5e is DONE. 650.7 kB processed. <a target=\"_blank\" href=\"https://console.cloud.google.com/bigquery?project=de123456-user-prd-1&j=bq:europe-west3:50606aff-0bb7-42f2-ba8f-c1f2341b6f5e&page=queryresults\">Open Job</a>"
      ],
      "text/plain": [
       "<IPython.core.display.HTML object>"
      ]
     },
     "metadata": {},
     "output_type": "display_data"
    },
    {
     "data": {
      "text/html": [
       "Query job 78be96be-602f-402a-a8e7-eb4d9fb2c18a is DONE. 0 Bytes processed. <a target=\"_blank\" href=\"https://console.cloud.google.com/bigquery?project=de123456-user-prd-1&j=bq:europe-west3:78be96be-602f-402a-a8e7-eb4d9fb2c18a&page=queryresults\">Open Job</a>"
      ],
      "text/plain": [
       "<IPython.core.display.HTML object>"
      ]
     },
     "metadata": {},
     "output_type": "display_data"
    },
    {
     "data": {
      "text/html": [
       "Query job 2aea627b-c7b9-49dc-9350-ecd5cafa6dcd is DONE. 2.8 kB processed. <a target=\"_blank\" href=\"https://console.cloud.google.com/bigquery?project=de123456-user-prd-1&j=bq:europe-west3:2aea627b-c7b9-49dc-9350-ecd5cafa6dcd&page=queryresults\">Open Job</a>"
      ],
      "text/plain": [
       "<IPython.core.display.HTML object>"
      ]
     },
     "metadata": {},
     "output_type": "display_data"
    },
    {
     "data": {
      "text/html": [
       "<div>\n",
       "<style scoped>\n",
       "    .dataframe tbody tr th:only-of-type {\n",
       "        vertical-align: middle;\n",
       "    }\n",
       "\n",
       "    .dataframe tbody tr th {\n",
       "        vertical-align: top;\n",
       "    }\n",
       "\n",
       "    .dataframe thead th {\n",
       "        text-align: right;\n",
       "    }\n",
       "</style>\n",
       "<table border=\"1\" class=\"dataframe\">\n",
       "  <thead>\n",
       "    <tr style=\"text-align: right;\">\n",
       "      <th></th>\n",
       "      <th>Target_int</th>\n",
       "      <th>MSSubClass</th>\n",
       "      <th>MSZoning</th>\n",
       "      <th>LotFrontage</th>\n",
       "      <th>LotArea</th>\n",
       "      <th>Street</th>\n",
       "      <th>Alley</th>\n",
       "      <th>LotShape</th>\n",
       "      <th>LandContour</th>\n",
       "      <th>Utilities</th>\n",
       "      <th>...</th>\n",
       "      <th>PoolQC</th>\n",
       "      <th>Fence</th>\n",
       "      <th>MiscFeature</th>\n",
       "      <th>MiscVal</th>\n",
       "      <th>MoSold</th>\n",
       "      <th>YrSold</th>\n",
       "      <th>SaleType</th>\n",
       "      <th>SaleCondition</th>\n",
       "      <th>Target</th>\n",
       "      <th>row_id</th>\n",
       "    </tr>\n",
       "    <tr>\n",
       "      <th>train_id</th>\n",
       "      <th></th>\n",
       "      <th></th>\n",
       "      <th></th>\n",
       "      <th></th>\n",
       "      <th></th>\n",
       "      <th></th>\n",
       "      <th></th>\n",
       "      <th></th>\n",
       "      <th></th>\n",
       "      <th></th>\n",
       "      <th></th>\n",
       "      <th></th>\n",
       "      <th></th>\n",
       "      <th></th>\n",
       "      <th></th>\n",
       "      <th></th>\n",
       "      <th></th>\n",
       "      <th></th>\n",
       "      <th></th>\n",
       "      <th></th>\n",
       "      <th></th>\n",
       "    </tr>\n",
       "  </thead>\n",
       "  <tbody>\n",
       "    <tr>\n",
       "      <th>0</th>\n",
       "      <td>166000</td>\n",
       "      <td>20</td>\n",
       "      <td>RL</td>\n",
       "      <td>80</td>\n",
       "      <td>11900</td>\n",
       "      <td>Pave</td>\n",
       "      <td>NA</td>\n",
       "      <td>IR1</td>\n",
       "      <td>Lvl</td>\n",
       "      <td>AllPub</td>\n",
       "      <td>...</td>\n",
       "      <td>NA</td>\n",
       "      <td>NA</td>\n",
       "      <td>NA</td>\n",
       "      <td>0</td>\n",
       "      <td>6</td>\n",
       "      <td>2008</td>\n",
       "      <td>WD</td>\n",
       "      <td>Normal</td>\n",
       "      <td>166000</td>\n",
       "      <td>Row830</td>\n",
       "    </tr>\n",
       "    <tr>\n",
       "      <th>1</th>\n",
       "      <td>582933</td>\n",
       "      <td>60</td>\n",
       "      <td>RL</td>\n",
       "      <td>107</td>\n",
       "      <td>13891</td>\n",
       "      <td>Pave</td>\n",
       "      <td>NA</td>\n",
       "      <td>Reg</td>\n",
       "      <td>Lvl</td>\n",
       "      <td>AllPub</td>\n",
       "      <td>...</td>\n",
       "      <td>NA</td>\n",
       "      <td>NA</td>\n",
       "      <td>NA</td>\n",
       "      <td>0</td>\n",
       "      <td>1</td>\n",
       "      <td>2009</td>\n",
       "      <td>New</td>\n",
       "      <td>Partial</td>\n",
       "      <td>582933</td>\n",
       "      <td>Row803</td>\n",
       "    </tr>\n",
       "    <tr>\n",
       "      <th>2</th>\n",
       "      <td>130000</td>\n",
       "      <td>70</td>\n",
       "      <td>RH</td>\n",
       "      <td>55</td>\n",
       "      <td>8525</td>\n",
       "      <td>Pave</td>\n",
       "      <td>NA</td>\n",
       "      <td>Reg</td>\n",
       "      <td>Bnk</td>\n",
       "      <td>AllPub</td>\n",
       "      <td>...</td>\n",
       "      <td>NA</td>\n",
       "      <td>NA</td>\n",
       "      <td>NA</td>\n",
       "      <td>0</td>\n",
       "      <td>11</td>\n",
       "      <td>2008</td>\n",
       "      <td>WD</td>\n",
       "      <td>Abnorml</td>\n",
       "      <td>130000</td>\n",
       "      <td>Row1234</td>\n",
       "    </tr>\n",
       "    <tr>\n",
       "      <th>3</th>\n",
       "      <td>385000</td>\n",
       "      <td>20</td>\n",
       "      <td>RL</td>\n",
       "      <td>68</td>\n",
       "      <td>50271</td>\n",
       "      <td>Pave</td>\n",
       "      <td>NA</td>\n",
       "      <td>IR1</td>\n",
       "      <td>Low</td>\n",
       "      <td>AllPub</td>\n",
       "      <td>...</td>\n",
       "      <td>NA</td>\n",
       "      <td>NA</td>\n",
       "      <td>NA</td>\n",
       "      <td>0</td>\n",
       "      <td>11</td>\n",
       "      <td>2006</td>\n",
       "      <td>WD</td>\n",
       "      <td>Normal</td>\n",
       "      <td>385000</td>\n",
       "      <td>Row53</td>\n",
       "    </tr>\n",
       "    <tr>\n",
       "      <th>4</th>\n",
       "      <td>320000</td>\n",
       "      <td>60</td>\n",
       "      <td>RL</td>\n",
       "      <td>134</td>\n",
       "      <td>19378</td>\n",
       "      <td>Pave</td>\n",
       "      <td>NA</td>\n",
       "      <td>IR1</td>\n",
       "      <td>HLS</td>\n",
       "      <td>AllPub</td>\n",
       "      <td>...</td>\n",
       "      <td>NA</td>\n",
       "      <td>NA</td>\n",
       "      <td>NA</td>\n",
       "      <td>0</td>\n",
       "      <td>3</td>\n",
       "      <td>2006</td>\n",
       "      <td>New</td>\n",
       "      <td>Partial</td>\n",
       "      <td>320000</td>\n",
       "      <td>Row159</td>\n",
       "    </tr>\n",
       "  </tbody>\n",
       "</table>\n",
       "<p>5 rows × 82 columns</p>\n",
       "</div>[5 rows x 82 columns in total]"
      ],
      "text/plain": [
       "          Target_int  MSSubClass MSZoning  LotFrontage  LotArea Street Alley  \\\n",
       "train_id                                                                       \n",
       "0             166000          20       RL           80    11900   Pave    NA   \n",
       "1             582933          60       RL          107    13891   Pave    NA   \n",
       "2             130000          70       RH           55     8525   Pave    NA   \n",
       "3             385000          20       RL           68    50271   Pave    NA   \n",
       "4             320000          60       RL          134    19378   Pave    NA   \n",
       "\n",
       "         LotShape LandContour Utilities  ... PoolQC Fence MiscFeature MiscVal  \\\n",
       "train_id                                 ...                                    \n",
       "0             IR1         Lvl    AllPub  ...     NA    NA          NA       0   \n",
       "1             Reg         Lvl    AllPub  ...     NA    NA          NA       0   \n",
       "2             Reg         Bnk    AllPub  ...     NA    NA          NA       0   \n",
       "3             IR1         Low    AllPub  ...     NA    NA          NA       0   \n",
       "4             IR1         HLS    AllPub  ...     NA    NA          NA       0   \n",
       "\n",
       "         MoSold YrSold SaleType  SaleCondition  Target   row_id  \n",
       "train_id                                                         \n",
       "0             6   2008       WD         Normal  166000   Row830  \n",
       "1             1   2009      New        Partial  582933   Row803  \n",
       "2            11   2008       WD        Abnorml  130000  Row1234  \n",
       "3            11   2006       WD         Normal  385000    Row53  \n",
       "4             3   2006      New        Partial  320000   Row159  \n",
       "\n",
       "[5 rows x 82 columns]"
      ]
     },
     "execution_count": 70,
     "metadata": {},
     "output_type": "execute_result"
    }
   ],
   "source": [
    "# load the data from BigQuery into a (temporary) Bigframes structure like a Pandas dataframe\n",
    "data = bpd.read_gbq(train_table_id_new)\n",
    "\n",
    "# BigQuery DataFrames creates a default numbered index, which we can give a name\n",
    "data.index.name = \"train_id\"\n",
    "data.head()"
   ]
  },
  {
   "cell_type": "markdown",
   "id": "jAihAq15UY8w",
   "metadata": {
    "id": "jAihAq15UY8w"
   },
   "source": [
    "[Bigframes Functions](https://cloud.google.com/python/docs/reference/bigframes/latest/bigframes.dataframe.DataFrame) - Overview"
   ]
  },
  {
   "cell_type": "code",
   "execution_count": 71,
   "id": "1bPmNeE_S34z",
   "metadata": {
    "colab": {
     "base_uri": "https://localhost:8080/",
     "height": 336
    },
    "executionInfo": {
     "elapsed": 8474,
     "status": "ok",
     "timestamp": 1724156255732,
     "user": {
      "displayName": "",
      "userId": ""
     },
     "user_tz": -120
    },
    "id": "1bPmNeE_S34z",
    "outputId": "54ba5ddc-21e1-4dc7-d581-c760fb0c35ec"
   },
   "outputs": [
    {
     "data": {
      "text/html": [
       "Query job 1175b3d8-b707-4f38-a63a-52791c2836c2 is DONE. 650.7 kB processed. <a target=\"_blank\" href=\"https://console.cloud.google.com/bigquery?project=de123456-user-prd-1&j=bq:europe-west3:1175b3d8-b707-4f38-a63a-52791c2836c2&page=queryresults\">Open Job</a>"
      ],
      "text/plain": [
       "<IPython.core.display.HTML object>"
      ]
     },
     "metadata": {},
     "output_type": "display_data"
    },
    {
     "data": {
      "text/html": [
       "Query job 8321764f-fef6-4ebe-bccc-111e276218d8 is DONE. 0 Bytes processed. <a target=\"_blank\" href=\"https://console.cloud.google.com/bigquery?project=de123456-user-prd-1&j=bq:europe-west3:8321764f-fef6-4ebe-bccc-111e276218d8&page=queryresults\">Open Job</a>"
      ],
      "text/plain": [
       "<IPython.core.display.HTML object>"
      ]
     },
     "metadata": {},
     "output_type": "display_data"
    },
    {
     "data": {
      "text/html": [
       "Query job e0897737-9fcc-48f2-8c72-a4aefc5573ef is DONE. 2.8 kB processed. <a target=\"_blank\" href=\"https://console.cloud.google.com/bigquery?project=de123456-user-prd-1&j=bq:europe-west3:e0897737-9fcc-48f2-8c72-a4aefc5573ef&page=queryresults\">Open Job</a>"
      ],
      "text/plain": [
       "<IPython.core.display.HTML object>"
      ]
     },
     "metadata": {},
     "output_type": "display_data"
    },
    {
     "data": {
      "text/html": [
       "<div>\n",
       "<style scoped>\n",
       "    .dataframe tbody tr th:only-of-type {\n",
       "        vertical-align: middle;\n",
       "    }\n",
       "\n",
       "    .dataframe tbody tr th {\n",
       "        vertical-align: top;\n",
       "    }\n",
       "\n",
       "    .dataframe thead th {\n",
       "        text-align: right;\n",
       "    }\n",
       "</style>\n",
       "<table border=\"1\" class=\"dataframe\">\n",
       "  <thead>\n",
       "    <tr style=\"text-align: right;\">\n",
       "      <th></th>\n",
       "      <th>Target</th>\n",
       "      <th>MSSubClass</th>\n",
       "      <th>MSZoning</th>\n",
       "      <th>LotFrontage</th>\n",
       "      <th>LotArea</th>\n",
       "      <th>Street</th>\n",
       "      <th>Alley</th>\n",
       "      <th>LotShape</th>\n",
       "      <th>LandContour</th>\n",
       "      <th>Utilities</th>\n",
       "      <th>...</th>\n",
       "      <th>PoolArea</th>\n",
       "      <th>PoolQC</th>\n",
       "      <th>Fence</th>\n",
       "      <th>MiscFeature</th>\n",
       "      <th>MiscVal</th>\n",
       "      <th>MoSold</th>\n",
       "      <th>YrSold</th>\n",
       "      <th>SaleType</th>\n",
       "      <th>SaleCondition</th>\n",
       "      <th>row_id</th>\n",
       "    </tr>\n",
       "    <tr>\n",
       "      <th>train_id</th>\n",
       "      <th></th>\n",
       "      <th></th>\n",
       "      <th></th>\n",
       "      <th></th>\n",
       "      <th></th>\n",
       "      <th></th>\n",
       "      <th></th>\n",
       "      <th></th>\n",
       "      <th></th>\n",
       "      <th></th>\n",
       "      <th></th>\n",
       "      <th></th>\n",
       "      <th></th>\n",
       "      <th></th>\n",
       "      <th></th>\n",
       "      <th></th>\n",
       "      <th></th>\n",
       "      <th></th>\n",
       "      <th></th>\n",
       "      <th></th>\n",
       "      <th></th>\n",
       "    </tr>\n",
       "  </thead>\n",
       "  <tbody>\n",
       "    <tr>\n",
       "      <th>0</th>\n",
       "      <td>166000</td>\n",
       "      <td>20</td>\n",
       "      <td>RL</td>\n",
       "      <td>80</td>\n",
       "      <td>11900</td>\n",
       "      <td>Pave</td>\n",
       "      <td>NA</td>\n",
       "      <td>IR1</td>\n",
       "      <td>Lvl</td>\n",
       "      <td>AllPub</td>\n",
       "      <td>...</td>\n",
       "      <td>0</td>\n",
       "      <td>NA</td>\n",
       "      <td>NA</td>\n",
       "      <td>NA</td>\n",
       "      <td>0</td>\n",
       "      <td>6</td>\n",
       "      <td>2008</td>\n",
       "      <td>WD</td>\n",
       "      <td>Normal</td>\n",
       "      <td>Row830</td>\n",
       "    </tr>\n",
       "    <tr>\n",
       "      <th>1</th>\n",
       "      <td>582933</td>\n",
       "      <td>60</td>\n",
       "      <td>RL</td>\n",
       "      <td>107</td>\n",
       "      <td>13891</td>\n",
       "      <td>Pave</td>\n",
       "      <td>NA</td>\n",
       "      <td>Reg</td>\n",
       "      <td>Lvl</td>\n",
       "      <td>AllPub</td>\n",
       "      <td>...</td>\n",
       "      <td>0</td>\n",
       "      <td>NA</td>\n",
       "      <td>NA</td>\n",
       "      <td>NA</td>\n",
       "      <td>0</td>\n",
       "      <td>1</td>\n",
       "      <td>2009</td>\n",
       "      <td>New</td>\n",
       "      <td>Partial</td>\n",
       "      <td>Row803</td>\n",
       "    </tr>\n",
       "    <tr>\n",
       "      <th>2</th>\n",
       "      <td>130000</td>\n",
       "      <td>70</td>\n",
       "      <td>RH</td>\n",
       "      <td>55</td>\n",
       "      <td>8525</td>\n",
       "      <td>Pave</td>\n",
       "      <td>NA</td>\n",
       "      <td>Reg</td>\n",
       "      <td>Bnk</td>\n",
       "      <td>AllPub</td>\n",
       "      <td>...</td>\n",
       "      <td>0</td>\n",
       "      <td>NA</td>\n",
       "      <td>NA</td>\n",
       "      <td>NA</td>\n",
       "      <td>0</td>\n",
       "      <td>11</td>\n",
       "      <td>2008</td>\n",
       "      <td>WD</td>\n",
       "      <td>Abnorml</td>\n",
       "      <td>Row1234</td>\n",
       "    </tr>\n",
       "    <tr>\n",
       "      <th>3</th>\n",
       "      <td>385000</td>\n",
       "      <td>20</td>\n",
       "      <td>RL</td>\n",
       "      <td>68</td>\n",
       "      <td>50271</td>\n",
       "      <td>Pave</td>\n",
       "      <td>NA</td>\n",
       "      <td>IR1</td>\n",
       "      <td>Low</td>\n",
       "      <td>AllPub</td>\n",
       "      <td>...</td>\n",
       "      <td>0</td>\n",
       "      <td>NA</td>\n",
       "      <td>NA</td>\n",
       "      <td>NA</td>\n",
       "      <td>0</td>\n",
       "      <td>11</td>\n",
       "      <td>2006</td>\n",
       "      <td>WD</td>\n",
       "      <td>Normal</td>\n",
       "      <td>Row53</td>\n",
       "    </tr>\n",
       "    <tr>\n",
       "      <th>4</th>\n",
       "      <td>320000</td>\n",
       "      <td>60</td>\n",
       "      <td>RL</td>\n",
       "      <td>134</td>\n",
       "      <td>19378</td>\n",
       "      <td>Pave</td>\n",
       "      <td>NA</td>\n",
       "      <td>IR1</td>\n",
       "      <td>HLS</td>\n",
       "      <td>AllPub</td>\n",
       "      <td>...</td>\n",
       "      <td>0</td>\n",
       "      <td>NA</td>\n",
       "      <td>NA</td>\n",
       "      <td>NA</td>\n",
       "      <td>0</td>\n",
       "      <td>3</td>\n",
       "      <td>2006</td>\n",
       "      <td>New</td>\n",
       "      <td>Partial</td>\n",
       "      <td>Row159</td>\n",
       "    </tr>\n",
       "  </tbody>\n",
       "</table>\n",
       "<p>5 rows × 81 columns</p>\n",
       "</div>[5 rows x 81 columns in total]"
      ],
      "text/plain": [
       "          Target  MSSubClass MSZoning  LotFrontage  LotArea Street Alley  \\\n",
       "train_id                                                                   \n",
       "0         166000          20       RL           80    11900   Pave    NA   \n",
       "1         582933          60       RL          107    13891   Pave    NA   \n",
       "2         130000          70       RH           55     8525   Pave    NA   \n",
       "3         385000          20       RL           68    50271   Pave    NA   \n",
       "4         320000          60       RL          134    19378   Pave    NA   \n",
       "\n",
       "         LotShape LandContour Utilities  ... PoolArea PoolQC Fence  \\\n",
       "train_id                                 ...                         \n",
       "0             IR1         Lvl    AllPub  ...        0     NA    NA   \n",
       "1             Reg         Lvl    AllPub  ...        0     NA    NA   \n",
       "2             Reg         Bnk    AllPub  ...        0     NA    NA   \n",
       "3             IR1         Low    AllPub  ...        0     NA    NA   \n",
       "4             IR1         HLS    AllPub  ...        0     NA    NA   \n",
       "\n",
       "         MiscFeature MiscVal MoSold YrSold  SaleType  SaleCondition   row_id  \n",
       "train_id                                                                      \n",
       "0                 NA       0      6   2008        WD         Normal   Row830  \n",
       "1                 NA       0      1   2009       New        Partial   Row803  \n",
       "2                 NA       0     11   2008        WD        Abnorml  Row1234  \n",
       "3                 NA       0     11   2006        WD         Normal    Row53  \n",
       "4                 NA       0      3   2006       New        Partial   Row159  \n",
       "\n",
       "[5 rows x 81 columns]"
      ]
     },
     "execution_count": 71,
     "metadata": {},
     "output_type": "execute_result"
    }
   ],
   "source": [
    "# The integer Target_int gets to be the 'real' Target by renaming and dropping\n",
    "\n",
    "data = data.drop(['Target'], axis=1).rename(columns={\"Target_int\": \"Target\"})\n",
    "# data = data.rename(columns={\"Target_int\": \"Target\"})\n",
    "data.head()"
   ]
  },
  {
   "cell_type": "code",
   "execution_count": 72,
   "id": "_Tjh5AfgAb5B",
   "metadata": {
    "colab": {
     "base_uri": "https://localhost:8080/"
    },
    "executionInfo": {
     "elapsed": 277,
     "status": "ok",
     "timestamp": 1724156276924,
     "user": {
      "displayName": "",
      "userId": ""
     },
     "user_tz": -120
    },
    "id": "_Tjh5AfgAb5B",
    "outputId": "b584bb32-2075-4052-fed0-b19b144f7910"
   },
   "outputs": [
    {
     "data": {
      "text/plain": [
       "bigframes.dataframe.DataFrame"
      ]
     },
     "execution_count": 72,
     "metadata": {},
     "output_type": "execute_result"
    }
   ],
   "source": [
    "type(data)"
   ]
  },
  {
   "cell_type": "code",
   "execution_count": 75,
   "id": "fidHftjDnMhT",
   "metadata": {
    "executionInfo": {
     "elapsed": 263,
     "status": "ok",
     "timestamp": 1724156285151,
     "user": {
      "displayName": "",
      "userId": ""
     },
     "user_tz": -120
    },
    "id": "fidHftjDnMhT"
   },
   "outputs": [],
   "source": [
    "# del data_test"
   ]
  },
  {
   "cell_type": "code",
   "execution_count": 76,
   "id": "vcf-z3yAAK4d",
   "metadata": {
    "colab": {
     "base_uri": "https://localhost:8080/",
     "height": 391
    },
    "executionInfo": {
     "elapsed": 8315,
     "status": "ok",
     "timestamp": 1724156296096,
     "user": {
      "displayName": "",
      "userId": ""
     },
     "user_tz": -120
    },
    "id": "vcf-z3yAAK4d",
    "outputId": "4dd70aeb-4a6b-4ae8-cafe-0f1c35dd2809"
   },
   "outputs": [
    {
     "name": "stderr",
     "output_type": "stream",
     "text": [
      "/usr/local/lib/python3.10/dist-packages/IPython/core/interactiveshell.py:3553: UserWarning: Reading cached table from 2024-08-20 08:25:23.709127+00:00 to avoid incompatibilies with previous reads of this table. To read the latest version, set `use_cache=False` or close the current session with Session.close() or bigframes.pandas.close_session().\n",
      "  exec(code_obj, self.user_global_ns, self.user_ns)\n"
     ]
    },
    {
     "data": {
      "text/html": [
       "Query job e703ed55-df3b-49af-8ab6-8f6ac9c595b8 is DONE. 152.4 kB processed. <a target=\"_blank\" href=\"https://console.cloud.google.com/bigquery?project=de123456-user-prd-1&j=bq:europe-west3:e703ed55-df3b-49af-8ab6-8f6ac9c595b8&page=queryresults\">Open Job</a>"
      ],
      "text/plain": [
       "<IPython.core.display.HTML object>"
      ]
     },
     "metadata": {},
     "output_type": "display_data"
    },
    {
     "data": {
      "text/html": [
       "Query job 71ad284a-8615-4ebd-b6d4-8ceb6b8236fc is DONE. 0 Bytes processed. <a target=\"_blank\" href=\"https://console.cloud.google.com/bigquery?project=de123456-user-prd-1&j=bq:europe-west3:71ad284a-8615-4ebd-b6d4-8ceb6b8236fc&page=queryresults\">Open Job</a>"
      ],
      "text/plain": [
       "<IPython.core.display.HTML object>"
      ]
     },
     "metadata": {},
     "output_type": "display_data"
    },
    {
     "data": {
      "text/html": [
       "Query job ff3fbc72-4e66-483f-a4fd-76efa6089f18 is DONE. 2.8 kB processed. <a target=\"_blank\" href=\"https://console.cloud.google.com/bigquery?project=de123456-user-prd-1&j=bq:europe-west3:ff3fbc72-4e66-483f-a4fd-76efa6089f18&page=queryresults\">Open Job</a>"
      ],
      "text/plain": [
       "<IPython.core.display.HTML object>"
      ]
     },
     "metadata": {},
     "output_type": "display_data"
    },
    {
     "data": {
      "text/html": [
       "<div>\n",
       "<style scoped>\n",
       "    .dataframe tbody tr th:only-of-type {\n",
       "        vertical-align: middle;\n",
       "    }\n",
       "\n",
       "    .dataframe tbody tr th {\n",
       "        vertical-align: top;\n",
       "    }\n",
       "\n",
       "    .dataframe thead th {\n",
       "        text-align: right;\n",
       "    }\n",
       "</style>\n",
       "<table border=\"1\" class=\"dataframe\">\n",
       "  <thead>\n",
       "    <tr style=\"text-align: right;\">\n",
       "      <th></th>\n",
       "      <th>Target_int</th>\n",
       "      <th>MSSubClass</th>\n",
       "      <th>MSZoning</th>\n",
       "      <th>LotFrontage</th>\n",
       "      <th>LotArea</th>\n",
       "      <th>Street</th>\n",
       "      <th>Alley</th>\n",
       "      <th>LotShape</th>\n",
       "      <th>LandContour</th>\n",
       "      <th>Utilities</th>\n",
       "      <th>...</th>\n",
       "      <th>PoolQC</th>\n",
       "      <th>Fence</th>\n",
       "      <th>MiscFeature</th>\n",
       "      <th>MiscVal</th>\n",
       "      <th>MoSold</th>\n",
       "      <th>YrSold</th>\n",
       "      <th>SaleType</th>\n",
       "      <th>SaleCondition</th>\n",
       "      <th>Target</th>\n",
       "      <th>row_id</th>\n",
       "    </tr>\n",
       "    <tr>\n",
       "      <th>test_id</th>\n",
       "      <th></th>\n",
       "      <th></th>\n",
       "      <th></th>\n",
       "      <th></th>\n",
       "      <th></th>\n",
       "      <th></th>\n",
       "      <th></th>\n",
       "      <th></th>\n",
       "      <th></th>\n",
       "      <th></th>\n",
       "      <th></th>\n",
       "      <th></th>\n",
       "      <th></th>\n",
       "      <th></th>\n",
       "      <th></th>\n",
       "      <th></th>\n",
       "      <th></th>\n",
       "      <th></th>\n",
       "      <th></th>\n",
       "      <th></th>\n",
       "      <th></th>\n",
       "    </tr>\n",
       "  </thead>\n",
       "  <tbody>\n",
       "    <tr>\n",
       "      <th>0</th>\n",
       "      <td>174000</td>\n",
       "      <td>20</td>\n",
       "      <td>RL</td>\n",
       "      <td>80</td>\n",
       "      <td>8400</td>\n",
       "      <td>Pave</td>\n",
       "      <td>NA</td>\n",
       "      <td>Reg</td>\n",
       "      <td>Lvl</td>\n",
       "      <td>AllPub</td>\n",
       "      <td>...</td>\n",
       "      <td>NA</td>\n",
       "      <td>GdPrv</td>\n",
       "      <td>NA</td>\n",
       "      <td>0</td>\n",
       "      <td>7</td>\n",
       "      <td>2008</td>\n",
       "      <td>COD</td>\n",
       "      <td>Abnorml</td>\n",
       "      <td>174000</td>\n",
       "      <td>Row1435</td>\n",
       "    </tr>\n",
       "    <tr>\n",
       "      <th>1</th>\n",
       "      <td>225000</td>\n",
       "      <td>50</td>\n",
       "      <td>RL</td>\n",
       "      <td>81</td>\n",
       "      <td>15593</td>\n",
       "      <td>Pave</td>\n",
       "      <td>NA</td>\n",
       "      <td>Reg</td>\n",
       "      <td>Lvl</td>\n",
       "      <td>AllPub</td>\n",
       "      <td>...</td>\n",
       "      <td>NA</td>\n",
       "      <td>NA</td>\n",
       "      <td>NA</td>\n",
       "      <td>0</td>\n",
       "      <td>7</td>\n",
       "      <td>2006</td>\n",
       "      <td>WD</td>\n",
       "      <td>Normal</td>\n",
       "      <td>225000</td>\n",
       "      <td>Row69</td>\n",
       "    </tr>\n",
       "    <tr>\n",
       "      <th>2</th>\n",
       "      <td>119200</td>\n",
       "      <td>20</td>\n",
       "      <td>RL</td>\n",
       "      <td>60</td>\n",
       "      <td>11664</td>\n",
       "      <td>Pave</td>\n",
       "      <td>NA</td>\n",
       "      <td>Reg</td>\n",
       "      <td>Lvl</td>\n",
       "      <td>AllPub</td>\n",
       "      <td>...</td>\n",
       "      <td>NA</td>\n",
       "      <td>NA</td>\n",
       "      <td>NA</td>\n",
       "      <td>0</td>\n",
       "      <td>11</td>\n",
       "      <td>2007</td>\n",
       "      <td>WD</td>\n",
       "      <td>Normal</td>\n",
       "      <td>119200</td>\n",
       "      <td>Row1014</td>\n",
       "    </tr>\n",
       "    <tr>\n",
       "      <th>3</th>\n",
       "      <td>150900</td>\n",
       "      <td>90</td>\n",
       "      <td>RL</td>\n",
       "      <td>55</td>\n",
       "      <td>12640</td>\n",
       "      <td>Pave</td>\n",
       "      <td>NA</td>\n",
       "      <td>IR1</td>\n",
       "      <td>Lvl</td>\n",
       "      <td>AllPub</td>\n",
       "      <td>...</td>\n",
       "      <td>NA</td>\n",
       "      <td>NA</td>\n",
       "      <td>NA</td>\n",
       "      <td>0</td>\n",
       "      <td>7</td>\n",
       "      <td>2006</td>\n",
       "      <td>WD</td>\n",
       "      <td>Normal</td>\n",
       "      <td>150900</td>\n",
       "      <td>Row940</td>\n",
       "    </tr>\n",
       "    <tr>\n",
       "      <th>4</th>\n",
       "      <td>161500</td>\n",
       "      <td>50</td>\n",
       "      <td>RL</td>\n",
       "      <td>&lt;NA&gt;</td>\n",
       "      <td>11250</td>\n",
       "      <td>Pave</td>\n",
       "      <td>NA</td>\n",
       "      <td>Reg</td>\n",
       "      <td>Lvl</td>\n",
       "      <td>AllPub</td>\n",
       "      <td>...</td>\n",
       "      <td>NA</td>\n",
       "      <td>NA</td>\n",
       "      <td>NA</td>\n",
       "      <td>0</td>\n",
       "      <td>11</td>\n",
       "      <td>2009</td>\n",
       "      <td>WD</td>\n",
       "      <td>Normal</td>\n",
       "      <td>161500</td>\n",
       "      <td>Row1262</td>\n",
       "    </tr>\n",
       "  </tbody>\n",
       "</table>\n",
       "<p>5 rows × 82 columns</p>\n",
       "</div>[5 rows x 82 columns in total]"
      ],
      "text/plain": [
       "         Target_int  MSSubClass MSZoning  LotFrontage  LotArea Street Alley  \\\n",
       "test_id                                                                       \n",
       "0            174000          20       RL           80     8400   Pave    NA   \n",
       "1            225000          50       RL           81    15593   Pave    NA   \n",
       "2            119200          20       RL           60    11664   Pave    NA   \n",
       "3            150900          90       RL           55    12640   Pave    NA   \n",
       "4            161500          50       RL         <NA>    11250   Pave    NA   \n",
       "\n",
       "        LotShape LandContour Utilities  ... PoolQC  Fence MiscFeature MiscVal  \\\n",
       "test_id                                 ...                                     \n",
       "0            Reg         Lvl    AllPub  ...     NA  GdPrv          NA       0   \n",
       "1            Reg         Lvl    AllPub  ...     NA     NA          NA       0   \n",
       "2            Reg         Lvl    AllPub  ...     NA     NA          NA       0   \n",
       "3            IR1         Lvl    AllPub  ...     NA     NA          NA       0   \n",
       "4            Reg         Lvl    AllPub  ...     NA     NA          NA       0   \n",
       "\n",
       "        MoSold YrSold SaleType  SaleCondition  Target   row_id  \n",
       "test_id                                                         \n",
       "0            7   2008      COD        Abnorml  174000  Row1435  \n",
       "1            7   2006       WD         Normal  225000    Row69  \n",
       "2           11   2007       WD         Normal  119200  Row1014  \n",
       "3            7   2006       WD         Normal  150900   Row940  \n",
       "4           11   2009       WD         Normal  161500  Row1262  \n",
       "\n",
       "[5 rows x 82 columns]"
      ]
     },
     "execution_count": 76,
     "metadata": {},
     "output_type": "execute_result"
    }
   ],
   "source": [
    "# del data_test\n",
    "data_test = bpd.read_gbq(test_table_id_new)\n",
    "\n",
    "# BigQuery DataFrames creates a default numbered index, which we can give a name\n",
    "data_test.index.name = \"test_id\"\n",
    "data_test.head()"
   ]
  },
  {
   "cell_type": "code",
   "execution_count": 77,
   "id": "Xe_6It1IVww0",
   "metadata": {
    "colab": {
     "base_uri": "https://localhost:8080/",
     "height": 336
    },
    "executionInfo": {
     "elapsed": 8048,
     "status": "ok",
     "timestamp": 1724156304141,
     "user": {
      "displayName": "",
      "userId": ""
     },
     "user_tz": -120
    },
    "id": "Xe_6It1IVww0",
    "outputId": "2f12a256-9ef7-473b-e17d-975abbdd6373"
   },
   "outputs": [
    {
     "data": {
      "text/html": [
       "Query job 652e0833-74ca-4de8-88b4-c312eee56e74 is DONE. 152.4 kB processed. <a target=\"_blank\" href=\"https://console.cloud.google.com/bigquery?project=de123456-user-prd-1&j=bq:europe-west3:652e0833-74ca-4de8-88b4-c312eee56e74&page=queryresults\">Open Job</a>"
      ],
      "text/plain": [
       "<IPython.core.display.HTML object>"
      ]
     },
     "metadata": {},
     "output_type": "display_data"
    },
    {
     "data": {
      "text/html": [
       "Query job 42c561d3-8b1e-4d24-906e-852c6279cb6a is DONE. 0 Bytes processed. <a target=\"_blank\" href=\"https://console.cloud.google.com/bigquery?project=de123456-user-prd-1&j=bq:europe-west3:42c561d3-8b1e-4d24-906e-852c6279cb6a&page=queryresults\">Open Job</a>"
      ],
      "text/plain": [
       "<IPython.core.display.HTML object>"
      ]
     },
     "metadata": {},
     "output_type": "display_data"
    },
    {
     "data": {
      "text/html": [
       "Query job eee1881a-b32c-4fad-b693-7b31f09b1d30 is DONE. 2.8 kB processed. <a target=\"_blank\" href=\"https://console.cloud.google.com/bigquery?project=de123456-user-prd-1&j=bq:europe-west3:eee1881a-b32c-4fad-b693-7b31f09b1d30&page=queryresults\">Open Job</a>"
      ],
      "text/plain": [
       "<IPython.core.display.HTML object>"
      ]
     },
     "metadata": {},
     "output_type": "display_data"
    },
    {
     "data": {
      "text/html": [
       "<div>\n",
       "<style scoped>\n",
       "    .dataframe tbody tr th:only-of-type {\n",
       "        vertical-align: middle;\n",
       "    }\n",
       "\n",
       "    .dataframe tbody tr th {\n",
       "        vertical-align: top;\n",
       "    }\n",
       "\n",
       "    .dataframe thead th {\n",
       "        text-align: right;\n",
       "    }\n",
       "</style>\n",
       "<table border=\"1\" class=\"dataframe\">\n",
       "  <thead>\n",
       "    <tr style=\"text-align: right;\">\n",
       "      <th></th>\n",
       "      <th>Target</th>\n",
       "      <th>MSSubClass</th>\n",
       "      <th>MSZoning</th>\n",
       "      <th>LotFrontage</th>\n",
       "      <th>LotArea</th>\n",
       "      <th>Street</th>\n",
       "      <th>Alley</th>\n",
       "      <th>LotShape</th>\n",
       "      <th>LandContour</th>\n",
       "      <th>Utilities</th>\n",
       "      <th>...</th>\n",
       "      <th>PoolArea</th>\n",
       "      <th>PoolQC</th>\n",
       "      <th>Fence</th>\n",
       "      <th>MiscFeature</th>\n",
       "      <th>MiscVal</th>\n",
       "      <th>MoSold</th>\n",
       "      <th>YrSold</th>\n",
       "      <th>SaleType</th>\n",
       "      <th>SaleCondition</th>\n",
       "      <th>row_id</th>\n",
       "    </tr>\n",
       "    <tr>\n",
       "      <th>test_id</th>\n",
       "      <th></th>\n",
       "      <th></th>\n",
       "      <th></th>\n",
       "      <th></th>\n",
       "      <th></th>\n",
       "      <th></th>\n",
       "      <th></th>\n",
       "      <th></th>\n",
       "      <th></th>\n",
       "      <th></th>\n",
       "      <th></th>\n",
       "      <th></th>\n",
       "      <th></th>\n",
       "      <th></th>\n",
       "      <th></th>\n",
       "      <th></th>\n",
       "      <th></th>\n",
       "      <th></th>\n",
       "      <th></th>\n",
       "      <th></th>\n",
       "      <th></th>\n",
       "    </tr>\n",
       "  </thead>\n",
       "  <tbody>\n",
       "    <tr>\n",
       "      <th>0</th>\n",
       "      <td>174000</td>\n",
       "      <td>20</td>\n",
       "      <td>RL</td>\n",
       "      <td>80</td>\n",
       "      <td>8400</td>\n",
       "      <td>Pave</td>\n",
       "      <td>NA</td>\n",
       "      <td>Reg</td>\n",
       "      <td>Lvl</td>\n",
       "      <td>AllPub</td>\n",
       "      <td>...</td>\n",
       "      <td>0</td>\n",
       "      <td>NA</td>\n",
       "      <td>GdPrv</td>\n",
       "      <td>NA</td>\n",
       "      <td>0</td>\n",
       "      <td>7</td>\n",
       "      <td>2008</td>\n",
       "      <td>COD</td>\n",
       "      <td>Abnorml</td>\n",
       "      <td>Row1435</td>\n",
       "    </tr>\n",
       "    <tr>\n",
       "      <th>1</th>\n",
       "      <td>225000</td>\n",
       "      <td>50</td>\n",
       "      <td>RL</td>\n",
       "      <td>81</td>\n",
       "      <td>15593</td>\n",
       "      <td>Pave</td>\n",
       "      <td>NA</td>\n",
       "      <td>Reg</td>\n",
       "      <td>Lvl</td>\n",
       "      <td>AllPub</td>\n",
       "      <td>...</td>\n",
       "      <td>0</td>\n",
       "      <td>NA</td>\n",
       "      <td>NA</td>\n",
       "      <td>NA</td>\n",
       "      <td>0</td>\n",
       "      <td>7</td>\n",
       "      <td>2006</td>\n",
       "      <td>WD</td>\n",
       "      <td>Normal</td>\n",
       "      <td>Row69</td>\n",
       "    </tr>\n",
       "    <tr>\n",
       "      <th>2</th>\n",
       "      <td>119200</td>\n",
       "      <td>20</td>\n",
       "      <td>RL</td>\n",
       "      <td>60</td>\n",
       "      <td>11664</td>\n",
       "      <td>Pave</td>\n",
       "      <td>NA</td>\n",
       "      <td>Reg</td>\n",
       "      <td>Lvl</td>\n",
       "      <td>AllPub</td>\n",
       "      <td>...</td>\n",
       "      <td>0</td>\n",
       "      <td>NA</td>\n",
       "      <td>NA</td>\n",
       "      <td>NA</td>\n",
       "      <td>0</td>\n",
       "      <td>11</td>\n",
       "      <td>2007</td>\n",
       "      <td>WD</td>\n",
       "      <td>Normal</td>\n",
       "      <td>Row1014</td>\n",
       "    </tr>\n",
       "    <tr>\n",
       "      <th>3</th>\n",
       "      <td>150900</td>\n",
       "      <td>90</td>\n",
       "      <td>RL</td>\n",
       "      <td>55</td>\n",
       "      <td>12640</td>\n",
       "      <td>Pave</td>\n",
       "      <td>NA</td>\n",
       "      <td>IR1</td>\n",
       "      <td>Lvl</td>\n",
       "      <td>AllPub</td>\n",
       "      <td>...</td>\n",
       "      <td>0</td>\n",
       "      <td>NA</td>\n",
       "      <td>NA</td>\n",
       "      <td>NA</td>\n",
       "      <td>0</td>\n",
       "      <td>7</td>\n",
       "      <td>2006</td>\n",
       "      <td>WD</td>\n",
       "      <td>Normal</td>\n",
       "      <td>Row940</td>\n",
       "    </tr>\n",
       "    <tr>\n",
       "      <th>4</th>\n",
       "      <td>161500</td>\n",
       "      <td>50</td>\n",
       "      <td>RL</td>\n",
       "      <td>&lt;NA&gt;</td>\n",
       "      <td>11250</td>\n",
       "      <td>Pave</td>\n",
       "      <td>NA</td>\n",
       "      <td>Reg</td>\n",
       "      <td>Lvl</td>\n",
       "      <td>AllPub</td>\n",
       "      <td>...</td>\n",
       "      <td>0</td>\n",
       "      <td>NA</td>\n",
       "      <td>NA</td>\n",
       "      <td>NA</td>\n",
       "      <td>0</td>\n",
       "      <td>11</td>\n",
       "      <td>2009</td>\n",
       "      <td>WD</td>\n",
       "      <td>Normal</td>\n",
       "      <td>Row1262</td>\n",
       "    </tr>\n",
       "  </tbody>\n",
       "</table>\n",
       "<p>5 rows × 81 columns</p>\n",
       "</div>[5 rows x 81 columns in total]"
      ],
      "text/plain": [
       "         Target  MSSubClass MSZoning  LotFrontage  LotArea Street Alley  \\\n",
       "test_id                                                                   \n",
       "0        174000          20       RL           80     8400   Pave    NA   \n",
       "1        225000          50       RL           81    15593   Pave    NA   \n",
       "2        119200          20       RL           60    11664   Pave    NA   \n",
       "3        150900          90       RL           55    12640   Pave    NA   \n",
       "4        161500          50       RL         <NA>    11250   Pave    NA   \n",
       "\n",
       "        LotShape LandContour Utilities  ... PoolArea PoolQC  Fence  \\\n",
       "test_id                                 ...                          \n",
       "0            Reg         Lvl    AllPub  ...        0     NA  GdPrv   \n",
       "1            Reg         Lvl    AllPub  ...        0     NA     NA   \n",
       "2            Reg         Lvl    AllPub  ...        0     NA     NA   \n",
       "3            IR1         Lvl    AllPub  ...        0     NA     NA   \n",
       "4            Reg         Lvl    AllPub  ...        0     NA     NA   \n",
       "\n",
       "        MiscFeature MiscVal MoSold YrSold  SaleType  SaleCondition   row_id  \n",
       "test_id                                                                      \n",
       "0                NA       0      7   2008       COD        Abnorml  Row1435  \n",
       "1                NA       0      7   2006        WD         Normal    Row69  \n",
       "2                NA       0     11   2007        WD         Normal  Row1014  \n",
       "3                NA       0      7   2006        WD         Normal   Row940  \n",
       "4                NA       0     11   2009        WD         Normal  Row1262  \n",
       "\n",
       "[5 rows x 81 columns]"
      ]
     },
     "execution_count": 77,
     "metadata": {},
     "output_type": "execute_result"
    }
   ],
   "source": [
    "data_test = data_test.drop(['Target'], axis=1).rename(columns={\"Target_int\": \"Target\"})\n",
    "# data_test = data_test.rename(columns={\"Target_int\": \"Target\"})\n",
    "data_test.head()"
   ]
  },
  {
   "cell_type": "code",
   "execution_count": 78,
   "id": "t1VEunCzAX8Z",
   "metadata": {
    "colab": {
     "base_uri": "https://localhost:8080/",
     "height": 176
    },
    "executionInfo": {
     "elapsed": 2979,
     "status": "ok",
     "timestamp": 1724156309355,
     "user": {
      "displayName": "",
      "userId": ""
     },
     "user_tz": -120
    },
    "id": "t1VEunCzAX8Z",
    "outputId": "ecad0e30-3804-4f55-aff1-ee4d93e6235e"
   },
   "outputs": [
    {
     "data": {
      "text/html": [
       "Query job 9d86c3ad-b529-44e4-94b6-3f7fc17c6d05 is DONE. 0 Bytes processed. <a target=\"_blank\" href=\"https://console.cloud.google.com/bigquery?project=de123456-user-prd-1&j=bq:europe-west3:9d86c3ad-b529-44e4-94b6-3f7fc17c6d05&page=queryresults\">Open Job</a>"
      ],
      "text/plain": [
       "<IPython.core.display.HTML object>"
      ]
     },
     "metadata": {},
     "output_type": "display_data"
    },
    {
     "data": {
      "text/html": [
       "Query job da1c9a12-240e-4297-a8be-152683af2e43 is DONE. 0 Bytes processed. <a target=\"_blank\" href=\"https://console.cloud.google.com/bigquery?project=de123456-user-prd-1&j=bq:europe-west3:da1c9a12-240e-4297-a8be-152683af2e43&page=queryresults\">Open Job</a>"
      ],
      "text/plain": [
       "<IPython.core.display.HTML object>"
      ]
     },
     "metadata": {},
     "output_type": "display_data"
    },
    {
     "name": "stdout",
     "output_type": "stream",
     "text": [
      "data shape:          (1183, 81)\n",
      "data[features] shape: (1183, 79)\n",
      "categorical columns: ['MSZoning', 'Street', 'Alley', 'LotShape', 'LandContour', 'Utilities', 'LotConfig', 'LandSlope', 'Neighborhood', 'Condition1', 'Condition2', 'BldgType', 'HouseStyle', 'RoofStyle', 'RoofMatl', 'Exterior1st', 'Exterior2nd', 'MasVnrType', 'ExterQual', 'ExterCond', 'Foundation', 'BsmtQual', 'BsmtCond', 'BsmtExposure', 'BsmtFinType1', 'BsmtFinType2', 'Heating', 'HeatingQC', 'CentralAir', 'Electrical', 'KitchenQual', 'Functional', 'FireplaceQu', 'GarageType', 'GarageFinish', 'GarageQual', 'GarageCond', 'PavedDrive', 'PoolQC', 'Fence', 'MiscFeature', 'SaleType', 'SaleCondition']\n",
      "numerical columns: ['MSSubClass', 'LotFrontage', 'LotArea', 'OverallQual', 'OverallCond', 'YearBuilt', 'YearRemodAdd', 'MasVnrArea', 'BsmtFinSF1', 'BsmtFinSF2', 'BsmtUnfSF', 'TotalBsmtSF', '1stFlrSF', '2ndFlrSF', 'LowQualFinSF', 'GrLivArea', 'BsmtFullBath', 'BsmtHalfBath', 'FullBath', 'HalfBath', 'BedroomAbvGr', 'KitchenAbvGr', 'TotRmsAbvGrd', 'Fireplaces', 'GarageYrBlt', 'GarageCars', 'GarageArea', 'WoodDeckSF', 'OpenPorchSF', 'EnclosedPorch', '3SsnPorch', 'ScreenPorch', 'PoolArea', 'MiscVal', 'MoSold', 'YrSold']\n",
      "feature columns: ['MSSubClass', 'MSZoning', 'LotFrontage', 'LotArea', 'Street', 'Alley', 'LotShape', 'LandContour', 'Utilities', 'LotConfig', 'LandSlope', 'Neighborhood', 'Condition1', 'Condition2', 'BldgType', 'HouseStyle', 'OverallQual', 'OverallCond', 'YearBuilt', 'YearRemodAdd', 'RoofStyle', 'RoofMatl', 'Exterior1st', 'Exterior2nd', 'MasVnrType', 'MasVnrArea', 'ExterQual', 'ExterCond', 'Foundation', 'BsmtQual', 'BsmtCond', 'BsmtExposure', 'BsmtFinType1', 'BsmtFinSF1', 'BsmtFinType2', 'BsmtFinSF2', 'BsmtUnfSF', 'TotalBsmtSF', 'Heating', 'HeatingQC', 'CentralAir', 'Electrical', '1stFlrSF', '2ndFlrSF', 'LowQualFinSF', 'GrLivArea', 'BsmtFullBath', 'BsmtHalfBath', 'FullBath', 'HalfBath', 'BedroomAbvGr', 'KitchenAbvGr', 'KitchenQual', 'TotRmsAbvGrd', 'Functional', 'Fireplaces', 'FireplaceQu', 'GarageType', 'GarageYrBlt', 'GarageFinish', 'GarageCars', 'GarageArea', 'GarageQual', 'GarageCond', 'PavedDrive', 'WoodDeckSF', 'OpenPorchSF', 'EnclosedPorch', '3SsnPorch', 'ScreenPorch', 'PoolArea', 'PoolQC', 'Fence', 'MiscFeature', 'MiscVal', 'MoSold', 'YrSold', 'SaleType', 'SaleCondition']\n",
      "rest columns: ['Target', 'row_id']\n"
     ]
    }
   ],
   "source": [
    "excluded_features = ['row_id']\n",
    "label = ['Target']\n",
    "# features = [feat for feat in data.columns if feat not in excluded_features and not feat==label]\n",
    "features = [feat for feat in data.columns if feat not in excluded_features and feat not in label]\n",
    "\n",
    "num_cols = data[features].select_dtypes(include='number').columns.tolist()\n",
    "cat_cols = data[features].select_dtypes(exclude='number').columns.tolist()\n",
    "\n",
    "rest_cols = [feat for feat in data.columns if feat not in cat_cols and feat not in num_cols]\n",
    "\n",
    "print(f'''{\"data shape:\":20} {data.shape}\n",
    "{\"data[features] shape:\":20} {data[features].shape}\n",
    "categorical columns: {cat_cols}\n",
    "numerical columns: {num_cols}\n",
    "feature columns: {features}\n",
    "rest columns: {rest_cols}''')\n",
    "\n",
    "# THX David Gutmann"
   ]
  },
  {
   "cell_type": "code",
   "execution_count": null,
   "id": "6SjyCZ23BQGz",
   "metadata": {
    "id": "6SjyCZ23BQGz"
   },
   "outputs": [],
   "source": [
    "print(data.dtypes)"
   ]
  },
  {
   "cell_type": "code",
   "execution_count": null,
   "id": "7vdvkkkWA0aG",
   "metadata": {
    "id": "7vdvkkkWA0aG"
   },
   "outputs": [],
   "source": [
    "# data[cat_cols] = data[cat_cols].astype('category')"
   ]
  },
  {
   "cell_type": "code",
   "execution_count": null,
   "id": "sF1jTljhBMQn",
   "metadata": {
    "id": "sF1jTljhBMQn"
   },
   "outputs": [],
   "source": [
    "# split training data into X and y\n",
    "X = data[features]\n",
    "y = data[label]"
   ]
  },
  {
   "cell_type": "code",
   "execution_count": null,
   "id": "1euI2TmuWgB3",
   "metadata": {
    "id": "1euI2TmuWgB3"
   },
   "outputs": [],
   "source": [
    "# split data into train and test sets\n",
    "seed = 7\n",
    "test_size = 0.33\n",
    "X_train, X_test, y_train, y_test = train_test_split(X, y, test_size=test_size, random_state=seed)"
   ]
  },
  {
   "cell_type": "code",
   "execution_count": null,
   "id": "lKdHnUdmWxqW",
   "metadata": {
    "id": "lKdHnUdmWxqW"
   },
   "outputs": [],
   "source": [
    "type(X_train)"
   ]
  },
  {
   "cell_type": "code",
   "execution_count": null,
   "id": "tBCDoBjyv2ZB",
   "metadata": {
    "id": "tBCDoBjyv2ZB"
   },
   "outputs": [],
   "source": [
    "# Show the shape of the data after the split\n",
    "print(f\"\"\"X_train shape: {X_train.shape}\n",
    "X_test shape: {X_test.shape}\n",
    "y_train shape: {y_train.shape}\n",
    "y_test shape: {y_test.shape}\"\"\")"
   ]
  },
  {
   "cell_type": "code",
   "execution_count": null,
   "id": "gi9CHNvpWyXG",
   "metadata": {
    "id": "gi9CHNvpWyXG"
   },
   "outputs": [],
   "source": [
    "# D_train = xgb.DMatrix(X_train, label=y_train, enable_categorical=True)\n",
    "# D_test = xgb.DMatrix(X_test, label=y_test, enable_categorical=True)"
   ]
  },
  {
   "cell_type": "markdown",
   "id": "KrCPRutHydbM",
   "metadata": {
    "id": "KrCPRutHydbM"
   },
   "source": [
    "\n",
    "Example how to modify the model\n",
    "\n",
    "https://cloud.google.com/python/docs/reference/bigframes/latest/bigframes.ml.ensemble.XGBRegressor\n",
    "\n",
    "```Python\n",
    "model = XGBRegressor(\n",
    "    n_estimators=500,            # Increase the number of boosting rounds\n",
    "    learning_rate=0.05,          # Lower learning rate\n",
    "    max_depth=8,                 # Maximum depth of trees\n",
    "    subsample=0.8,               # Subsample ratio\n",
    "    colsample_bytree=0.8,        # Column subsample ratio by tree\n",
    "    min_child_weight=1,          # Minimum child weight\n",
    "    gamma=0,                     # Minimum loss reduction\n",
    "    reg_alpha=0.01,              # L1 regularization term on weights\n",
    "    reg_lambda=1                 # L2 regularization term on weights\n",
    ")\n",
    "# Als Code formatiert\n",
    "```\n",
    "\n",
    "\n"
   ]
  },
  {
   "cell_type": "code",
   "execution_count": null,
   "id": "WQ4kMs0gbGeb",
   "metadata": {
    "id": "WQ4kMs0gbGeb"
   },
   "outputs": [],
   "source": [
    "# Using the XGBRegressor from the bigframes.ml package\n",
    "# from bigframes.ml.ensemble import XGBClassifier\n",
    "\n",
    "model = XGBRegressor()\n",
    "# Here we pass the feature columns without transforms - BQML will then use\n",
    "# automatic preprocessing to encode these columns\n",
    "model.fit(X_train, y_train)"
   ]
  },
  {
   "cell_type": "code",
   "execution_count": null,
   "id": "ZIgbvO4Tgc2b",
   "metadata": {
    "id": "ZIgbvO4Tgc2b"
   },
   "outputs": [],
   "source": [
    "import bigframes.ml.metrics"
   ]
  },
  {
   "cell_type": "code",
   "execution_count": null,
   "id": "SKMP25rVfYGM",
   "metadata": {
    "id": "SKMP25rVfYGM"
   },
   "outputs": [],
   "source": [
    "# evaluate the best model on the test data\n",
    "\n",
    "y_pred = model.predict(X_test)"
   ]
  },
  {
   "cell_type": "code",
   "execution_count": null,
   "id": "x4TjqbE7Bhq_",
   "metadata": {
    "id": "x4TjqbE7Bhq_"
   },
   "outputs": [],
   "source": [
    "type(y_pred)"
   ]
  },
  {
   "cell_type": "code",
   "execution_count": null,
   "id": "vcWrIflahWE3",
   "metadata": {
    "id": "vcWrIflahWE3"
   },
   "outputs": [],
   "source": [
    "y_pred.head()"
   ]
  },
  {
   "cell_type": "code",
   "execution_count": null,
   "id": "wC8IfhCppA9x",
   "metadata": {
    "id": "wC8IfhCppA9x"
   },
   "outputs": [],
   "source": [
    "# Assuming df1 and df2 are your BigFrames DataFrames\n",
    "# Merge df1 and df2 by their index\n",
    "y_pred= y_pred.join(y_test, how='inner')\n",
    "\n",
    "# This will perform an inner join based on the indexes of df1 and df2\n"
   ]
  },
  {
   "cell_type": "code",
   "execution_count": null,
   "id": "2k6Fc8B6kCb0",
   "metadata": {
    "id": "2k6Fc8B6kCb0"
   },
   "outputs": [],
   "source": [
    "y_pred.head()"
   ]
  },
  {
   "cell_type": "code",
   "execution_count": null,
   "id": "LNFhTVzDjD1D",
   "metadata": {
    "id": "LNFhTVzDjD1D"
   },
   "outputs": [],
   "source": [
    "# Assuming 'df' is your BigFrames DataFrame loaded with your data\n",
    "print(y_pred['Target'].iloc[0], \" \", y_pred['predicted_Target_probs'].iloc[0])\n"
   ]
  },
  {
   "cell_type": "code",
   "execution_count": null,
   "id": "MUmYwJAVx6Jx",
   "metadata": {
    "id": "MUmYwJAVx6Jx"
   },
   "outputs": [],
   "source": [
    "# Extract the probability for label=1\n",
    "# y_pred['prob_1'] = y_pred['predicted_Target_probs'].apply(lambda x: [item['prob'] for item in x if item['label'] == 1][0])"
   ]
  },
  {
   "cell_type": "markdown",
   "id": "fhO7-w-Q0n5s",
   "metadata": {
    "id": "fhO7-w-Q0n5s"
   },
   "source": [
    "https://cloud.google.com/bigquery/docs/clustered-tables\n",
    "\n",
    "table_id = df.to_gbq(clustering_columns=(\"index\", \"int_col\"))"
   ]
  },
  {
   "cell_type": "code",
   "execution_count": null,
   "id": "nhYIKmBckJvK",
   "metadata": {
    "id": "nhYIKmBckJvK"
   },
   "outputs": [],
   "source": [
    "# write results back to to your BigQuery project\n",
    "\n",
    "v_target_table = f\"{project_id}.{dataset_id}.census_predicted\"\n",
    "y_pred.to_gbq(destination_table=v_target_table,  if_exists='replace')"
   ]
  },
  {
   "cell_type": "code",
   "execution_count": null,
   "id": "2mppvNqulv8r",
   "metadata": {
    "id": "2mppvNqulv8r"
   },
   "outputs": [],
   "source": [
    "# de123456-user-prd-1.pasm_mybucket.census_predicted\n",
    "# Define the SQL query to create or replace a table with the converted values\n",
    "# unnest the data table\n",
    "\n",
    "query = f\"\"\"\n",
    "CREATE OR REPLACE TABLE `{v_target_table}_new` AS\n",
    "SELECT\n",
    "  (SELECT prob FROM UNNEST(predicted_Target_probs) WHERE label = 1 LIMIT 1) AS proba_1,\n",
    "  (SELECT prob FROM UNNEST(predicted_Target_probs) WHERE label = 0 LIMIT 1) AS proba_0,\n",
    "  *\n",
    "FROM `{v_target_table}`\n",
    "\"\"\"\n",
    "\n",
    "# `{v_target_table}`\n",
    "\n",
    "# Run the query\n",
    "query_job = client.query(query)"
   ]
  },
  {
   "cell_type": "code",
   "execution_count": null,
   "id": "1bxP9vqi1Zxq",
   "metadata": {
    "id": "1bxP9vqi1Zxq"
   },
   "outputs": [],
   "source": [
    "if 'y_score' in globals():\n",
    "    del y_score"
   ]
  },
  {
   "cell_type": "code",
   "execution_count": null,
   "id": "d7-ds1eP1BRi",
   "metadata": {
    "id": "d7-ds1eP1BRi"
   },
   "outputs": [],
   "source": [
    "# Specify your SQL query to select only the desired columns\n",
    "sql_query = f\"\"\"\n",
    "SELECT train_id,\n",
    "       Target,\n",
    "       proba_1\n",
    "FROM `{v_target_table}_new`\n",
    "\"\"\"\n",
    "\n",
    "# Use the SQL query to load data\n",
    "y_score = bpd.read_gbq(sql_query)"
   ]
  },
  {
   "cell_type": "code",
   "execution_count": null,
   "id": "kzCAlgi-g4Qz",
   "metadata": {
    "id": "kzCAlgi-g4Qz"
   },
   "outputs": [],
   "source": [
    "y_score.head()"
   ]
  },
  {
   "cell_type": "code",
   "execution_count": null,
   "id": "-HodOh1dmAdO",
   "metadata": {
    "id": "-HodOh1dmAdO"
   },
   "outputs": [],
   "source": [
    "auc_score = bigframes.ml.metrics.roc_auc_score(y_score['Target'], y_score['proba_1'])\n",
    "print(\"AUC: \", auc_score)"
   ]
  },
  {
   "cell_type": "code",
   "execution_count": null,
   "id": "zkLdMNdl2_Ts",
   "metadata": {
    "id": "zkLdMNdl2_Ts"
   },
   "outputs": [],
   "source": [
    "# Initialize Vertex AI\n",
    "aiplatform.init(project=project_id, location=region_id)"
   ]
  },
  {
   "cell_type": "code",
   "execution_count": null,
   "id": "EdCBtLBW3QZP",
   "metadata": {
    "id": "EdCBtLBW3QZP"
   },
   "outputs": [],
   "source": [
    "# Save the model locally in your BigQuery project (under Models)\n",
    "model_name = 'model_xgboost_01'\n",
    "model.to_gbq(f\"{dataset_id}.{model_name}\", replace=True)"
   ]
  },
  {
   "cell_type": "code",
   "execution_count": null,
   "id": "TXBn82lh5RcA",
   "metadata": {
    "id": "TXBn82lh5RcA"
   },
   "outputs": [],
   "source": [
    "model_load = bpd.read_gbq_model(f\"{dataset_id}.{model_name}\")"
   ]
  },
  {
   "cell_type": "code",
   "execution_count": null,
   "id": "AxYWQat95ZDF",
   "metadata": {
    "id": "AxYWQat95ZDF"
   },
   "outputs": [],
   "source": [
    "type(model_load)"
   ]
  },
  {
   "cell_type": "markdown",
   "id": "z8BIZje87iI0",
   "metadata": {
    "id": "z8BIZje87iI0"
   },
   "source": [
    "### Apply the stored model to a (new) dataset"
   ]
  },
  {
   "cell_type": "code",
   "execution_count": null,
   "id": "O1bjbpvv6qeL",
   "metadata": {
    "id": "O1bjbpvv6qeL"
   },
   "outputs": [],
   "source": [
    "data_test = data_test.rename(columns={\"native-country\": \"native_country\"})\n",
    "# data_test = data_test.rename(columns={\"Target_int\": \"Target\"})\n",
    "data_test.head()"
   ]
  },
  {
   "cell_type": "code",
   "execution_count": null,
   "id": "3Fa32yve6bl8",
   "metadata": {
    "id": "3Fa32yve6bl8"
   },
   "outputs": [],
   "source": [
    "print(data_test.dtypes)"
   ]
  },
  {
   "cell_type": "code",
   "execution_count": null,
   "id": "RySn7ve45acC",
   "metadata": {
    "id": "RySn7ve45acC"
   },
   "outputs": [],
   "source": [
    "# Predict the outcome with (new) data\n",
    "\n",
    "test_pred = model_load.predict(data_test)"
   ]
  },
  {
   "cell_type": "code",
   "execution_count": null,
   "id": "UvghlISj5vop",
   "metadata": {
    "id": "UvghlISj5vop"
   },
   "outputs": [],
   "source": [
    "# the predicted Target Probs are a nested object that will have to be untagled\n",
    "\n",
    "test_pred.head()"
   ]
  },
  {
   "cell_type": "markdown",
   "id": "voGwXeQe2yr7",
   "metadata": {
    "id": "voGwXeQe2yr7"
   },
   "source": [
    "## Apply the model via SQL Code in BigQuery\n",
    "\n",
    "You can use the model created directly on BigQuery in SQL code. Given that the dataset has the same features that were there when training the model.\n",
    "\n",
    "```SQL\n",
    "SELECT\n",
    "  (SELECT prob FROM UNNEST(predicted_Target_probs) WHERE label = 1 LIMIT 1) AS proba_1,\n",
    "  (SELECT prob FROM UNNEST(predicted_Target_probs) WHERE label = 0 LIMIT 1) AS proba_0,\n",
    "  predicted_Target,\n",
    "  Target\n",
    "FROM\n",
    "  ML.PREDICT(MODEL `de123456-user-prd-1.pasm_mybucket.model_xgboost_01`,\n",
    "    (SELECT\n",
    "      *\n",
    "     FROM\n",
    "     `de123456-user-prd-1.pasm_mybucket.census_test_new`))\n",
    "```\n",
    "\n"
   ]
  }
 ],
 "metadata": {
  "colab": {
   "name": "GCP - 210 - XGBoost Regression and Bigframes",
   "provenance": []
  },
  "kernelspec": {
   "display_name": "Python 3 (ipykernel)",
   "language": "python",
   "name": "python3"
  },
  "language_info": {
   "codemirror_mode": {
    "name": "ipython",
    "version": 3
   },
   "file_extension": ".py",
   "mimetype": "text/x-python",
   "name": "python",
   "nbconvert_exporter": "python",
   "pygments_lexer": "ipython3",
   "version": "3.9.16"
  }
 },
 "nbformat": 4,
 "nbformat_minor": 5
}
