{
 "cells": [
  {
   "cell_type": "markdown",
   "id": "X-CCyHRL6dN8",
   "metadata": {
    "id": "X-CCyHRL6dN8"
   },
   "source": [
    "## Google Cloud - XGBoost Binary Classification and Bigframes \n",
    "\n",
    "<img                                                                  src=\"https://lh3.googleusercontent.com/UiNooY4LUgW_oTvpsNhPpQzsstV5W8F7rYgxgGBD85cWJoLmrOzhVs_ksK_vgx40SHs7jCqkTkCk=e14-rj-sc0xffffff-h130-w32\" alt=\"Vertex AI logo\">\n",
    "\n",
    "by Markus Lauber (https://medium.com/@mlxl)\n",
    "\n",
    "\n",
    "Bigframes allows you to work with larger datasets in Vertex AI Notebooks like you would with pandas dataframes. The data is being stored in BigQuery under the hood in the [Google Region](https://cloud.google.com/about/locations) you selcted. So you will not be limited to the memory of your 'local' engine you fired up to use Vertex AI notebooks in the first place. Though you might want to consider the costs that might be associated with processing very large datasets.\n",
    "\n",
    "Vertex AI / Colab (now) also offers the option to schedule notebooks directly.\n",
    "\n",
    "* [Use Python XGBoost and Optuna hyper parameter tuning to build model and deploy with KNIME Python nodes](https://github.com/ml-score/knime_meets_python/blob/main/machine_learning/binary/notebooks/kn_example_python_xgboost_hyper_parameter_optuna.ipynb)\n",
    "* [Machine Learning Fundamentals with BigQuery DataFrames](https://github.com/googleapis/python-bigquery-dataframes/blob/main/notebooks/getting_started/ml_fundamentals_bq_dataframes.ipynb)\n",
    "* [BigQuery DataFrames: Your Gateway to Scalable Data Analysis and ML in the Cloud](https://medium.com/technoesis/bigquery-dataframes-your-gateway-to-scalable-data-analysis-and-ml-in-the-cloud-73c2d2466549)\n",
    "* [End-to-end user journey for each model](https://cloud.google.com/bigquery/docs/e2e-journey)"
   ]
  },
  {
   "cell_type": "markdown",
   "id": "7dOfB6i0xihY",
   "metadata": {
    "id": "7dOfB6i0xihY"
   },
   "source": [
    "---\n",
    "#### Google Github with massive Code base for Trainings\n",
    "https://github.com/GoogleCloudPlatform/training-data-analyst\n",
    "\n",
    "https://github.com/GoogleCloudPlatform/training-data-analyst/tree/master/self-paced-labs/vertex-ai"
   ]
  },
  {
   "cell_type": "markdown",
   "id": "wVQvy6lybVIc",
   "metadata": {
    "id": "wVQvy6lybVIc"
   },
   "source": [
    "### MEDIUM - more articles to consider\n",
    "\n",
    "[Getting Started with BigQuery ML: A Practical Tutorial for Beginners](https://medium.com/@dipan.saha/getting-started-with-bigquery-ml-a-practical-tutorial-for-beginners-9653329d2cc4)\n",
    "\n",
    "\n",
    "[How to use advance feature engineering to preprocess data in BigQuery ML](https://cloud.google.com/blog/products/data-analytics/preprocess-data-use-bigquery-ml)\n",
    "\n",
    "\n",
    "\n",
    "---\n",
    "\n",
    "\n",
    "### Helpful Links\n",
    "\n",
    "##### by Google\n",
    "\n",
    "*   [bigframes.pandas](https://cloud.google.com/python/docs/reference/bigframes/latest/bigframes.dataframe.DataFrame) provides a pandas-compatible API for analytics.\n",
    "*   [bigframes.ml](https://cloud.google.com/python/docs/reference/bigframes/latest/bigframes.ml.cluster) provides a scikit-learn-like API for ML.\n",
    "*   [bigframes.ml.llm](https://cloud.google.com/python/docs/reference/bigframes/latest/bigframes.ml.llm) provides LLM capabilities.\n",
    "\n",
    "\n",
    "* [BigFrames API Reference](https://cloud.google.com/python/docs/reference/bigframes/latest)\n",
    "\n",
    "\n",
    "* [BigFrames GitHub page with sample notebooks](https://github.com/googleapis/python-bigquery-dataframes)\n",
    "\n",
    "* [Troubleshooting notebook runtimes](https://cloud.google.com/colab/docs/troubleshooting)\n"
   ]
  },
  {
   "cell_type": "code",
   "execution_count": 1,
   "id": "5EFU28XB7QYX",
   "metadata": {
    "colab": {
     "base_uri": "https://localhost:8080/"
    },
    "executionInfo": {
     "elapsed": 2726,
     "status": "ok",
     "timestamp": 1725450156645,
     "user": {
      "displayName": "",
      "userId": ""
     },
     "user_tz": -120
    },
    "id": "5EFU28XB7QYX",
    "outputId": "ed7bc6d8-1a3d-4781-b4b8-d6dd3ff42fd7"
   },
   "outputs": [
    {
     "name": "stdout",
     "output_type": "stream",
     "text": [
      "WARNING: google.colab.auth.authenticate_user() is not supported in Colab Enterprise.\n"
     ]
    }
   ],
   "source": [
    "# Prepare the environment and the packages\n",
    "from google.colab import auth\n",
    "auth.authenticate_user()\n",
    "project_id = 'de123456-user-prd-1'\n",
    "dataset_id = 'xgb_classification_project'\n",
    "region_id = 'europe-west3' #  https://cloud.google.com/bigquery/docs/locations#supported_locations\n",
    "\n",
    "# https://cloud.google.com/about/locations\n",
    "\n",
    "from google.cloud import bigquery\n",
    "import pandas as pd\n",
    "from pandas_gbq import to_gbq\n",
    "\n",
    "import bigframes.pandas as bpd\n",
    "\n",
    "# Initialize the BigQuery client\n",
    "client = bigquery.Client(project=project_id)"
   ]
  },
  {
   "cell_type": "code",
   "execution_count": 2,
   "id": "E_PpAy5-kDNe",
   "metadata": {
    "executionInfo": {
     "elapsed": 3207,
     "status": "ok",
     "timestamp": 1725450160897,
     "user": {
      "displayName": "",
      "userId": ""
     },
     "user_tz": -120
    },
    "id": "E_PpAy5-kDNe"
   },
   "outputs": [],
   "source": [
    "from google.cloud import aiplatform\n",
    "import joblib"
   ]
  },
  {
   "cell_type": "code",
   "execution_count": 3,
   "id": "tfJmSlXxWs8I",
   "metadata": {
    "executionInfo": {
     "elapsed": 3,
     "status": "ok",
     "timestamp": 1725450160898,
     "user": {
      "displayName": "",
      "userId": ""
     },
     "user_tz": -120
    },
    "id": "tfJmSlXxWs8I"
   },
   "outputs": [],
   "source": [
    "from bigframes.ml.model_selection import train_test_split"
   ]
  },
  {
   "cell_type": "code",
   "execution_count": 4,
   "id": "b5HTJKjvZiKZ",
   "metadata": {
    "executionInfo": {
     "elapsed": 346,
     "status": "ok",
     "timestamp": 1725450163959,
     "user": {
      "displayName": "",
      "userId": ""
     },
     "user_tz": -120
    },
    "id": "b5HTJKjvZiKZ"
   },
   "outputs": [],
   "source": [
    "from bigframes.ml.ensemble import XGBClassifier\n",
    "# import xgboost as xgb"
   ]
  },
  {
   "cell_type": "code",
   "execution_count": 5,
   "id": "gf0cJqX68V7o",
   "metadata": {
    "executionInfo": {
     "elapsed": 316,
     "status": "ok",
     "timestamp": 1725450168707,
     "user": {
      "displayName": "",
      "userId": ""
     },
     "user_tz": -120
    },
    "id": "gf0cJqX68V7o"
   },
   "outputs": [],
   "source": [
    "# Note: The project option is not required in all environments.\n",
    "# On BigQuery Studio, the project ID is automatically detected.\n",
    "bpd.options.bigquery.project = project_id\n",
    "\n",
    "# Note: The location option is not required.\n",
    "# It defaults to the location of the first table or query\n",
    "# passed to read_gbq(). For APIs where a location can't be\n",
    "# auto-detected, the location defaults to the \"US\" location.\n",
    "bpd.options.bigquery.location = region_id"
   ]
  },
  {
   "cell_type": "code",
   "execution_count": null,
   "id": "GUwtydYq77bufWr1aLoTNcYK",
   "metadata": {
    "id": "GUwtydYq77bufWr1aLoTNcYK",
    "tags": []
   },
   "outputs": [],
   "source": [
    "### GCP - XGBoost and Bigframes"
   ]
  },
  {
   "cell_type": "code",
   "execution_count": 6,
   "id": "6UEMEBtbb0RM",
   "metadata": {
    "colab": {
     "base_uri": "https://localhost:8080/"
    },
    "executionInfo": {
     "elapsed": 312,
     "status": "ok",
     "timestamp": 1725450173722,
     "user": {
      "displayName": "",
      "userId": ""
     },
     "user_tz": -120
    },
    "id": "6UEMEBtbb0RM",
    "outputId": "6e98e9eb-b759-4249-f42b-9dfdedb4d633"
   },
   "outputs": [
    {
     "name": "stdout",
     "output_type": "stream",
     "text": [
      "Train (train_table_id):  de123456-user-prd-1.xgb_classification_project.census_train  - Test (test_table_id):  de123456-user-prd-1.xgb_classification_project.census_test\n",
      "Train NEW (train_table_id_new):  de123456-user-prd-1.xgb_classification_project.census_train_new  - Test NEW (test_table_id_new):  de123456-user-prd-1.xgb_classification_project.census_test_new\n"
     ]
    }
   ],
   "source": [
    "# Define your source and destination tables\n",
    "train_table = 'census_train'\n",
    "train_table_id = f\"{project_id}.{dataset_id}.{train_table}\"\n",
    "train_table_id_new = f\"{project_id}.{dataset_id}.{train_table}_new\"\n",
    "test_table = 'census_test'\n",
    "test_table_id = f\"{project_id}.{dataset_id}.{test_table}\"\n",
    "test_table_id_new = f\"{project_id}.{dataset_id}.{test_table}_new\"\n",
    "\n",
    "print(\"Train (train_table_id): \", train_table_id, \" - Test (test_table_id): \", test_table_id)\n",
    "print(\"Train NEW (train_table_id_new): \", train_table_id_new, \" - Test NEW (test_table_id_new): \", test_table_id_new)"
   ]
  },
  {
   "cell_type": "code",
   "execution_count": 7,
   "id": "jaPyiiZjWXLe",
   "metadata": {
    "executionInfo": {
     "elapsed": 2053,
     "status": "ok",
     "timestamp": 1725450206996,
     "user": {
      "displayName": "",
      "userId": ""
     },
     "user_tz": -120
    },
    "id": "jaPyiiZjWXLe"
   },
   "outputs": [],
   "source": [
    "# SQL query to get the first 10 rows as a sample file to see the structure\n",
    "query = f\"\"\"\n",
    "SELECT *\n",
    "FROM `{train_table_id}`\n",
    "LIMIT 10\n",
    "\"\"\"\n",
    "\n",
    "# Execute the query and load results into a DataFrame\n",
    "query_job = client.query(query)  # Run the query\n",
    "df = query_job.to_dataframe()  # Convert the results into a pandas DataFrame\n",
    "\n",
    "# Convert to bqplot DataFrame (bpd)\n",
    "# data_test_bpd = bpd.DataFrame(data_test)"
   ]
  },
  {
   "cell_type": "code",
   "execution_count": 8,
   "id": "OVfNit0VWwyU",
   "metadata": {
    "colab": {
     "base_uri": "https://localhost:8080/"
    },
    "executionInfo": {
     "elapsed": 3,
     "status": "ok",
     "timestamp": 1725450211912,
     "user": {
      "displayName": "",
      "userId": ""
     },
     "user_tz": -120
    },
    "id": "OVfNit0VWwyU",
    "outputId": "1c8a903a-5def-472a-976b-206c3a805e2b"
   },
   "outputs": [
    {
     "name": "stdout",
     "output_type": "stream",
     "text": [
      "df shape:            (10, 16)\n",
      "df[features] shape:  (10, 14)\n",
      "categorical columns: ['workclass', 'education', 'marital_status', 'occupation', 'relationship', 'race', 'sex', 'native_country']\n",
      "numerical columns: ['age', 'fnlwgt', 'education_num', 'capital_gain', 'capital_loss', 'hours_per_week']\n",
      "feature columns: ['age', 'workclass', 'fnlwgt', 'education', 'education_num', 'marital_status', 'occupation', 'relationship', 'race', 'sex', 'capital_gain', 'capital_loss', 'hours_per_week', 'native_country']\n",
      "rest columns: ['Target', 'row_id']\n"
     ]
    }
   ],
   "source": [
    "excluded_features = ['row_id']\n",
    "label = ['Target']\n",
    "\n",
    "# features = [feat for feat in data.columns if feat not in excluded_features and not feat==label]\n",
    "df_features = [feat for feat in df.columns if feat not in excluded_features and feat not in label]\n",
    "\n",
    "df_num_cols = df[df_features].select_dtypes(include='number').columns.tolist()\n",
    "df_cat_cols = df[df_features].select_dtypes(exclude='number').columns.tolist()\n",
    "\n",
    "df_rest_cols = [feat for feat in df.columns if feat not in df_cat_cols and feat not in df_num_cols]\n",
    "\n",
    "print(f'''{\"df shape:\":20} {df.shape}\n",
    "{\"df[features] shape:\":20} {df[df_features].shape}\n",
    "categorical columns: {df_cat_cols}\n",
    "numerical columns: {df_num_cols}\n",
    "feature columns: {df_features}\n",
    "rest columns: {df_rest_cols}''')\n",
    "\n",
    "# THX David Gutmann"
   ]
  },
  {
   "cell_type": "code",
   "execution_count": 9,
   "id": "Qqe3mHCtZXey",
   "metadata": {
    "colab": {
     "base_uri": "https://localhost:8080/"
    },
    "executionInfo": {
     "elapsed": 285,
     "status": "ok",
     "timestamp": 1725450218316,
     "user": {
      "displayName": "",
      "userId": ""
     },
     "user_tz": -120
    },
    "id": "Qqe3mHCtZXey",
    "outputId": "35a008fe-0f81-4349-aad3-e4ba6baf8202"
   },
   "outputs": [
    {
     "name": "stdout",
     "output_type": "stream",
     "text": [
      "df_num_cols_str:  'age', 'fnlwgt', 'education_num', 'capital_gain', 'capital_loss', 'hours_per_week'\n",
      "df_cat_cols_str:  'workclass', 'education', 'marital_status', 'occupation', 'relationship', 'race', 'sex', 'native_country'\n",
      "df_target_str:  'Target'\n"
     ]
    }
   ],
   "source": [
    "# Format columns lists as strings for the query\n",
    "df_num_cols_str = ', '.join([f\"'{col}'\" for col in df_num_cols])\n",
    "df_cat_cols_str = ', '.join([f\"'{col}'\" for col in df_cat_cols])\n",
    "df_target_str = ', '.join([f\"'{col}'\" for col in label])\n",
    "\n",
    "print(\"df_num_cols_str: \", df_num_cols_str)\n",
    "print(\"df_cat_cols_str: \", df_cat_cols_str)\n",
    "print(\"df_target_str: \", df_target_str)"
   ]
  },
  {
   "cell_type": "code",
   "execution_count": 10,
   "id": "rdWFg5E3RiZc",
   "metadata": {
    "executionInfo": {
     "elapsed": 820,
     "status": "ok",
     "timestamp": 1725450232944,
     "user": {
      "displayName": "",
      "userId": ""
     },
     "user_tz": -120
    },
    "id": "rdWFg5E3RiZc"
   },
   "outputs": [],
   "source": [
    "# Define the SQL query to create or replace a table with the converted values for the Target variable\n",
    "query = f\"\"\"\n",
    "CREATE OR REPLACE TABLE `{train_table_id_new}` AS\n",
    "  SELECT  SAFE_CAST(Target AS INT64) AS Target_int\n",
    "        , *\n",
    "FROM `{train_table_id}`\n",
    "\"\"\"\n",
    "\n",
    "# Run the query\n",
    "query_job = client.query(query)"
   ]
  },
  {
   "cell_type": "code",
   "execution_count": 11,
   "id": "dnesvS4hRrOl",
   "metadata": {
    "executionInfo": {
     "elapsed": 489,
     "status": "ok",
     "timestamp": 1725450262371,
     "user": {
      "displayName": "",
      "userId": ""
     },
     "user_tz": -120
    },
    "id": "dnesvS4hRrOl"
   },
   "outputs": [],
   "source": [
    "# Define the SQL query to create or replace a table with the converted values\n",
    "query = f\"\"\"\n",
    "CREATE OR REPLACE TABLE `{test_table_id_new}` AS\n",
    "  SELECT  SAFE_CAST(Target AS INT64) AS Target_int\n",
    "        , *\n",
    "FROM `{test_table_id}`\n",
    "\"\"\"\n",
    "\n",
    "# Run the query\n",
    "query_job = client.query(query)"
   ]
  },
  {
   "cell_type": "code",
   "execution_count": 52,
   "id": "8XiLZ4GtVWnm",
   "metadata": {
    "executionInfo": {
     "elapsed": 248,
     "status": "ok",
     "timestamp": 1725451982150,
     "user": {
      "displayName": "",
      "userId": ""
     },
     "user_tz": -120
    },
    "id": "8XiLZ4GtVWnm"
   },
   "outputs": [],
   "source": [
    "if 'data' in globals():\n",
    "    del data"
   ]
  },
  {
   "cell_type": "code",
   "execution_count": 53,
   "id": "XgPh2aBL813l",
   "metadata": {
    "executionInfo": {
     "elapsed": 729,
     "status": "ok",
     "timestamp": 1725451984785,
     "user": {
      "displayName": "",
      "userId": ""
     },
     "user_tz": -120
    },
    "id": "XgPh2aBL813l"
   },
   "outputs": [],
   "source": [
    "# load the data from BigQuery into a (temporary) Bigframes structure like a Pandas dataframe\n",
    "data = bpd.read_gbq(train_table_id_new)\n",
    "data = data.reset_index(drop=True)"
   ]
  },
  {
   "cell_type": "code",
   "execution_count": 54,
   "id": "NZpUW5Wr_3_V",
   "metadata": {
    "colab": {
     "base_uri": "https://localhost:8080/",
     "height": 411
    },
    "executionInfo": {
     "elapsed": 5928,
     "status": "ok",
     "timestamp": 1725451999917,
     "user": {
      "displayName": "",
      "userId": ""
     },
     "user_tz": -120
    },
    "id": "NZpUW5Wr_3_V",
    "outputId": "c61bd677-0783-439c-c67a-132cb25a0640"
   },
   "outputs": [
    {
     "data": {
      "text/html": [
       "Query job 59c53017-51fb-4c5e-a972-5b353f3f18ab is DONE. 5.4 MB processed. <a target=\"_blank\" href=\"https://console.cloud.google.com/bigquery?project=de123456-user-prd-1&j=bq:europe-west3:59c53017-51fb-4c5e-a972-5b353f3f18ab&page=queryresults\">Open Job</a>"
      ],
      "text/plain": [
       "<IPython.core.display.HTML object>"
      ]
     },
     "metadata": {},
     "output_type": "display_data"
    },
    {
     "data": {
      "text/html": [
       "Query job 7aff3044-a4c5-4ebd-8a5d-eb90c4643f61 is DONE. 0 Bytes processed. <a target=\"_blank\" href=\"https://console.cloud.google.com/bigquery?project=de123456-user-prd-1&j=bq:europe-west3:7aff3044-a4c5-4ebd-8a5d-eb90c4643f61&page=queryresults\">Open Job</a>"
      ],
      "text/plain": [
       "<IPython.core.display.HTML object>"
      ]
     },
     "metadata": {},
     "output_type": "display_data"
    },
    {
     "data": {
      "text/html": [
       "Query job bdb1a315-e198-487a-880e-b43c5c82a178 is DONE. 924 Bytes processed. <a target=\"_blank\" href=\"https://console.cloud.google.com/bigquery?project=de123456-user-prd-1&j=bq:europe-west3:bdb1a315-e198-487a-880e-b43c5c82a178&page=queryresults\">Open Job</a>"
      ],
      "text/plain": [
       "<IPython.core.display.HTML object>"
      ]
     },
     "metadata": {},
     "output_type": "display_data"
    },
    {
     "data": {
      "text/html": [
       "<div>\n",
       "<style scoped>\n",
       "    .dataframe tbody tr th:only-of-type {\n",
       "        vertical-align: middle;\n",
       "    }\n",
       "\n",
       "    .dataframe tbody tr th {\n",
       "        vertical-align: top;\n",
       "    }\n",
       "\n",
       "    .dataframe thead th {\n",
       "        text-align: right;\n",
       "    }\n",
       "</style>\n",
       "<table border=\"1\" class=\"dataframe\">\n",
       "  <thead>\n",
       "    <tr style=\"text-align: right;\">\n",
       "      <th></th>\n",
       "      <th>Target_int</th>\n",
       "      <th>age</th>\n",
       "      <th>workclass</th>\n",
       "      <th>fnlwgt</th>\n",
       "      <th>education</th>\n",
       "      <th>education_num</th>\n",
       "      <th>marital_status</th>\n",
       "      <th>occupation</th>\n",
       "      <th>relationship</th>\n",
       "      <th>race</th>\n",
       "      <th>sex</th>\n",
       "      <th>capital_gain</th>\n",
       "      <th>capital_loss</th>\n",
       "      <th>hours_per_week</th>\n",
       "      <th>native_country</th>\n",
       "      <th>Target</th>\n",
       "      <th>row_id</th>\n",
       "    </tr>\n",
       "  </thead>\n",
       "  <tbody>\n",
       "    <tr>\n",
       "      <th>0</th>\n",
       "      <td>0</td>\n",
       "      <td>27</td>\n",
       "      <td>Private</td>\n",
       "      <td>124953</td>\n",
       "      <td>HS-grad</td>\n",
       "      <td>9</td>\n",
       "      <td>Never-married</td>\n",
       "      <td>Other-service</td>\n",
       "      <td>Not-in-family</td>\n",
       "      <td>White</td>\n",
       "      <td>Male</td>\n",
       "      <td>0</td>\n",
       "      <td>1980</td>\n",
       "      <td>40</td>\n",
       "      <td>United-States</td>\n",
       "      <td>0</td>\n",
       "      <td>Row121</td>\n",
       "    </tr>\n",
       "    <tr>\n",
       "      <th>1</th>\n",
       "      <td>0</td>\n",
       "      <td>24</td>\n",
       "      <td>Private</td>\n",
       "      <td>229773</td>\n",
       "      <td>Bachelors</td>\n",
       "      <td>13</td>\n",
       "      <td>Never-married</td>\n",
       "      <td>Exec-managerial</td>\n",
       "      <td>Not-in-family</td>\n",
       "      <td>White</td>\n",
       "      <td>Male</td>\n",
       "      <td>0</td>\n",
       "      <td>0</td>\n",
       "      <td>40</td>\n",
       "      <td>United-States</td>\n",
       "      <td>0</td>\n",
       "      <td>Row3745</td>\n",
       "    </tr>\n",
       "    <tr>\n",
       "      <th>2</th>\n",
       "      <td>0</td>\n",
       "      <td>52</td>\n",
       "      <td>Private</td>\n",
       "      <td>208137</td>\n",
       "      <td>Assoc-voc</td>\n",
       "      <td>11</td>\n",
       "      <td>Married-civ-spouse</td>\n",
       "      <td>Adm-clerical</td>\n",
       "      <td>Husband</td>\n",
       "      <td>White</td>\n",
       "      <td>Male</td>\n",
       "      <td>0</td>\n",
       "      <td>0</td>\n",
       "      <td>40</td>\n",
       "      <td>United-States</td>\n",
       "      <td>0</td>\n",
       "      <td>Row1150</td>\n",
       "    </tr>\n",
       "    <tr>\n",
       "      <th>3</th>\n",
       "      <td>0</td>\n",
       "      <td>65</td>\n",
       "      <td>&lt;NA&gt;</td>\n",
       "      <td>146722</td>\n",
       "      <td>12th</td>\n",
       "      <td>8</td>\n",
       "      <td>Married-civ-spouse</td>\n",
       "      <td>&lt;NA&gt;</td>\n",
       "      <td>Husband</td>\n",
       "      <td>White</td>\n",
       "      <td>Male</td>\n",
       "      <td>0</td>\n",
       "      <td>0</td>\n",
       "      <td>10</td>\n",
       "      <td>United-States</td>\n",
       "      <td>0</td>\n",
       "      <td>Row28369</td>\n",
       "    </tr>\n",
       "    <tr>\n",
       "      <th>4</th>\n",
       "      <td>0</td>\n",
       "      <td>25</td>\n",
       "      <td>Private</td>\n",
       "      <td>193787</td>\n",
       "      <td>Bachelors</td>\n",
       "      <td>13</td>\n",
       "      <td>Married-civ-spouse</td>\n",
       "      <td>Sales</td>\n",
       "      <td>Wife</td>\n",
       "      <td>White</td>\n",
       "      <td>Female</td>\n",
       "      <td>0</td>\n",
       "      <td>0</td>\n",
       "      <td>45</td>\n",
       "      <td>United-States</td>\n",
       "      <td>0</td>\n",
       "      <td>Row34115</td>\n",
       "    </tr>\n",
       "  </tbody>\n",
       "</table>\n",
       "<p>5 rows × 17 columns</p>\n",
       "</div>[5 rows x 17 columns in total]"
      ],
      "text/plain": [
       "   Target_int  age workclass  fnlwgt  education  education_num  \\\n",
       "0           0   27   Private  124953    HS-grad              9   \n",
       "1           0   24   Private  229773  Bachelors             13   \n",
       "2           0   52   Private  208137  Assoc-voc             11   \n",
       "3           0   65      <NA>  146722       12th              8   \n",
       "4           0   25   Private  193787  Bachelors             13   \n",
       "\n",
       "       marital_status       occupation   relationship   race     sex  \\\n",
       "0       Never-married    Other-service  Not-in-family  White    Male   \n",
       "1       Never-married  Exec-managerial  Not-in-family  White    Male   \n",
       "2  Married-civ-spouse     Adm-clerical        Husband  White    Male   \n",
       "3  Married-civ-spouse             <NA>        Husband  White    Male   \n",
       "4  Married-civ-spouse            Sales           Wife  White  Female   \n",
       "\n",
       "   capital_gain  capital_loss  hours_per_week native_country Target    row_id  \n",
       "0             0          1980              40  United-States      0    Row121  \n",
       "1             0             0              40  United-States      0   Row3745  \n",
       "2             0             0              40  United-States      0   Row1150  \n",
       "3             0             0              10  United-States      0  Row28369  \n",
       "4             0             0              45  United-States      0  Row34115  \n",
       "\n",
       "[5 rows x 17 columns]"
      ]
     },
     "execution_count": 54,
     "metadata": {},
     "output_type": "execute_result"
    }
   ],
   "source": [
    "# BigQuery DataFrames creates a default numbered index, which we can give a name\n",
    "# data.index.name = \"train_id\"\n",
    "data.head()"
   ]
  },
  {
   "cell_type": "markdown",
   "id": "jAihAq15UY8w",
   "metadata": {
    "id": "jAihAq15UY8w"
   },
   "source": [
    "[Bigframes Functions](https://cloud.google.com/python/docs/reference/bigframes/latest/bigframes.dataframe.DataFrame) - Overview"
   ]
  },
  {
   "cell_type": "code",
   "execution_count": 55,
   "id": "1bPmNeE_S34z",
   "metadata": {
    "colab": {
     "base_uri": "https://localhost:8080/",
     "height": 411
    },
    "executionInfo": {
     "elapsed": 5581,
     "status": "ok",
     "timestamp": 1725452013181,
     "user": {
      "displayName": "",
      "userId": ""
     },
     "user_tz": -120
    },
    "id": "1bPmNeE_S34z",
    "outputId": "4d24aa7e-796b-4e2f-ca49-fdf0a87724d3"
   },
   "outputs": [
    {
     "data": {
      "text/html": [
       "Query job c995ed22-c663-459d-93d9-f0fafe536270 is DONE. 5.4 MB processed. <a target=\"_blank\" href=\"https://console.cloud.google.com/bigquery?project=de123456-user-prd-1&j=bq:europe-west3:c995ed22-c663-459d-93d9-f0fafe536270&page=queryresults\">Open Job</a>"
      ],
      "text/plain": [
       "<IPython.core.display.HTML object>"
      ]
     },
     "metadata": {},
     "output_type": "display_data"
    },
    {
     "data": {
      "text/html": [
       "Query job 6e2c29b7-318a-4469-861a-d678b157f4a8 is DONE. 0 Bytes processed. <a target=\"_blank\" href=\"https://console.cloud.google.com/bigquery?project=de123456-user-prd-1&j=bq:europe-west3:6e2c29b7-318a-4469-861a-d678b157f4a8&page=queryresults\">Open Job</a>"
      ],
      "text/plain": [
       "<IPython.core.display.HTML object>"
      ]
     },
     "metadata": {},
     "output_type": "display_data"
    },
    {
     "data": {
      "text/html": [
       "Query job b4d90890-ee61-4a9c-aee5-b89fba2aeab0 is DONE. 909 Bytes processed. <a target=\"_blank\" href=\"https://console.cloud.google.com/bigquery?project=de123456-user-prd-1&j=bq:europe-west3:b4d90890-ee61-4a9c-aee5-b89fba2aeab0&page=queryresults\">Open Job</a>"
      ],
      "text/plain": [
       "<IPython.core.display.HTML object>"
      ]
     },
     "metadata": {},
     "output_type": "display_data"
    },
    {
     "data": {
      "text/html": [
       "<div>\n",
       "<style scoped>\n",
       "    .dataframe tbody tr th:only-of-type {\n",
       "        vertical-align: middle;\n",
       "    }\n",
       "\n",
       "    .dataframe tbody tr th {\n",
       "        vertical-align: top;\n",
       "    }\n",
       "\n",
       "    .dataframe thead th {\n",
       "        text-align: right;\n",
       "    }\n",
       "</style>\n",
       "<table border=\"1\" class=\"dataframe\">\n",
       "  <thead>\n",
       "    <tr style=\"text-align: right;\">\n",
       "      <th></th>\n",
       "      <th>Target</th>\n",
       "      <th>age</th>\n",
       "      <th>workclass</th>\n",
       "      <th>fnlwgt</th>\n",
       "      <th>education</th>\n",
       "      <th>education_num</th>\n",
       "      <th>marital_status</th>\n",
       "      <th>occupation</th>\n",
       "      <th>relationship</th>\n",
       "      <th>race</th>\n",
       "      <th>sex</th>\n",
       "      <th>capital_gain</th>\n",
       "      <th>capital_loss</th>\n",
       "      <th>hours_per_week</th>\n",
       "      <th>native_country</th>\n",
       "      <th>row_id</th>\n",
       "    </tr>\n",
       "  </thead>\n",
       "  <tbody>\n",
       "    <tr>\n",
       "      <th>0</th>\n",
       "      <td>0</td>\n",
       "      <td>27</td>\n",
       "      <td>Private</td>\n",
       "      <td>124953</td>\n",
       "      <td>HS-grad</td>\n",
       "      <td>9</td>\n",
       "      <td>Never-married</td>\n",
       "      <td>Other-service</td>\n",
       "      <td>Not-in-family</td>\n",
       "      <td>White</td>\n",
       "      <td>Male</td>\n",
       "      <td>0</td>\n",
       "      <td>1980</td>\n",
       "      <td>40</td>\n",
       "      <td>United-States</td>\n",
       "      <td>Row121</td>\n",
       "    </tr>\n",
       "    <tr>\n",
       "      <th>1</th>\n",
       "      <td>0</td>\n",
       "      <td>24</td>\n",
       "      <td>Private</td>\n",
       "      <td>229773</td>\n",
       "      <td>Bachelors</td>\n",
       "      <td>13</td>\n",
       "      <td>Never-married</td>\n",
       "      <td>Exec-managerial</td>\n",
       "      <td>Not-in-family</td>\n",
       "      <td>White</td>\n",
       "      <td>Male</td>\n",
       "      <td>0</td>\n",
       "      <td>0</td>\n",
       "      <td>40</td>\n",
       "      <td>United-States</td>\n",
       "      <td>Row3745</td>\n",
       "    </tr>\n",
       "    <tr>\n",
       "      <th>2</th>\n",
       "      <td>0</td>\n",
       "      <td>52</td>\n",
       "      <td>Private</td>\n",
       "      <td>208137</td>\n",
       "      <td>Assoc-voc</td>\n",
       "      <td>11</td>\n",
       "      <td>Married-civ-spouse</td>\n",
       "      <td>Adm-clerical</td>\n",
       "      <td>Husband</td>\n",
       "      <td>White</td>\n",
       "      <td>Male</td>\n",
       "      <td>0</td>\n",
       "      <td>0</td>\n",
       "      <td>40</td>\n",
       "      <td>United-States</td>\n",
       "      <td>Row1150</td>\n",
       "    </tr>\n",
       "    <tr>\n",
       "      <th>3</th>\n",
       "      <td>0</td>\n",
       "      <td>65</td>\n",
       "      <td>&lt;NA&gt;</td>\n",
       "      <td>146722</td>\n",
       "      <td>12th</td>\n",
       "      <td>8</td>\n",
       "      <td>Married-civ-spouse</td>\n",
       "      <td>&lt;NA&gt;</td>\n",
       "      <td>Husband</td>\n",
       "      <td>White</td>\n",
       "      <td>Male</td>\n",
       "      <td>0</td>\n",
       "      <td>0</td>\n",
       "      <td>10</td>\n",
       "      <td>United-States</td>\n",
       "      <td>Row28369</td>\n",
       "    </tr>\n",
       "    <tr>\n",
       "      <th>4</th>\n",
       "      <td>0</td>\n",
       "      <td>25</td>\n",
       "      <td>Private</td>\n",
       "      <td>193787</td>\n",
       "      <td>Bachelors</td>\n",
       "      <td>13</td>\n",
       "      <td>Married-civ-spouse</td>\n",
       "      <td>Sales</td>\n",
       "      <td>Wife</td>\n",
       "      <td>White</td>\n",
       "      <td>Female</td>\n",
       "      <td>0</td>\n",
       "      <td>0</td>\n",
       "      <td>45</td>\n",
       "      <td>United-States</td>\n",
       "      <td>Row34115</td>\n",
       "    </tr>\n",
       "  </tbody>\n",
       "</table>\n",
       "<p>5 rows × 16 columns</p>\n",
       "</div>[5 rows x 16 columns in total]"
      ],
      "text/plain": [
       "   Target  age workclass  fnlwgt  education  education_num  \\\n",
       "0       0   27   Private  124953    HS-grad              9   \n",
       "1       0   24   Private  229773  Bachelors             13   \n",
       "2       0   52   Private  208137  Assoc-voc             11   \n",
       "3       0   65      <NA>  146722       12th              8   \n",
       "4       0   25   Private  193787  Bachelors             13   \n",
       "\n",
       "       marital_status       occupation   relationship   race     sex  \\\n",
       "0       Never-married    Other-service  Not-in-family  White    Male   \n",
       "1       Never-married  Exec-managerial  Not-in-family  White    Male   \n",
       "2  Married-civ-spouse     Adm-clerical        Husband  White    Male   \n",
       "3  Married-civ-spouse             <NA>        Husband  White    Male   \n",
       "4  Married-civ-spouse            Sales           Wife  White  Female   \n",
       "\n",
       "   capital_gain  capital_loss  hours_per_week native_country    row_id  \n",
       "0             0          1980              40  United-States    Row121  \n",
       "1             0             0              40  United-States   Row3745  \n",
       "2             0             0              40  United-States   Row1150  \n",
       "3             0             0              10  United-States  Row28369  \n",
       "4             0             0              45  United-States  Row34115  \n",
       "\n",
       "[5 rows x 16 columns]"
      ]
     },
     "execution_count": 55,
     "metadata": {},
     "output_type": "execute_result"
    }
   ],
   "source": [
    "# The integer Target_int gets to be the 'real' Target by renaming and dropping\n",
    "\n",
    "data = data.drop(['Target'], axis=1).rename(columns={\"Target_int\": \"Target\"})\n",
    "# data = data.rename(columns={\"Target_int\": \"Target\"})\n",
    "data.head()"
   ]
  },
  {
   "cell_type": "code",
   "execution_count": 56,
   "id": "_Tjh5AfgAb5B",
   "metadata": {
    "colab": {
     "base_uri": "https://localhost:8080/"
    },
    "executionInfo": {
     "elapsed": 259,
     "status": "ok",
     "timestamp": 1725452017387,
     "user": {
      "displayName": "",
      "userId": ""
     },
     "user_tz": -120
    },
    "id": "_Tjh5AfgAb5B",
    "outputId": "dbfdb014-f941-42e2-991b-9622af9bb4dc"
   },
   "outputs": [
    {
     "data": {
      "text/plain": [
       "bigframes.dataframe.DataFrame"
      ]
     },
     "execution_count": 56,
     "metadata": {},
     "output_type": "execute_result"
    }
   ],
   "source": [
    "type(data)"
   ]
  },
  {
   "cell_type": "markdown",
   "id": "kx6RE2Mg9Kd3",
   "metadata": {
    "id": "kx6RE2Mg9Kd3"
   },
   "source": [
    "#### Import the Test data"
   ]
  },
  {
   "cell_type": "code",
   "execution_count": 60,
   "id": "yKcMW5wh9GpS",
   "metadata": {
    "executionInfo": {
     "elapsed": 288,
     "status": "ok",
     "timestamp": 1725452100971,
     "user": {
      "displayName": "",
      "userId": ""
     },
     "user_tz": -120
    },
    "id": "yKcMW5wh9GpS"
   },
   "outputs": [],
   "source": [
    "if 'data_test' in globals():\n",
    "    del data_test"
   ]
  },
  {
   "cell_type": "code",
   "execution_count": 61,
   "id": "ON5SPmcx9RaU",
   "metadata": {
    "executionInfo": {
     "elapsed": 564,
     "status": "ok",
     "timestamp": 1725452103113,
     "user": {
      "displayName": "",
      "userId": ""
     },
     "user_tz": -120
    },
    "id": "ON5SPmcx9RaU"
   },
   "outputs": [],
   "source": [
    "data_test = bpd.read_gbq(test_table_id_new)\n",
    "data_test = data_test.reset_index(drop=True)"
   ]
  },
  {
   "cell_type": "code",
   "execution_count": 62,
   "id": "vcf-z3yAAK4d",
   "metadata": {
    "colab": {
     "base_uri": "https://localhost:8080/",
     "height": 411
    },
    "executionInfo": {
     "elapsed": 5858,
     "status": "ok",
     "timestamp": 1725452111593,
     "user": {
      "displayName": "",
      "userId": ""
     },
     "user_tz": -120
    },
    "id": "vcf-z3yAAK4d",
    "outputId": "a8703de1-a4ca-4a28-d7bd-66e31a76aeb9"
   },
   "outputs": [
    {
     "data": {
      "text/html": [
       "Query job ee6399d7-625a-4967-bffa-28fc74ea1588 is DONE. 2.3 MB processed. <a target=\"_blank\" href=\"https://console.cloud.google.com/bigquery?project=de123456-user-prd-1&j=bq:europe-west3:ee6399d7-625a-4967-bffa-28fc74ea1588&page=queryresults\">Open Job</a>"
      ],
      "text/plain": [
       "<IPython.core.display.HTML object>"
      ]
     },
     "metadata": {},
     "output_type": "display_data"
    },
    {
     "data": {
      "text/html": [
       "Query job 5d18b354-af93-4df9-ae35-efb18658bad9 is DONE. 0 Bytes processed. <a target=\"_blank\" href=\"https://console.cloud.google.com/bigquery?project=de123456-user-prd-1&j=bq:europe-west3:5d18b354-af93-4df9-ae35-efb18658bad9&page=queryresults\">Open Job</a>"
      ],
      "text/plain": [
       "<IPython.core.display.HTML object>"
      ]
     },
     "metadata": {},
     "output_type": "display_data"
    },
    {
     "data": {
      "text/html": [
       "Query job 6e5895f8-8b6e-408d-8b37-f2e22d6ba30a is DONE. 958 Bytes processed. <a target=\"_blank\" href=\"https://console.cloud.google.com/bigquery?project=de123456-user-prd-1&j=bq:europe-west3:6e5895f8-8b6e-408d-8b37-f2e22d6ba30a&page=queryresults\">Open Job</a>"
      ],
      "text/plain": [
       "<IPython.core.display.HTML object>"
      ]
     },
     "metadata": {},
     "output_type": "display_data"
    },
    {
     "data": {
      "text/html": [
       "<div>\n",
       "<style scoped>\n",
       "    .dataframe tbody tr th:only-of-type {\n",
       "        vertical-align: middle;\n",
       "    }\n",
       "\n",
       "    .dataframe tbody tr th {\n",
       "        vertical-align: top;\n",
       "    }\n",
       "\n",
       "    .dataframe thead th {\n",
       "        text-align: right;\n",
       "    }\n",
       "</style>\n",
       "<table border=\"1\" class=\"dataframe\">\n",
       "  <thead>\n",
       "    <tr style=\"text-align: right;\">\n",
       "      <th></th>\n",
       "      <th>Target_int</th>\n",
       "      <th>age</th>\n",
       "      <th>workclass</th>\n",
       "      <th>fnlwgt</th>\n",
       "      <th>education</th>\n",
       "      <th>education_num</th>\n",
       "      <th>marital_status</th>\n",
       "      <th>occupation</th>\n",
       "      <th>relationship</th>\n",
       "      <th>race</th>\n",
       "      <th>sex</th>\n",
       "      <th>capital_gain</th>\n",
       "      <th>capital_loss</th>\n",
       "      <th>hours_per_week</th>\n",
       "      <th>native_country</th>\n",
       "      <th>Target</th>\n",
       "      <th>row_id</th>\n",
       "    </tr>\n",
       "  </thead>\n",
       "  <tbody>\n",
       "    <tr>\n",
       "      <th>0</th>\n",
       "      <td>0</td>\n",
       "      <td>38</td>\n",
       "      <td>Private</td>\n",
       "      <td>206535</td>\n",
       "      <td>Some-college</td>\n",
       "      <td>10</td>\n",
       "      <td>Divorced</td>\n",
       "      <td>Tech-support</td>\n",
       "      <td>Unmarried</td>\n",
       "      <td>White</td>\n",
       "      <td>Female</td>\n",
       "      <td>0</td>\n",
       "      <td>0</td>\n",
       "      <td>50</td>\n",
       "      <td>United-States</td>\n",
       "      <td>0</td>\n",
       "      <td>Row1079</td>\n",
       "    </tr>\n",
       "    <tr>\n",
       "      <th>1</th>\n",
       "      <td>0</td>\n",
       "      <td>56</td>\n",
       "      <td>Private</td>\n",
       "      <td>183169</td>\n",
       "      <td>HS-grad</td>\n",
       "      <td>9</td>\n",
       "      <td>Never-married</td>\n",
       "      <td>Adm-clerical</td>\n",
       "      <td>Own-child</td>\n",
       "      <td>White</td>\n",
       "      <td>Female</td>\n",
       "      <td>0</td>\n",
       "      <td>0</td>\n",
       "      <td>35</td>\n",
       "      <td>United-States</td>\n",
       "      <td>0</td>\n",
       "      <td>Row13436</td>\n",
       "    </tr>\n",
       "    <tr>\n",
       "      <th>2</th>\n",
       "      <td>0</td>\n",
       "      <td>69</td>\n",
       "      <td>Private</td>\n",
       "      <td>29087</td>\n",
       "      <td>7th-8th</td>\n",
       "      <td>4</td>\n",
       "      <td>Married-civ-spouse</td>\n",
       "      <td>Handlers-cleaners</td>\n",
       "      <td>Husband</td>\n",
       "      <td>White</td>\n",
       "      <td>Male</td>\n",
       "      <td>0</td>\n",
       "      <td>0</td>\n",
       "      <td>6</td>\n",
       "      <td>United-States</td>\n",
       "      <td>0</td>\n",
       "      <td>Row14372</td>\n",
       "    </tr>\n",
       "    <tr>\n",
       "      <th>3</th>\n",
       "      <td>1</td>\n",
       "      <td>38</td>\n",
       "      <td>Private</td>\n",
       "      <td>149347</td>\n",
       "      <td>Masters</td>\n",
       "      <td>14</td>\n",
       "      <td>Married-civ-spouse</td>\n",
       "      <td>Prof-specialty</td>\n",
       "      <td>Husband</td>\n",
       "      <td>White</td>\n",
       "      <td>Male</td>\n",
       "      <td>0</td>\n",
       "      <td>0</td>\n",
       "      <td>50</td>\n",
       "      <td>United-States</td>\n",
       "      <td>1</td>\n",
       "      <td>Row14644</td>\n",
       "    </tr>\n",
       "    <tr>\n",
       "      <th>4</th>\n",
       "      <td>0</td>\n",
       "      <td>48</td>\n",
       "      <td>Private</td>\n",
       "      <td>310639</td>\n",
       "      <td>Some-college</td>\n",
       "      <td>10</td>\n",
       "      <td>Divorced</td>\n",
       "      <td>Exec-managerial</td>\n",
       "      <td>Not-in-family</td>\n",
       "      <td>White</td>\n",
       "      <td>Male</td>\n",
       "      <td>0</td>\n",
       "      <td>0</td>\n",
       "      <td>50</td>\n",
       "      <td>United-States</td>\n",
       "      <td>0</td>\n",
       "      <td>Row10348</td>\n",
       "    </tr>\n",
       "  </tbody>\n",
       "</table>\n",
       "<p>5 rows × 17 columns</p>\n",
       "</div>[5 rows x 17 columns in total]"
      ],
      "text/plain": [
       "   Target_int  age workclass  fnlwgt     education  education_num  \\\n",
       "0           0   38   Private  206535  Some-college             10   \n",
       "1           0   56   Private  183169       HS-grad              9   \n",
       "2           0   69   Private   29087       7th-8th              4   \n",
       "3           1   38   Private  149347       Masters             14   \n",
       "4           0   48   Private  310639  Some-college             10   \n",
       "\n",
       "       marital_status         occupation   relationship   race     sex  \\\n",
       "0            Divorced       Tech-support      Unmarried  White  Female   \n",
       "1       Never-married       Adm-clerical      Own-child  White  Female   \n",
       "2  Married-civ-spouse  Handlers-cleaners        Husband  White    Male   \n",
       "3  Married-civ-spouse     Prof-specialty        Husband  White    Male   \n",
       "4            Divorced    Exec-managerial  Not-in-family  White    Male   \n",
       "\n",
       "   capital_gain  capital_loss  hours_per_week native_country Target    row_id  \n",
       "0             0             0              50  United-States      0   Row1079  \n",
       "1             0             0              35  United-States      0  Row13436  \n",
       "2             0             0               6  United-States      0  Row14372  \n",
       "3             0             0              50  United-States      1  Row14644  \n",
       "4             0             0              50  United-States      0  Row10348  \n",
       "\n",
       "[5 rows x 17 columns]"
      ]
     },
     "execution_count": 62,
     "metadata": {},
     "output_type": "execute_result"
    }
   ],
   "source": [
    "# BigQuery DataFrames creates a default numbered index, which we can give a name\n",
    "# data_test.index.name = \"test_id\"\n",
    "data_test.head()"
   ]
  },
  {
   "cell_type": "code",
   "execution_count": 63,
   "id": "Xe_6It1IVww0",
   "metadata": {
    "colab": {
     "base_uri": "https://localhost:8080/",
     "height": 411
    },
    "executionInfo": {
     "elapsed": 6012,
     "status": "ok",
     "timestamp": 1725452121077,
     "user": {
      "displayName": "",
      "userId": ""
     },
     "user_tz": -120
    },
    "id": "Xe_6It1IVww0",
    "outputId": "b7cc9cac-fbb8-4bd6-e8a7-0be4ab65c420"
   },
   "outputs": [
    {
     "data": {
      "text/html": [
       "Query job 11e88aa3-116b-46cc-a94c-b2c22cd9ff52 is DONE. 2.3 MB processed. <a target=\"_blank\" href=\"https://console.cloud.google.com/bigquery?project=de123456-user-prd-1&j=bq:europe-west3:11e88aa3-116b-46cc-a94c-b2c22cd9ff52&page=queryresults\">Open Job</a>"
      ],
      "text/plain": [
       "<IPython.core.display.HTML object>"
      ]
     },
     "metadata": {},
     "output_type": "display_data"
    },
    {
     "data": {
      "text/html": [
       "Query job 872fc6f9-72d7-4b98-a6e1-dffb952f5851 is DONE. 0 Bytes processed. <a target=\"_blank\" href=\"https://console.cloud.google.com/bigquery?project=de123456-user-prd-1&j=bq:europe-west3:872fc6f9-72d7-4b98-a6e1-dffb952f5851&page=queryresults\">Open Job</a>"
      ],
      "text/plain": [
       "<IPython.core.display.HTML object>"
      ]
     },
     "metadata": {},
     "output_type": "display_data"
    },
    {
     "data": {
      "text/html": [
       "Query job aebbe946-d309-4038-be85-f351c1cc3f3b is DONE. 943 Bytes processed. <a target=\"_blank\" href=\"https://console.cloud.google.com/bigquery?project=de123456-user-prd-1&j=bq:europe-west3:aebbe946-d309-4038-be85-f351c1cc3f3b&page=queryresults\">Open Job</a>"
      ],
      "text/plain": [
       "<IPython.core.display.HTML object>"
      ]
     },
     "metadata": {},
     "output_type": "display_data"
    },
    {
     "data": {
      "text/html": [
       "<div>\n",
       "<style scoped>\n",
       "    .dataframe tbody tr th:only-of-type {\n",
       "        vertical-align: middle;\n",
       "    }\n",
       "\n",
       "    .dataframe tbody tr th {\n",
       "        vertical-align: top;\n",
       "    }\n",
       "\n",
       "    .dataframe thead th {\n",
       "        text-align: right;\n",
       "    }\n",
       "</style>\n",
       "<table border=\"1\" class=\"dataframe\">\n",
       "  <thead>\n",
       "    <tr style=\"text-align: right;\">\n",
       "      <th></th>\n",
       "      <th>Target</th>\n",
       "      <th>age</th>\n",
       "      <th>workclass</th>\n",
       "      <th>fnlwgt</th>\n",
       "      <th>education</th>\n",
       "      <th>education_num</th>\n",
       "      <th>marital_status</th>\n",
       "      <th>occupation</th>\n",
       "      <th>relationship</th>\n",
       "      <th>race</th>\n",
       "      <th>sex</th>\n",
       "      <th>capital_gain</th>\n",
       "      <th>capital_loss</th>\n",
       "      <th>hours_per_week</th>\n",
       "      <th>native_country</th>\n",
       "      <th>row_id</th>\n",
       "    </tr>\n",
       "  </thead>\n",
       "  <tbody>\n",
       "    <tr>\n",
       "      <th>0</th>\n",
       "      <td>0</td>\n",
       "      <td>38</td>\n",
       "      <td>Private</td>\n",
       "      <td>206535</td>\n",
       "      <td>Some-college</td>\n",
       "      <td>10</td>\n",
       "      <td>Divorced</td>\n",
       "      <td>Tech-support</td>\n",
       "      <td>Unmarried</td>\n",
       "      <td>White</td>\n",
       "      <td>Female</td>\n",
       "      <td>0</td>\n",
       "      <td>0</td>\n",
       "      <td>50</td>\n",
       "      <td>United-States</td>\n",
       "      <td>Row1079</td>\n",
       "    </tr>\n",
       "    <tr>\n",
       "      <th>1</th>\n",
       "      <td>0</td>\n",
       "      <td>56</td>\n",
       "      <td>Private</td>\n",
       "      <td>183169</td>\n",
       "      <td>HS-grad</td>\n",
       "      <td>9</td>\n",
       "      <td>Never-married</td>\n",
       "      <td>Adm-clerical</td>\n",
       "      <td>Own-child</td>\n",
       "      <td>White</td>\n",
       "      <td>Female</td>\n",
       "      <td>0</td>\n",
       "      <td>0</td>\n",
       "      <td>35</td>\n",
       "      <td>United-States</td>\n",
       "      <td>Row13436</td>\n",
       "    </tr>\n",
       "    <tr>\n",
       "      <th>2</th>\n",
       "      <td>0</td>\n",
       "      <td>69</td>\n",
       "      <td>Private</td>\n",
       "      <td>29087</td>\n",
       "      <td>7th-8th</td>\n",
       "      <td>4</td>\n",
       "      <td>Married-civ-spouse</td>\n",
       "      <td>Handlers-cleaners</td>\n",
       "      <td>Husband</td>\n",
       "      <td>White</td>\n",
       "      <td>Male</td>\n",
       "      <td>0</td>\n",
       "      <td>0</td>\n",
       "      <td>6</td>\n",
       "      <td>United-States</td>\n",
       "      <td>Row14372</td>\n",
       "    </tr>\n",
       "    <tr>\n",
       "      <th>3</th>\n",
       "      <td>1</td>\n",
       "      <td>38</td>\n",
       "      <td>Private</td>\n",
       "      <td>149347</td>\n",
       "      <td>Masters</td>\n",
       "      <td>14</td>\n",
       "      <td>Married-civ-spouse</td>\n",
       "      <td>Prof-specialty</td>\n",
       "      <td>Husband</td>\n",
       "      <td>White</td>\n",
       "      <td>Male</td>\n",
       "      <td>0</td>\n",
       "      <td>0</td>\n",
       "      <td>50</td>\n",
       "      <td>United-States</td>\n",
       "      <td>Row14644</td>\n",
       "    </tr>\n",
       "    <tr>\n",
       "      <th>4</th>\n",
       "      <td>0</td>\n",
       "      <td>48</td>\n",
       "      <td>Private</td>\n",
       "      <td>310639</td>\n",
       "      <td>Some-college</td>\n",
       "      <td>10</td>\n",
       "      <td>Divorced</td>\n",
       "      <td>Exec-managerial</td>\n",
       "      <td>Not-in-family</td>\n",
       "      <td>White</td>\n",
       "      <td>Male</td>\n",
       "      <td>0</td>\n",
       "      <td>0</td>\n",
       "      <td>50</td>\n",
       "      <td>United-States</td>\n",
       "      <td>Row10348</td>\n",
       "    </tr>\n",
       "  </tbody>\n",
       "</table>\n",
       "<p>5 rows × 16 columns</p>\n",
       "</div>[5 rows x 16 columns in total]"
      ],
      "text/plain": [
       "   Target  age workclass  fnlwgt     education  education_num  \\\n",
       "0       0   38   Private  206535  Some-college             10   \n",
       "1       0   56   Private  183169       HS-grad              9   \n",
       "2       0   69   Private   29087       7th-8th              4   \n",
       "3       1   38   Private  149347       Masters             14   \n",
       "4       0   48   Private  310639  Some-college             10   \n",
       "\n",
       "       marital_status         occupation   relationship   race     sex  \\\n",
       "0            Divorced       Tech-support      Unmarried  White  Female   \n",
       "1       Never-married       Adm-clerical      Own-child  White  Female   \n",
       "2  Married-civ-spouse  Handlers-cleaners        Husband  White    Male   \n",
       "3  Married-civ-spouse     Prof-specialty        Husband  White    Male   \n",
       "4            Divorced    Exec-managerial  Not-in-family  White    Male   \n",
       "\n",
       "   capital_gain  capital_loss  hours_per_week native_country    row_id  \n",
       "0             0             0              50  United-States   Row1079  \n",
       "1             0             0              35  United-States  Row13436  \n",
       "2             0             0               6  United-States  Row14372  \n",
       "3             0             0              50  United-States  Row14644  \n",
       "4             0             0              50  United-States  Row10348  \n",
       "\n",
       "[5 rows x 16 columns]"
      ]
     },
     "execution_count": 63,
     "metadata": {},
     "output_type": "execute_result"
    }
   ],
   "source": [
    "data_test = data_test.drop(['Target'], axis=1).rename(columns={\"Target_int\": \"Target\"})\n",
    "# data_test = data_test.rename(columns={\"Target_int\": \"Target\"})\n",
    "data_test.head()"
   ]
  },
  {
   "cell_type": "code",
   "execution_count": 64,
   "id": "t1VEunCzAX8Z",
   "metadata": {
    "colab": {
     "base_uri": "https://localhost:8080/",
     "height": 158
    },
    "executionInfo": {
     "elapsed": 1021,
     "status": "ok",
     "timestamp": 1725452125354,
     "user": {
      "displayName": "",
      "userId": ""
     },
     "user_tz": -120
    },
    "id": "t1VEunCzAX8Z",
    "outputId": "9e8553c3-1f71-4149-8f34-09877d560b35"
   },
   "outputs": [
    {
     "data": {
      "text/html": [
       "Query job d9962154-260b-45a8-8112-b114f4a8d734 is DONE. 0 Bytes processed. <a target=\"_blank\" href=\"https://console.cloud.google.com/bigquery?project=de123456-user-prd-1&j=bq:europe-west3:d9962154-260b-45a8-8112-b114f4a8d734&page=queryresults\">Open Job</a>"
      ],
      "text/plain": [
       "<IPython.core.display.HTML object>"
      ]
     },
     "metadata": {},
     "output_type": "display_data"
    },
    {
     "name": "stdout",
     "output_type": "stream",
     "text": [
      "data shape:          (34189, 16)\n",
      "data[features] shape: (34189, 14)\n",
      "categorical columns: ['workclass', 'education', 'marital_status', 'occupation', 'relationship', 'race', 'sex', 'native_country']\n",
      "numerical columns: ['age', 'fnlwgt', 'education_num', 'capital_gain', 'capital_loss', 'hours_per_week']\n",
      "feature columns: ['age', 'workclass', 'fnlwgt', 'education', 'education_num', 'marital_status', 'occupation', 'relationship', 'race', 'sex', 'capital_gain', 'capital_loss', 'hours_per_week', 'native_country']\n",
      "rest columns: ['Target', 'row_id']\n"
     ]
    }
   ],
   "source": [
    "# examine the data BigQuery object\n",
    "\n",
    "excluded_features = ['row_id', 'train_id', 'test_id']\n",
    "label = ['Target']\n",
    "\n",
    "# features = [feat for feat in data.columns if feat not in excluded_features and not feat==label]\n",
    "features = [feat for feat in data.columns if feat not in excluded_features and feat not in label]\n",
    "\n",
    "num_cols = data[features].select_dtypes(include='number').columns.tolist()\n",
    "cat_cols = data[features].select_dtypes(exclude='number').columns.tolist()\n",
    "\n",
    "rest_cols = [feat for feat in data.columns if feat not in cat_cols and feat not in num_cols]\n",
    "\n",
    "print(f'''{\"data shape:\":20} {data.shape}\n",
    "{\"data[features] shape:\":20} {data[features].shape}\n",
    "categorical columns: {cat_cols}\n",
    "numerical columns: {num_cols}\n",
    "feature columns: {features}\n",
    "rest columns: {rest_cols}''')\n",
    "\n",
    "# THX David Gutmann"
   ]
  },
  {
   "cell_type": "code",
   "execution_count": 65,
   "id": "6SjyCZ23BQGz",
   "metadata": {
    "colab": {
     "base_uri": "https://localhost:8080/"
    },
    "executionInfo": {
     "elapsed": 217,
     "status": "ok",
     "timestamp": 1725452131225,
     "user": {
      "displayName": "",
      "userId": ""
     },
     "user_tz": -120
    },
    "id": "6SjyCZ23BQGz",
    "outputId": "1cb9fa55-7873-4d1d-bf0a-a6655b68a88a"
   },
   "outputs": [
    {
     "name": "stdout",
     "output_type": "stream",
     "text": [
      "Target                      Int64\n",
      "age                         Int64\n",
      "workclass         string[pyarrow]\n",
      "fnlwgt                      Int64\n",
      "education         string[pyarrow]\n",
      "education_num               Int64\n",
      "marital_status    string[pyarrow]\n",
      "occupation        string[pyarrow]\n",
      "relationship      string[pyarrow]\n",
      "race              string[pyarrow]\n",
      "sex               string[pyarrow]\n",
      "capital_gain                Int64\n",
      "capital_loss                Int64\n",
      "hours_per_week              Int64\n",
      "native_country    string[pyarrow]\n",
      "row_id            string[pyarrow]\n",
      "dtype: object\n"
     ]
    }
   ],
   "source": [
    "print(data.dtypes)"
   ]
  },
  {
   "cell_type": "code",
   "execution_count": null,
   "id": "7vdvkkkWA0aG",
   "metadata": {
    "id": "7vdvkkkWA0aG"
   },
   "outputs": [],
   "source": [
    "# data[cat_cols] = data[cat_cols].astype('category')"
   ]
  },
  {
   "cell_type": "code",
   "execution_count": 68,
   "id": "WIUdwNA09mHO",
   "metadata": {
    "executionInfo": {
     "elapsed": 223,
     "status": "ok",
     "timestamp": 1725452165729,
     "user": {
      "displayName": "",
      "userId": ""
     },
     "user_tz": -120
    },
    "id": "WIUdwNA09mHO"
   },
   "outputs": [],
   "source": [
    "if 'X' in globals():\n",
    "    del X\n",
    "\n",
    "if 'y' in globals():\n",
    "    del y"
   ]
  },
  {
   "cell_type": "code",
   "execution_count": 69,
   "id": "sF1jTljhBMQn",
   "metadata": {
    "executionInfo": {
     "elapsed": 292,
     "status": "ok",
     "timestamp": 1725452172321,
     "user": {
      "displayName": "",
      "userId": ""
     },
     "user_tz": -120
    },
    "id": "sF1jTljhBMQn"
   },
   "outputs": [],
   "source": [
    "# split training data into X and y\n",
    "X = data[features]\n",
    "y = data[label]"
   ]
  },
  {
   "cell_type": "code",
   "execution_count": 70,
   "id": "AjRxuJlU616u",
   "metadata": {
    "colab": {
     "base_uri": "https://localhost:8080/"
    },
    "executionInfo": {
     "elapsed": 283,
     "status": "ok",
     "timestamp": 1725452174748,
     "user": {
      "displayName": "",
      "userId": ""
     },
     "user_tz": -120
    },
    "id": "AjRxuJlU616u",
    "outputId": "d4794c29-d0bb-4d34-b947-3a34997b33d6"
   },
   "outputs": [
    {
     "name": "stdout",
     "output_type": "stream",
     "text": [
      "age                         Int64\n",
      "workclass         string[pyarrow]\n",
      "fnlwgt                      Int64\n",
      "education         string[pyarrow]\n",
      "education_num               Int64\n",
      "marital_status    string[pyarrow]\n",
      "occupation        string[pyarrow]\n",
      "relationship      string[pyarrow]\n",
      "race              string[pyarrow]\n",
      "sex               string[pyarrow]\n",
      "capital_gain                Int64\n",
      "capital_loss                Int64\n",
      "hours_per_week              Int64\n",
      "native_country    string[pyarrow]\n",
      "dtype: object\n"
     ]
    }
   ],
   "source": [
    "print(X.dtypes)"
   ]
  },
  {
   "cell_type": "code",
   "execution_count": 71,
   "id": "1euI2TmuWgB3",
   "metadata": {
    "colab": {
     "base_uri": "https://localhost:8080/",
     "height": 34
    },
    "executionInfo": {
     "elapsed": 1230,
     "status": "ok",
     "timestamp": 1725452180741,
     "user": {
      "displayName": "",
      "userId": ""
     },
     "user_tz": -120
    },
    "id": "1euI2TmuWgB3",
    "outputId": "5436f644-fa3d-40e7-d385-029fe4e4f4e9"
   },
   "outputs": [
    {
     "data": {
      "text/html": [
       "Query job ab7bcd7e-6220-4a69-b389-01e170b4f07a is DONE. 0 Bytes processed. <a target=\"_blank\" href=\"https://console.cloud.google.com/bigquery?project=de123456-user-prd-1&j=bq:europe-west3:ab7bcd7e-6220-4a69-b389-01e170b4f07a&page=queryresults\">Open Job</a>"
      ],
      "text/plain": [
       "<IPython.core.display.HTML object>"
      ]
     },
     "metadata": {},
     "output_type": "display_data"
    }
   ],
   "source": [
    "# split data into train and test sets\n",
    "seed = 7\n",
    "test_size = 0.33\n",
    "X_train, X_test, y_train, y_test = train_test_split(X, y, test_size=test_size, random_state=seed)"
   ]
  },
  {
   "cell_type": "code",
   "execution_count": 72,
   "id": "lKdHnUdmWxqW",
   "metadata": {
    "colab": {
     "base_uri": "https://localhost:8080/"
    },
    "executionInfo": {
     "elapsed": 180,
     "status": "ok",
     "timestamp": 1725452183844,
     "user": {
      "displayName": "",
      "userId": ""
     },
     "user_tz": -120
    },
    "id": "lKdHnUdmWxqW",
    "outputId": "1fe4763e-97cc-4444-debc-1ab81b1ae176"
   },
   "outputs": [
    {
     "data": {
      "text/plain": [
       "bigframes.dataframe.DataFrame"
      ]
     },
     "execution_count": 72,
     "metadata": {},
     "output_type": "execute_result"
    }
   ],
   "source": [
    "type(X_train)"
   ]
  },
  {
   "cell_type": "code",
   "execution_count": 73,
   "id": "tBCDoBjyv2ZB",
   "metadata": {
    "colab": {
     "base_uri": "https://localhost:8080/",
     "height": 156
    },
    "executionInfo": {
     "elapsed": 6801,
     "status": "ok",
     "timestamp": 1725452192931,
     "user": {
      "displayName": "",
      "userId": ""
     },
     "user_tz": -120
    },
    "id": "tBCDoBjyv2ZB",
    "outputId": "21b7a14a-22f5-4a2e-9124-140a65129991"
   },
   "outputs": [
    {
     "data": {
      "text/html": [
       "Query job 36198a06-f290-485c-be32-6925215a3369 is DONE. 5.4 MB processed. <a target=\"_blank\" href=\"https://console.cloud.google.com/bigquery?project=de123456-user-prd-1&j=bq:europe-west3:36198a06-f290-485c-be32-6925215a3369&page=queryresults\">Open Job</a>"
      ],
      "text/plain": [
       "<IPython.core.display.HTML object>"
      ]
     },
     "metadata": {},
     "output_type": "display_data"
    },
    {
     "data": {
      "text/html": [
       "Query job b92e9520-ce49-4030-aa62-7d731622a1b2 is DONE. 5.4 MB processed. <a target=\"_blank\" href=\"https://console.cloud.google.com/bigquery?project=de123456-user-prd-1&j=bq:europe-west3:b92e9520-ce49-4030-aa62-7d731622a1b2&page=queryresults\">Open Job</a>"
      ],
      "text/plain": [
       "<IPython.core.display.HTML object>"
      ]
     },
     "metadata": {},
     "output_type": "display_data"
    },
    {
     "data": {
      "text/html": [
       "Query job c5ffd66a-d3df-44ef-ad11-f9777483bbea is DONE. 5.4 MB processed. <a target=\"_blank\" href=\"https://console.cloud.google.com/bigquery?project=de123456-user-prd-1&j=bq:europe-west3:c5ffd66a-d3df-44ef-ad11-f9777483bbea&page=queryresults\">Open Job</a>"
      ],
      "text/plain": [
       "<IPython.core.display.HTML object>"
      ]
     },
     "metadata": {},
     "output_type": "display_data"
    },
    {
     "data": {
      "text/html": [
       "Query job abac340a-9c3a-4552-b503-828ef4770676 is DONE. 5.4 MB processed. <a target=\"_blank\" href=\"https://console.cloud.google.com/bigquery?project=de123456-user-prd-1&j=bq:europe-west3:abac340a-9c3a-4552-b503-828ef4770676&page=queryresults\">Open Job</a>"
      ],
      "text/plain": [
       "<IPython.core.display.HTML object>"
      ]
     },
     "metadata": {},
     "output_type": "display_data"
    },
    {
     "name": "stdout",
     "output_type": "stream",
     "text": [
      "X_train shape: (22907, 14)\n",
      "X_test shape: (11282, 14)\n",
      "y_train shape: (22907, 1)\n",
      "y_test shape: (11282, 1)\n"
     ]
    }
   ],
   "source": [
    "# Show the shape of the data after the split\n",
    "print(f\"\"\"X_train shape: {X_train.shape}\n",
    "X_test shape: {X_test.shape}\n",
    "y_train shape: {y_train.shape}\n",
    "y_test shape: {y_test.shape}\"\"\")"
   ]
  },
  {
   "cell_type": "code",
   "execution_count": null,
   "id": "gi9CHNvpWyXG",
   "metadata": {
    "id": "gi9CHNvpWyXG"
   },
   "outputs": [],
   "source": [
    "# D_train = xgb.DMatrix(X_train, label=y_train, enable_categorical=True)\n",
    "# D_test = xgb.DMatrix(X_test, label=y_test, enable_categorical=True)"
   ]
  },
  {
   "cell_type": "code",
   "execution_count": 74,
   "id": "opZgTC6r6QUE",
   "metadata": {
    "colab": {
     "base_uri": "https://localhost:8080/",
     "height": 411
    },
    "executionInfo": {
     "elapsed": 6209,
     "status": "ok",
     "timestamp": 1725452201480,
     "user": {
      "displayName": "",
      "userId": ""
     },
     "user_tz": -120
    },
    "id": "opZgTC6r6QUE",
    "outputId": "d379ccc2-bb5f-4997-b183-219c93aeca76"
   },
   "outputs": [
    {
     "data": {
      "text/html": [
       "Query job d383bb02-f627-4cd7-b7cb-1e4ad494b0b1 is DONE. 5.4 MB processed. <a target=\"_blank\" href=\"https://console.cloud.google.com/bigquery?project=de123456-user-prd-1&j=bq:europe-west3:d383bb02-f627-4cd7-b7cb-1e4ad494b0b1&page=queryresults\">Open Job</a>"
      ],
      "text/plain": [
       "<IPython.core.display.HTML object>"
      ]
     },
     "metadata": {},
     "output_type": "display_data"
    },
    {
     "data": {
      "text/html": [
       "Query job 720ca5bd-a951-49a3-9190-6a0aa81abb59 is DONE. 0 Bytes processed. <a target=\"_blank\" href=\"https://console.cloud.google.com/bigquery?project=de123456-user-prd-1&j=bq:europe-west3:720ca5bd-a951-49a3-9190-6a0aa81abb59&page=queryresults\">Open Job</a>"
      ],
      "text/plain": [
       "<IPython.core.display.HTML object>"
      ]
     },
     "metadata": {},
     "output_type": "display_data"
    },
    {
     "data": {
      "text/html": [
       "Query job d88ee8c1-8b8b-45fe-bcad-8d6eb8542065 is DONE. 849 Bytes processed. <a target=\"_blank\" href=\"https://console.cloud.google.com/bigquery?project=de123456-user-prd-1&j=bq:europe-west3:d88ee8c1-8b8b-45fe-bcad-8d6eb8542065&page=queryresults\">Open Job</a>"
      ],
      "text/plain": [
       "<IPython.core.display.HTML object>"
      ]
     },
     "metadata": {},
     "output_type": "display_data"
    },
    {
     "data": {
      "text/html": [
       "<div>\n",
       "<style scoped>\n",
       "    .dataframe tbody tr th:only-of-type {\n",
       "        vertical-align: middle;\n",
       "    }\n",
       "\n",
       "    .dataframe tbody tr th {\n",
       "        vertical-align: top;\n",
       "    }\n",
       "\n",
       "    .dataframe thead th {\n",
       "        text-align: right;\n",
       "    }\n",
       "</style>\n",
       "<table border=\"1\" class=\"dataframe\">\n",
       "  <thead>\n",
       "    <tr style=\"text-align: right;\">\n",
       "      <th></th>\n",
       "      <th>age</th>\n",
       "      <th>workclass</th>\n",
       "      <th>fnlwgt</th>\n",
       "      <th>education</th>\n",
       "      <th>education_num</th>\n",
       "      <th>marital_status</th>\n",
       "      <th>occupation</th>\n",
       "      <th>relationship</th>\n",
       "      <th>race</th>\n",
       "      <th>sex</th>\n",
       "      <th>capital_gain</th>\n",
       "      <th>capital_loss</th>\n",
       "      <th>hours_per_week</th>\n",
       "      <th>native_country</th>\n",
       "    </tr>\n",
       "  </thead>\n",
       "  <tbody>\n",
       "    <tr>\n",
       "      <th>8976</th>\n",
       "      <td>20</td>\n",
       "      <td>&lt;NA&gt;</td>\n",
       "      <td>307149</td>\n",
       "      <td>Some-college</td>\n",
       "      <td>10</td>\n",
       "      <td>Never-married</td>\n",
       "      <td>&lt;NA&gt;</td>\n",
       "      <td>Own-child</td>\n",
       "      <td>White</td>\n",
       "      <td>Female</td>\n",
       "      <td>0</td>\n",
       "      <td>0</td>\n",
       "      <td>35</td>\n",
       "      <td>United-States</td>\n",
       "    </tr>\n",
       "    <tr>\n",
       "      <th>30998</th>\n",
       "      <td>37</td>\n",
       "      <td>Private</td>\n",
       "      <td>172538</td>\n",
       "      <td>HS-grad</td>\n",
       "      <td>9</td>\n",
       "      <td>Never-married</td>\n",
       "      <td>Machine-op-inspct</td>\n",
       "      <td>Own-child</td>\n",
       "      <td>White</td>\n",
       "      <td>Male</td>\n",
       "      <td>0</td>\n",
       "      <td>0</td>\n",
       "      <td>40</td>\n",
       "      <td>United-States</td>\n",
       "    </tr>\n",
       "    <tr>\n",
       "      <th>20268</th>\n",
       "      <td>21</td>\n",
       "      <td>Private</td>\n",
       "      <td>206681</td>\n",
       "      <td>Some-college</td>\n",
       "      <td>10</td>\n",
       "      <td>Never-married</td>\n",
       "      <td>Sales</td>\n",
       "      <td>Own-child</td>\n",
       "      <td>White</td>\n",
       "      <td>Female</td>\n",
       "      <td>0</td>\n",
       "      <td>0</td>\n",
       "      <td>15</td>\n",
       "      <td>United-States</td>\n",
       "    </tr>\n",
       "    <tr>\n",
       "      <th>1197</th>\n",
       "      <td>21</td>\n",
       "      <td>Private</td>\n",
       "      <td>270043</td>\n",
       "      <td>Some-college</td>\n",
       "      <td>10</td>\n",
       "      <td>Never-married</td>\n",
       "      <td>Other-service</td>\n",
       "      <td>Own-child</td>\n",
       "      <td>White</td>\n",
       "      <td>Female</td>\n",
       "      <td>0</td>\n",
       "      <td>0</td>\n",
       "      <td>16</td>\n",
       "      <td>United-States</td>\n",
       "    </tr>\n",
       "    <tr>\n",
       "      <th>3067</th>\n",
       "      <td>19</td>\n",
       "      <td>&lt;NA&gt;</td>\n",
       "      <td>285177</td>\n",
       "      <td>Some-college</td>\n",
       "      <td>10</td>\n",
       "      <td>Never-married</td>\n",
       "      <td>&lt;NA&gt;</td>\n",
       "      <td>Own-child</td>\n",
       "      <td>White</td>\n",
       "      <td>Male</td>\n",
       "      <td>0</td>\n",
       "      <td>0</td>\n",
       "      <td>18</td>\n",
       "      <td>United-States</td>\n",
       "    </tr>\n",
       "  </tbody>\n",
       "</table>\n",
       "<p>5 rows × 14 columns</p>\n",
       "</div>[5 rows x 14 columns in total]"
      ],
      "text/plain": [
       "       age workclass  fnlwgt     education  education_num marital_status  \\\n",
       "8976    20      <NA>  307149  Some-college             10  Never-married   \n",
       "30998   37   Private  172538       HS-grad              9  Never-married   \n",
       "20268   21   Private  206681  Some-college             10  Never-married   \n",
       "1197    21   Private  270043  Some-college             10  Never-married   \n",
       "3067    19      <NA>  285177  Some-college             10  Never-married   \n",
       "\n",
       "              occupation relationship   race     sex  capital_gain  \\\n",
       "8976                <NA>    Own-child  White  Female             0   \n",
       "30998  Machine-op-inspct    Own-child  White    Male             0   \n",
       "20268              Sales    Own-child  White  Female             0   \n",
       "1197       Other-service    Own-child  White  Female             0   \n",
       "3067                <NA>    Own-child  White    Male             0   \n",
       "\n",
       "       capital_loss  hours_per_week native_country  \n",
       "8976              0              35  United-States  \n",
       "30998             0              40  United-States  \n",
       "20268             0              15  United-States  \n",
       "1197              0              16  United-States  \n",
       "3067              0              18  United-States  \n",
       "\n",
       "[5 rows x 14 columns]"
      ]
     },
     "execution_count": 74,
     "metadata": {},
     "output_type": "execute_result"
    }
   ],
   "source": [
    "X_train.head()"
   ]
  },
  {
   "cell_type": "markdown",
   "id": "KrCPRutHydbM",
   "metadata": {
    "id": "KrCPRutHydbM"
   },
   "source": [
    "\n",
    "Example how to modify the model\n",
    "\n",
    "https://cloud.google.com/python/docs/reference/bigframes/latest/bigframes.ml.ensemble.XGBClassifier\n",
    "\n",
    "```Python\n",
    "model = XGBClassifier(\n",
    "    n_estimators=500,            # Increase the number of boosting rounds\n",
    "    learning_rate=0.05,          # Lower learning rate\n",
    "    max_depth=8,                 # Maximum depth of trees\n",
    "    subsample=0.8,               # Subsample ratio\n",
    "    colsample_bytree=0.8,        # Column subsample ratio by tree\n",
    "    min_child_weight=1,          # Minimum child weight\n",
    "    gamma=0,                     # Minimum loss reduction\n",
    "    reg_alpha=0.01,              # L1 regularization term on weights\n",
    "    reg_lambda=1                 # L2 regularization term on weights\n",
    ")\n",
    "# Als Code formatiert\n",
    "```\n",
    "\n",
    "\n"
   ]
  },
  {
   "cell_type": "code",
   "execution_count": 75,
   "id": "WQ4kMs0gbGeb",
   "metadata": {
    "colab": {
     "base_uri": "https://localhost:8080/",
     "height": 69
    },
    "executionInfo": {
     "elapsed": 405257,
     "status": "ok",
     "timestamp": 1725452614490,
     "user": {
      "displayName": "",
      "userId": ""
     },
     "user_tz": -120
    },
    "id": "WQ4kMs0gbGeb",
    "outputId": "7868cd0e-ac61-478f-8a46-05c1094c9582"
   },
   "outputs": [
    {
     "data": {
      "text/html": [
       "Query job 6f61af56-0849-4e3f-97d9-3732729b8ba7 is DONE. 5.4 MB processed. <a target=\"_blank\" href=\"https://console.cloud.google.com/bigquery?project=de123456-user-prd-1&j=bq:europe-west3:6f61af56-0849-4e3f-97d9-3732729b8ba7&page=queryresults\">Open Job</a>"
      ],
      "text/plain": [
       "<IPython.core.display.HTML object>"
      ]
     },
     "metadata": {},
     "output_type": "display_data"
    },
    {
     "data": {
      "text/html": [
       "Query job 6426407e-1548-4c1c-b8da-df09f1dbe4f5 is DONE. 19.1 GB processed. <a target=\"_blank\" href=\"https://console.cloud.google.com/bigquery?project=de123456-user-prd-1&j=bq:europe-west3:6426407e-1548-4c1c-b8da-df09f1dbe4f5&page=queryresults\">Open Job</a>"
      ],
      "text/plain": [
       "<IPython.core.display.HTML object>"
      ]
     },
     "metadata": {},
     "output_type": "display_data"
    },
    {
     "data": {
      "text/plain": [
       "XGBClassifier()"
      ]
     },
     "execution_count": 75,
     "metadata": {},
     "output_type": "execute_result"
    }
   ],
   "source": [
    "# Using the XGBRegressor from the bigframes.ml package\n",
    "# from bigframes.ml.ensemble import XGBClassifier\n",
    "\n",
    "model = XGBClassifier()\n",
    "# Here we pass the feature columns without transforms - BQML will then use\n",
    "# automatic preprocessing to encode these columns\n",
    "model.fit(X_train[features], y_train)"
   ]
  },
  {
   "cell_type": "code",
   "execution_count": 91,
   "id": "ZIgbvO4Tgc2b",
   "metadata": {
    "executionInfo": {
     "elapsed": 342,
     "status": "ok",
     "timestamp": 1725456604370,
     "user": {
      "displayName": "",
      "userId": ""
     },
     "user_tz": -120
    },
    "id": "ZIgbvO4Tgc2b"
   },
   "outputs": [],
   "source": [
    "# import bigframes.ml.metrics\n",
    "from bigframes.ml import metrics"
   ]
  },
  {
   "cell_type": "code",
   "execution_count": 77,
   "id": "SKMP25rVfYGM",
   "metadata": {
    "colab": {
     "base_uri": "https://localhost:8080/",
     "height": 34
    },
    "executionInfo": {
     "elapsed": 10180,
     "status": "ok",
     "timestamp": 1725455949587,
     "user": {
      "displayName": "",
      "userId": ""
     },
     "user_tz": -120
    },
    "id": "SKMP25rVfYGM",
    "outputId": "35e64c97-e73c-4f19-fa4c-d56c80ad8d65"
   },
   "outputs": [
    {
     "data": {
      "text/html": [
       "Query job 55790393-d269-41c0-bf20-6e0853a8040b is DONE. 5.5 MB processed. <a target=\"_blank\" href=\"https://console.cloud.google.com/bigquery?project=de123456-user-prd-1&j=bq:europe-west3:55790393-d269-41c0-bf20-6e0853a8040b&page=queryresults\">Open Job</a>"
      ],
      "text/plain": [
       "<IPython.core.display.HTML object>"
      ]
     },
     "metadata": {},
     "output_type": "display_data"
    }
   ],
   "source": [
    "# evaluate the best model on the test data\n",
    "y_pred = model.predict(X_test)"
   ]
  },
  {
   "cell_type": "code",
   "execution_count": 78,
   "id": "x4TjqbE7Bhq_",
   "metadata": {
    "colab": {
     "base_uri": "https://localhost:8080/"
    },
    "executionInfo": {
     "elapsed": 12,
     "status": "ok",
     "timestamp": 1725455949587,
     "user": {
      "displayName": "",
      "userId": ""
     },
     "user_tz": -120
    },
    "id": "x4TjqbE7Bhq_",
    "outputId": "86dcf9b8-aa64-43d9-a40c-2d023e0f5926"
   },
   "outputs": [
    {
     "data": {
      "text/plain": [
       "bigframes.dataframe.DataFrame"
      ]
     },
     "execution_count": 78,
     "metadata": {},
     "output_type": "execute_result"
    }
   ],
   "source": [
    "type(y_pred)"
   ]
  },
  {
   "cell_type": "code",
   "execution_count": 79,
   "id": "vcWrIflahWE3",
   "metadata": {
    "colab": {
     "base_uri": "https://localhost:8080/",
     "height": 481
    },
    "executionInfo": {
     "elapsed": 4892,
     "status": "ok",
     "timestamp": 1725455954477,
     "user": {
      "displayName": "",
      "userId": ""
     },
     "user_tz": -120
    },
    "id": "vcWrIflahWE3",
    "outputId": "aa56aa2a-381d-4d34-9276-0ca96b77cdbc"
   },
   "outputs": [
    {
     "data": {
      "text/html": [
       "Query job ecb524e8-8186-4fa3-8c04-cea1acc90390 is DONE. 2.1 MB processed. <a target=\"_blank\" href=\"https://console.cloud.google.com/bigquery?project=de123456-user-prd-1&j=bq:europe-west3:ecb524e8-8186-4fa3-8c04-cea1acc90390&page=queryresults\">Open Job</a>"
      ],
      "text/plain": [
       "<IPython.core.display.HTML object>"
      ]
     },
     "metadata": {},
     "output_type": "display_data"
    },
    {
     "data": {
      "text/html": [
       "Query job 91775620-83e8-4a4b-aaae-62116d9b53c8 is DONE. 0 Bytes processed. <a target=\"_blank\" href=\"https://console.cloud.google.com/bigquery?project=de123456-user-prd-1&j=bq:europe-west3:91775620-83e8-4a4b-aaae-62116d9b53c8&page=queryresults\">Open Job</a>"
      ],
      "text/plain": [
       "<IPython.core.display.HTML object>"
      ]
     },
     "metadata": {},
     "output_type": "display_data"
    },
    {
     "data": {
      "text/html": [
       "Query job b366bb06-aa1e-4471-bef7-267c65268e85 is DONE. 974 Bytes processed. <a target=\"_blank\" href=\"https://console.cloud.google.com/bigquery?project=de123456-user-prd-1&j=bq:europe-west3:b366bb06-aa1e-4471-bef7-267c65268e85&page=queryresults\">Open Job</a>"
      ],
      "text/plain": [
       "<IPython.core.display.HTML object>"
      ]
     },
     "metadata": {},
     "output_type": "display_data"
    },
    {
     "data": {
      "text/html": [
       "<div>\n",
       "<style scoped>\n",
       "    .dataframe tbody tr th:only-of-type {\n",
       "        vertical-align: middle;\n",
       "    }\n",
       "\n",
       "    .dataframe tbody tr th {\n",
       "        vertical-align: top;\n",
       "    }\n",
       "\n",
       "    .dataframe thead th {\n",
       "        text-align: right;\n",
       "    }\n",
       "</style>\n",
       "<table border=\"1\" class=\"dataframe\">\n",
       "  <thead>\n",
       "    <tr style=\"text-align: right;\">\n",
       "      <th></th>\n",
       "      <th>predicted_Target</th>\n",
       "      <th>predicted_Target_probs</th>\n",
       "      <th>age</th>\n",
       "      <th>workclass</th>\n",
       "      <th>fnlwgt</th>\n",
       "      <th>education</th>\n",
       "      <th>education_num</th>\n",
       "      <th>marital_status</th>\n",
       "      <th>occupation</th>\n",
       "      <th>relationship</th>\n",
       "      <th>race</th>\n",
       "      <th>sex</th>\n",
       "      <th>capital_gain</th>\n",
       "      <th>capital_loss</th>\n",
       "      <th>hours_per_week</th>\n",
       "      <th>native_country</th>\n",
       "    </tr>\n",
       "  </thead>\n",
       "  <tbody>\n",
       "    <tr>\n",
       "      <th>0</th>\n",
       "      <td>0</td>\n",
       "      <td>[{'label': 1, 'prob': 0.02194412797689438}\n",
       " {'...</td>\n",
       "      <td>27</td>\n",
       "      <td>Private</td>\n",
       "      <td>124953</td>\n",
       "      <td>HS-grad</td>\n",
       "      <td>9</td>\n",
       "      <td>Never-married</td>\n",
       "      <td>Other-service</td>\n",
       "      <td>Not-in-family</td>\n",
       "      <td>White</td>\n",
       "      <td>Male</td>\n",
       "      <td>0</td>\n",
       "      <td>1980</td>\n",
       "      <td>40</td>\n",
       "      <td>United-States</td>\n",
       "    </tr>\n",
       "    <tr>\n",
       "      <th>1</th>\n",
       "      <td>0</td>\n",
       "      <td>[{'label': 1, 'prob': 0.017343081533908844}\n",
       " {...</td>\n",
       "      <td>24</td>\n",
       "      <td>Private</td>\n",
       "      <td>229773</td>\n",
       "      <td>Bachelors</td>\n",
       "      <td>13</td>\n",
       "      <td>Never-married</td>\n",
       "      <td>Exec-managerial</td>\n",
       "      <td>Not-in-family</td>\n",
       "      <td>White</td>\n",
       "      <td>Male</td>\n",
       "      <td>0</td>\n",
       "      <td>0</td>\n",
       "      <td>40</td>\n",
       "      <td>United-States</td>\n",
       "    </tr>\n",
       "    <tr>\n",
       "      <th>5</th>\n",
       "      <td>0</td>\n",
       "      <td>[{'label': 1, 'prob': 0.0384746752679348}\n",
       " {'l...</td>\n",
       "      <td>33</td>\n",
       "      <td>Private</td>\n",
       "      <td>80058</td>\n",
       "      <td>HS-grad</td>\n",
       "      <td>9</td>\n",
       "      <td>Never-married</td>\n",
       "      <td>Transport-moving</td>\n",
       "      <td>Not-in-family</td>\n",
       "      <td>White</td>\n",
       "      <td>Male</td>\n",
       "      <td>0</td>\n",
       "      <td>0</td>\n",
       "      <td>40</td>\n",
       "      <td>United-States</td>\n",
       "    </tr>\n",
       "    <tr>\n",
       "      <th>7</th>\n",
       "      <td>0</td>\n",
       "      <td>[{'label': 1, 'prob': 0.06342051923274994}\n",
       " {'...</td>\n",
       "      <td>47</td>\n",
       "      <td>Private</td>\n",
       "      <td>70209</td>\n",
       "      <td>HS-grad</td>\n",
       "      <td>9</td>\n",
       "      <td>Divorced</td>\n",
       "      <td>Adm-clerical</td>\n",
       "      <td>Unmarried</td>\n",
       "      <td>White</td>\n",
       "      <td>Female</td>\n",
       "      <td>0</td>\n",
       "      <td>0</td>\n",
       "      <td>40</td>\n",
       "      <td>United-States</td>\n",
       "    </tr>\n",
       "    <tr>\n",
       "      <th>8</th>\n",
       "      <td>0</td>\n",
       "      <td>[{'label': 1, 'prob': 0.028626788407564163}\n",
       " {...</td>\n",
       "      <td>32</td>\n",
       "      <td>Private</td>\n",
       "      <td>186824</td>\n",
       "      <td>HS-grad</td>\n",
       "      <td>9</td>\n",
       "      <td>Never-married</td>\n",
       "      <td>Machine-op-inspct</td>\n",
       "      <td>Unmarried</td>\n",
       "      <td>White</td>\n",
       "      <td>Male</td>\n",
       "      <td>0</td>\n",
       "      <td>0</td>\n",
       "      <td>40</td>\n",
       "      <td>United-States</td>\n",
       "    </tr>\n",
       "  </tbody>\n",
       "</table>\n",
       "<p>5 rows × 16 columns</p>\n",
       "</div>[5 rows x 16 columns in total]"
      ],
      "text/plain": [
       "   predicted_Target                             predicted_Target_probs  age  \\\n",
       "0                 0  [{'label': 1, 'prob': 0.02194412797689438}\n",
       " {'...   27   \n",
       "1                 0  [{'label': 1, 'prob': 0.017343081533908844}\n",
       " {...   24   \n",
       "5                 0  [{'label': 1, 'prob': 0.0384746752679348}\n",
       " {'l...   33   \n",
       "7                 0  [{'label': 1, 'prob': 0.06342051923274994}\n",
       " {'...   47   \n",
       "8                 0  [{'label': 1, 'prob': 0.028626788407564163}\n",
       " {...   32   \n",
       "\n",
       "  workclass  fnlwgt  education  education_num marital_status  \\\n",
       "0   Private  124953    HS-grad              9  Never-married   \n",
       "1   Private  229773  Bachelors             13  Never-married   \n",
       "5   Private   80058    HS-grad              9  Never-married   \n",
       "7   Private   70209    HS-grad              9       Divorced   \n",
       "8   Private  186824    HS-grad              9  Never-married   \n",
       "\n",
       "          occupation   relationship   race     sex  capital_gain  \\\n",
       "0      Other-service  Not-in-family  White    Male             0   \n",
       "1    Exec-managerial  Not-in-family  White    Male             0   \n",
       "5   Transport-moving  Not-in-family  White    Male             0   \n",
       "7       Adm-clerical      Unmarried  White  Female             0   \n",
       "8  Machine-op-inspct      Unmarried  White    Male             0   \n",
       "\n",
       "   capital_loss  hours_per_week native_country  \n",
       "0          1980              40  United-States  \n",
       "1             0              40  United-States  \n",
       "5             0              40  United-States  \n",
       "7             0              40  United-States  \n",
       "8             0              40  United-States  \n",
       "\n",
       "[5 rows x 16 columns]"
      ]
     },
     "execution_count": 79,
     "metadata": {},
     "output_type": "execute_result"
    }
   ],
   "source": [
    "y_pred.head()"
   ]
  },
  {
   "cell_type": "code",
   "execution_count": 80,
   "id": "wC8IfhCppA9x",
   "metadata": {
    "executionInfo": {
     "elapsed": 341,
     "status": "ok",
     "timestamp": 1725455959024,
     "user": {
      "displayName": "",
      "userId": ""
     },
     "user_tz": -120
    },
    "id": "wC8IfhCppA9x"
   },
   "outputs": [],
   "source": [
    "# Merge y_pred and y_test by their index to get the original Target colum back\n",
    "y_pred= y_pred.join(y_test, how='inner')\n",
    "\n",
    "# This will perform an inner join based on the indexes of y_pred and y_test\n"
   ]
  },
  {
   "cell_type": "code",
   "execution_count": 81,
   "id": "2k6Fc8B6kCb0",
   "metadata": {
    "colab": {
     "base_uri": "https://localhost:8080/",
     "height": 481
    },
    "executionInfo": {
     "elapsed": 8508,
     "status": "ok",
     "timestamp": 1725455981561,
     "user": {
      "displayName": "",
      "userId": ""
     },
     "user_tz": -120
    },
    "id": "2k6Fc8B6kCb0",
    "outputId": "8ecaf260-f6fd-4319-9184-23e8379a55e2"
   },
   "outputs": [
    {
     "data": {
      "text/html": [
       "Query job 7295d9e2-920c-45a7-b985-5a797c4c87c5 is DONE. 7.5 MB processed. <a target=\"_blank\" href=\"https://console.cloud.google.com/bigquery?project=de123456-user-prd-1&j=bq:europe-west3:7295d9e2-920c-45a7-b985-5a797c4c87c5&page=queryresults\">Open Job</a>"
      ],
      "text/plain": [
       "<IPython.core.display.HTML object>"
      ]
     },
     "metadata": {},
     "output_type": "display_data"
    },
    {
     "data": {
      "text/html": [
       "Query job c5572447-63b5-4db0-b5e1-8a35e5763240 is DONE. 0 Bytes processed. <a target=\"_blank\" href=\"https://console.cloud.google.com/bigquery?project=de123456-user-prd-1&j=bq:europe-west3:c5572447-63b5-4db0-b5e1-8a35e5763240&page=queryresults\">Open Job</a>"
      ],
      "text/plain": [
       "<IPython.core.display.HTML object>"
      ]
     },
     "metadata": {},
     "output_type": "display_data"
    },
    {
     "data": {
      "text/html": [
       "Query job 8c11e1a1-5423-4e3e-a461-f4f341f06e5c is DONE. 1.3 kB processed. <a target=\"_blank\" href=\"https://console.cloud.google.com/bigquery?project=de123456-user-prd-1&j=bq:europe-west3:8c11e1a1-5423-4e3e-a461-f4f341f06e5c&page=queryresults\">Open Job</a>"
      ],
      "text/plain": [
       "<IPython.core.display.HTML object>"
      ]
     },
     "metadata": {},
     "output_type": "display_data"
    },
    {
     "data": {
      "text/html": [
       "<div>\n",
       "<style scoped>\n",
       "    .dataframe tbody tr th:only-of-type {\n",
       "        vertical-align: middle;\n",
       "    }\n",
       "\n",
       "    .dataframe tbody tr th {\n",
       "        vertical-align: top;\n",
       "    }\n",
       "\n",
       "    .dataframe thead th {\n",
       "        text-align: right;\n",
       "    }\n",
       "</style>\n",
       "<table border=\"1\" class=\"dataframe\">\n",
       "  <thead>\n",
       "    <tr style=\"text-align: right;\">\n",
       "      <th></th>\n",
       "      <th>predicted_Target</th>\n",
       "      <th>predicted_Target_probs</th>\n",
       "      <th>age</th>\n",
       "      <th>workclass</th>\n",
       "      <th>fnlwgt</th>\n",
       "      <th>education</th>\n",
       "      <th>education_num</th>\n",
       "      <th>marital_status</th>\n",
       "      <th>occupation</th>\n",
       "      <th>relationship</th>\n",
       "      <th>race</th>\n",
       "      <th>sex</th>\n",
       "      <th>capital_gain</th>\n",
       "      <th>capital_loss</th>\n",
       "      <th>hours_per_week</th>\n",
       "      <th>native_country</th>\n",
       "      <th>Target</th>\n",
       "    </tr>\n",
       "  </thead>\n",
       "  <tbody>\n",
       "    <tr>\n",
       "      <th>0</th>\n",
       "      <td>0</td>\n",
       "      <td>[{'label': 1, 'prob': 0.02194412797689438}\n",
       " {'...</td>\n",
       "      <td>27</td>\n",
       "      <td>Private</td>\n",
       "      <td>124953</td>\n",
       "      <td>HS-grad</td>\n",
       "      <td>9</td>\n",
       "      <td>Never-married</td>\n",
       "      <td>Other-service</td>\n",
       "      <td>Not-in-family</td>\n",
       "      <td>White</td>\n",
       "      <td>Male</td>\n",
       "      <td>0</td>\n",
       "      <td>1980</td>\n",
       "      <td>40</td>\n",
       "      <td>United-States</td>\n",
       "      <td>0</td>\n",
       "    </tr>\n",
       "    <tr>\n",
       "      <th>1</th>\n",
       "      <td>0</td>\n",
       "      <td>[{'label': 1, 'prob': 0.017343081533908844}\n",
       " {...</td>\n",
       "      <td>24</td>\n",
       "      <td>Private</td>\n",
       "      <td>229773</td>\n",
       "      <td>Bachelors</td>\n",
       "      <td>13</td>\n",
       "      <td>Never-married</td>\n",
       "      <td>Exec-managerial</td>\n",
       "      <td>Not-in-family</td>\n",
       "      <td>White</td>\n",
       "      <td>Male</td>\n",
       "      <td>0</td>\n",
       "      <td>0</td>\n",
       "      <td>40</td>\n",
       "      <td>United-States</td>\n",
       "      <td>0</td>\n",
       "    </tr>\n",
       "    <tr>\n",
       "      <th>5</th>\n",
       "      <td>0</td>\n",
       "      <td>[{'label': 1, 'prob': 0.0384746752679348}\n",
       " {'l...</td>\n",
       "      <td>33</td>\n",
       "      <td>Private</td>\n",
       "      <td>80058</td>\n",
       "      <td>HS-grad</td>\n",
       "      <td>9</td>\n",
       "      <td>Never-married</td>\n",
       "      <td>Transport-moving</td>\n",
       "      <td>Not-in-family</td>\n",
       "      <td>White</td>\n",
       "      <td>Male</td>\n",
       "      <td>0</td>\n",
       "      <td>0</td>\n",
       "      <td>40</td>\n",
       "      <td>United-States</td>\n",
       "      <td>0</td>\n",
       "    </tr>\n",
       "    <tr>\n",
       "      <th>7</th>\n",
       "      <td>0</td>\n",
       "      <td>[{'label': 1, 'prob': 0.06342051923274994}\n",
       " {'...</td>\n",
       "      <td>47</td>\n",
       "      <td>Private</td>\n",
       "      <td>70209</td>\n",
       "      <td>HS-grad</td>\n",
       "      <td>9</td>\n",
       "      <td>Divorced</td>\n",
       "      <td>Adm-clerical</td>\n",
       "      <td>Unmarried</td>\n",
       "      <td>White</td>\n",
       "      <td>Female</td>\n",
       "      <td>0</td>\n",
       "      <td>0</td>\n",
       "      <td>40</td>\n",
       "      <td>United-States</td>\n",
       "      <td>0</td>\n",
       "    </tr>\n",
       "    <tr>\n",
       "      <th>8</th>\n",
       "      <td>0</td>\n",
       "      <td>[{'label': 1, 'prob': 0.028626788407564163}\n",
       " {...</td>\n",
       "      <td>32</td>\n",
       "      <td>Private</td>\n",
       "      <td>186824</td>\n",
       "      <td>HS-grad</td>\n",
       "      <td>9</td>\n",
       "      <td>Never-married</td>\n",
       "      <td>Machine-op-inspct</td>\n",
       "      <td>Unmarried</td>\n",
       "      <td>White</td>\n",
       "      <td>Male</td>\n",
       "      <td>0</td>\n",
       "      <td>0</td>\n",
       "      <td>40</td>\n",
       "      <td>United-States</td>\n",
       "      <td>0</td>\n",
       "    </tr>\n",
       "  </tbody>\n",
       "</table>\n",
       "<p>5 rows × 17 columns</p>\n",
       "</div>[5 rows x 17 columns in total]"
      ],
      "text/plain": [
       "   predicted_Target                             predicted_Target_probs  age  \\\n",
       "0                 0  [{'label': 1, 'prob': 0.02194412797689438}\n",
       " {'...   27   \n",
       "1                 0  [{'label': 1, 'prob': 0.017343081533908844}\n",
       " {...   24   \n",
       "5                 0  [{'label': 1, 'prob': 0.0384746752679348}\n",
       " {'l...   33   \n",
       "7                 0  [{'label': 1, 'prob': 0.06342051923274994}\n",
       " {'...   47   \n",
       "8                 0  [{'label': 1, 'prob': 0.028626788407564163}\n",
       " {...   32   \n",
       "\n",
       "  workclass  fnlwgt  education  education_num marital_status  \\\n",
       "0   Private  124953    HS-grad              9  Never-married   \n",
       "1   Private  229773  Bachelors             13  Never-married   \n",
       "5   Private   80058    HS-grad              9  Never-married   \n",
       "7   Private   70209    HS-grad              9       Divorced   \n",
       "8   Private  186824    HS-grad              9  Never-married   \n",
       "\n",
       "          occupation   relationship   race     sex  capital_gain  \\\n",
       "0      Other-service  Not-in-family  White    Male             0   \n",
       "1    Exec-managerial  Not-in-family  White    Male             0   \n",
       "5   Transport-moving  Not-in-family  White    Male             0   \n",
       "7       Adm-clerical      Unmarried  White  Female             0   \n",
       "8  Machine-op-inspct      Unmarried  White    Male             0   \n",
       "\n",
       "   capital_loss  hours_per_week native_country  Target  \n",
       "0          1980              40  United-States       0  \n",
       "1             0              40  United-States       0  \n",
       "5             0              40  United-States       0  \n",
       "7             0              40  United-States       0  \n",
       "8             0              40  United-States       0  \n",
       "\n",
       "[5 rows x 17 columns]"
      ]
     },
     "execution_count": 81,
     "metadata": {},
     "output_type": "execute_result"
    }
   ],
   "source": [
    "y_pred.head()"
   ]
  },
  {
   "cell_type": "code",
   "execution_count": 82,
   "id": "LNFhTVzDjD1D",
   "metadata": {
    "colab": {
     "base_uri": "https://localhost:8080/",
     "height": 69
    },
    "executionInfo": {
     "elapsed": 8727,
     "status": "ok",
     "timestamp": 1725456064915,
     "user": {
      "displayName": "",
      "userId": ""
     },
     "user_tz": -120
    },
    "id": "LNFhTVzDjD1D",
    "outputId": "3d3231e1-8450-45fd-a121-e6071c027d1c"
   },
   "outputs": [
    {
     "data": {
      "text/html": [
       "Query job c884c35d-64b6-4aa0-b619-a8e6081cd219 is DONE. 5.5 MB processed. <a target=\"_blank\" href=\"https://console.cloud.google.com/bigquery?project=de123456-user-prd-1&j=bq:europe-west3:c884c35d-64b6-4aa0-b619-a8e6081cd219&page=queryresults\">Open Job</a>"
      ],
      "text/plain": [
       "<IPython.core.display.HTML object>"
      ]
     },
     "metadata": {},
     "output_type": "display_data"
    },
    {
     "data": {
      "text/html": [
       "Query job 57886d55-c774-4825-9011-45042a6ef5fd is DONE. 5.9 MB processed. <a target=\"_blank\" href=\"https://console.cloud.google.com/bigquery?project=de123456-user-prd-1&j=bq:europe-west3:57886d55-c774-4825-9011-45042a6ef5fd&page=queryresults\">Open Job</a>"
      ],
      "text/plain": [
       "<IPython.core.display.HTML object>"
      ]
     },
     "metadata": {},
     "output_type": "display_data"
    },
    {
     "name": "stdout",
     "output_type": "stream",
     "text": [
      "0   [{'label': 1, 'prob': 0.02194412797689438}, {'label': 0, 'prob': 0.9780558347702026}]\n"
     ]
    }
   ],
   "source": [
    "# inspect the first line of results to see the structure of the prediction column\n",
    "print(y_pred['Target'].iloc[0], \" \", y_pred['predicted_Target_probs'].iloc[0])\n"
   ]
  },
  {
   "cell_type": "code",
   "execution_count": null,
   "id": "MUmYwJAVx6Jx",
   "metadata": {
    "id": "MUmYwJAVx6Jx"
   },
   "outputs": [],
   "source": [
    "# Extract the probability for label=1\n",
    "# y_pred['prob_1'] = y_pred['predicted_Target_probs'].apply(lambda x: [item['prob'] for item in x if item['label'] == 1][0])"
   ]
  },
  {
   "cell_type": "markdown",
   "id": "fhO7-w-Q0n5s",
   "metadata": {
    "id": "fhO7-w-Q0n5s"
   },
   "source": [
    "https://cloud.google.com/bigquery/docs/clustered-tables\n",
    "\n",
    "table_id = df.to_gbq(clustering_columns=(\"index\", \"int_col\"))"
   ]
  },
  {
   "cell_type": "code",
   "execution_count": 83,
   "id": "nhYIKmBckJvK",
   "metadata": {
    "colab": {
     "base_uri": "https://localhost:8080/",
     "height": 53
    },
    "executionInfo": {
     "elapsed": 4246,
     "status": "ok",
     "timestamp": 1725456110191,
     "user": {
      "displayName": "",
      "userId": ""
     },
     "user_tz": -120
    },
    "id": "nhYIKmBckJvK",
    "outputId": "864cb45f-f71f-4ca7-dbe4-863a7d2efa2f"
   },
   "outputs": [
    {
     "data": {
      "text/html": [
       "Query job 22a7243a-13c3-47cb-b34c-6c772ffffa5a is DONE. 7.5 MB processed. <a target=\"_blank\" href=\"https://console.cloud.google.com/bigquery?project=de123456-user-prd-1&j=bq:europe-west3:22a7243a-13c3-47cb-b34c-6c772ffffa5a&page=queryresults\">Open Job</a>"
      ],
      "text/plain": [
       "<IPython.core.display.HTML object>"
      ]
     },
     "metadata": {},
     "output_type": "display_data"
    },
    {
     "data": {
      "application/vnd.google.colaboratory.intrinsic+json": {
       "type": "string"
      },
      "text/plain": [
       "'de123456-user-prd-1.xgb_classification_project.census_predicted'"
      ]
     },
     "execution_count": 83,
     "metadata": {},
     "output_type": "execute_result"
    }
   ],
   "source": [
    "# write results back to to your BigQuery project\n",
    "\n",
    "v_target_table = f\"{project_id}.{dataset_id}.census_predicted\"\n",
    "y_pred.to_gbq(destination_table=v_target_table,  if_exists='replace')"
   ]
  },
  {
   "cell_type": "code",
   "execution_count": 84,
   "id": "2mppvNqulv8r",
   "metadata": {
    "executionInfo": {
     "elapsed": 499,
     "status": "ok",
     "timestamp": 1725456156580,
     "user": {
      "displayName": "",
      "userId": ""
     },
     "user_tz": -120
    },
    "id": "2mppvNqulv8r"
   },
   "outputs": [],
   "source": [
    "# Define the SQL query to create or replace a table with the converted values\n",
    "# unnest the data table\n",
    "\n",
    "query = f\"\"\"\n",
    "CREATE OR REPLACE TABLE `{v_target_table}_new` AS\n",
    "SELECT\n",
    "  (SELECT prob FROM UNNEST(predicted_Target_probs) WHERE label = 1 LIMIT 1) AS proba_1,\n",
    "  (SELECT prob FROM UNNEST(predicted_Target_probs) WHERE label = 0 LIMIT 1) AS proba_0,\n",
    "  *\n",
    "FROM `{v_target_table}`\n",
    "\"\"\"\n",
    "\n",
    "# `{v_target_table}`\n",
    "\n",
    "# Run the query\n",
    "query_job = client.query(query)"
   ]
  },
  {
   "cell_type": "code",
   "execution_count": 85,
   "id": "1bxP9vqi1Zxq",
   "metadata": {
    "executionInfo": {
     "elapsed": 264,
     "status": "ok",
     "timestamp": 1725456463086,
     "user": {
      "displayName": "",
      "userId": ""
     },
     "user_tz": -120
    },
    "id": "1bxP9vqi1Zxq"
   },
   "outputs": [],
   "source": [
    "if 'y_score' in globals():\n",
    "    del y_score"
   ]
  },
  {
   "cell_type": "code",
   "execution_count": 88,
   "id": "d7-ds1eP1BRi",
   "metadata": {
    "colab": {
     "base_uri": "https://localhost:8080/",
     "height": 34
    },
    "executionInfo": {
     "elapsed": 3666,
     "status": "ok",
     "timestamp": 1725456499791,
     "user": {
      "displayName": "",
      "userId": ""
     },
     "user_tz": -120
    },
    "id": "d7-ds1eP1BRi",
    "outputId": "cce1428d-1c88-4d20-b2f2-f8738412e934"
   },
   "outputs": [
    {
     "data": {
      "text/html": [
       "Query job 451028ff-1976-4aa5-972d-67dd7bc3dc82 is DONE. 180.5 kB processed. <a target=\"_blank\" href=\"https://console.cloud.google.com/bigquery?project=de123456-user-prd-1&j=bq:europe-west3:451028ff-1976-4aa5-972d-67dd7bc3dc82&page=queryresults\">Open Job</a>"
      ],
      "text/plain": [
       "<IPython.core.display.HTML object>"
      ]
     },
     "metadata": {},
     "output_type": "display_data"
    }
   ],
   "source": [
    "# Specify your SQL query to select only the desired columns\n",
    "sql_query = f\"\"\"\n",
    "SELECT\n",
    "       Target,\n",
    "       proba_1\n",
    "FROM `{v_target_table}_new`\n",
    "\"\"\"\n",
    "\n",
    "# Use the SQL query to load data\n",
    "y_score = bpd.read_gbq(sql_query)"
   ]
  },
  {
   "cell_type": "code",
   "execution_count": 35,
   "id": "kzCAlgi-g4Qz",
   "metadata": {
    "colab": {
     "base_uri": "https://localhost:8080/",
     "height": 305
    },
    "executionInfo": {
     "elapsed": 5049,
     "status": "ok",
     "timestamp": 1725451024893,
     "user": {
      "displayName": "",
      "userId": ""
     },
     "user_tz": -120
    },
    "id": "kzCAlgi-g4Qz",
    "outputId": "cd94cbe0-15eb-4747-955e-aa476c064148"
   },
   "outputs": [
    {
     "data": {
      "text/html": [
       "Query job 767d7fbf-81f4-4c69-bebc-f719a9795d77 is DONE. 270.8 kB processed. <a target=\"_blank\" href=\"https://console.cloud.google.com/bigquery?project=de123456-user-prd-1&j=bq:europe-west3:767d7fbf-81f4-4c69-bebc-f719a9795d77&page=queryresults\">Open Job</a>"
      ],
      "text/plain": [
       "<IPython.core.display.HTML object>"
      ]
     },
     "metadata": {},
     "output_type": "display_data"
    },
    {
     "data": {
      "text/html": [
       "Query job 5b6040ab-36d8-4ba6-a11e-7e365610ec09 is DONE. 0 Bytes processed. <a target=\"_blank\" href=\"https://console.cloud.google.com/bigquery?project=de123456-user-prd-1&j=bq:europe-west3:5b6040ab-36d8-4ba6-a11e-7e365610ec09&page=queryresults\">Open Job</a>"
      ],
      "text/plain": [
       "<IPython.core.display.HTML object>"
      ]
     },
     "metadata": {},
     "output_type": "display_data"
    },
    {
     "data": {
      "text/html": [
       "Query job c6e93150-b902-4c38-87d7-4e4c8f285676 is DONE. 280 Bytes processed. <a target=\"_blank\" href=\"https://console.cloud.google.com/bigquery?project=de123456-user-prd-1&j=bq:europe-west3:c6e93150-b902-4c38-87d7-4e4c8f285676&page=queryresults\">Open Job</a>"
      ],
      "text/plain": [
       "<IPython.core.display.HTML object>"
      ]
     },
     "metadata": {},
     "output_type": "display_data"
    },
    {
     "data": {
      "text/html": [
       "<div>\n",
       "<style scoped>\n",
       "    .dataframe tbody tr th:only-of-type {\n",
       "        vertical-align: middle;\n",
       "    }\n",
       "\n",
       "    .dataframe tbody tr th {\n",
       "        vertical-align: top;\n",
       "    }\n",
       "\n",
       "    .dataframe thead th {\n",
       "        text-align: right;\n",
       "    }\n",
       "</style>\n",
       "<table border=\"1\" class=\"dataframe\">\n",
       "  <thead>\n",
       "    <tr style=\"text-align: right;\">\n",
       "      <th></th>\n",
       "      <th>train_id</th>\n",
       "      <th>Target</th>\n",
       "      <th>proba_1</th>\n",
       "    </tr>\n",
       "  </thead>\n",
       "  <tbody>\n",
       "    <tr>\n",
       "      <th>0</th>\n",
       "      <td>16821</td>\n",
       "      <td>0</td>\n",
       "      <td>0.035299</td>\n",
       "    </tr>\n",
       "    <tr>\n",
       "      <th>1</th>\n",
       "      <td>29310</td>\n",
       "      <td>0</td>\n",
       "      <td>0.009112</td>\n",
       "    </tr>\n",
       "    <tr>\n",
       "      <th>2</th>\n",
       "      <td>14649</td>\n",
       "      <td>0</td>\n",
       "      <td>0.147506</td>\n",
       "    </tr>\n",
       "    <tr>\n",
       "      <th>3</th>\n",
       "      <td>5670</td>\n",
       "      <td>0</td>\n",
       "      <td>0.006607</td>\n",
       "    </tr>\n",
       "    <tr>\n",
       "      <th>4</th>\n",
       "      <td>31296</td>\n",
       "      <td>1</td>\n",
       "      <td>0.99401</td>\n",
       "    </tr>\n",
       "  </tbody>\n",
       "</table>\n",
       "<p>5 rows × 3 columns</p>\n",
       "</div>[5 rows x 3 columns in total]"
      ],
      "text/plain": [
       "   train_id  Target   proba_1\n",
       "0     16821       0  0.035299\n",
       "1     29310       0  0.009112\n",
       "2     14649       0  0.147506\n",
       "3      5670       0  0.006607\n",
       "4     31296       1   0.99401\n",
       "\n",
       "[5 rows x 3 columns]"
      ]
     },
     "execution_count": 35,
     "metadata": {},
     "output_type": "execute_result"
    }
   ],
   "source": [
    "y_score.head()"
   ]
  },
  {
   "cell_type": "code",
   "execution_count": 89,
   "id": "-HodOh1dmAdO",
   "metadata": {
    "colab": {
     "base_uri": "https://localhost:8080/",
     "height": 69
    },
    "executionInfo": {
     "elapsed": 17182,
     "status": "ok",
     "timestamp": 1725456522180,
     "user": {
      "displayName": "",
      "userId": ""
     },
     "user_tz": -120
    },
    "id": "-HodOh1dmAdO",
    "outputId": "d5d73dc9-65df-4894-bed8-707775de00b5"
   },
   "outputs": [
    {
     "data": {
      "text/html": [
       "Query job 5cf578b3-2dc8-4d8a-a52d-669fd1115c2a is DONE. 90.3 kB processed. <a target=\"_blank\" href=\"https://console.cloud.google.com/bigquery?project=de123456-user-prd-1&j=bq:europe-west3:5cf578b3-2dc8-4d8a-a52d-669fd1115c2a&page=queryresults\">Open Job</a>"
      ],
      "text/plain": [
       "<IPython.core.display.HTML object>"
      ]
     },
     "metadata": {},
     "output_type": "display_data"
    },
    {
     "data": {
      "text/html": [
       "Query job 01a3936e-85d8-49e8-b266-d3d58645b513 is DONE. 180.5 kB processed. <a target=\"_blank\" href=\"https://console.cloud.google.com/bigquery?project=de123456-user-prd-1&j=bq:europe-west3:01a3936e-85d8-49e8-b266-d3d58645b513&page=queryresults\">Open Job</a>"
      ],
      "text/plain": [
       "<IPython.core.display.HTML object>"
      ]
     },
     "metadata": {},
     "output_type": "display_data"
    },
    {
     "name": "stdout",
     "output_type": "stream",
     "text": [
      "AUC:  0.9195750098181543\n"
     ]
    }
   ],
   "source": [
    "auc_score = bigframes.ml.metrics.roc_auc_score(y_score['Target'], y_score['proba_1'])\n",
    "print(\"AUC: \", auc_score)"
   ]
  },
  {
   "cell_type": "code",
   "execution_count": 93,
   "id": "zkLdMNdl2_Ts",
   "metadata": {
    "executionInfo": {
     "elapsed": 2,
     "status": "ok",
     "timestamp": 1725456665026,
     "user": {
      "displayName": "",
      "userId": ""
     },
     "user_tz": -120
    },
    "id": "zkLdMNdl2_Ts"
   },
   "outputs": [],
   "source": [
    "# Initialize Vertex AI\n",
    "aiplatform.init(project=project_id, location=region_id)"
   ]
  },
  {
   "cell_type": "code",
   "execution_count": 94,
   "id": "EdCBtLBW3QZP",
   "metadata": {
    "colab": {
     "base_uri": "https://localhost:8080/",
     "height": 52
    },
    "executionInfo": {
     "elapsed": 1656,
     "status": "ok",
     "timestamp": 1725456667356,
     "user": {
      "displayName": "",
      "userId": ""
     },
     "user_tz": -120
    },
    "id": "EdCBtLBW3QZP",
    "outputId": "f36db1d7-d4b1-4019-d279-028ae6d5b112"
   },
   "outputs": [
    {
     "data": {
      "text/html": [
       "Copy job 90d1e843-bca0-4713-bc18-ff73c0a6cba6 is DONE. <a target=\"_blank\" href=\"https://console.cloud.google.com/bigquery?project=de123456-user-prd-1&j=bq:europe-west3:90d1e843-bca0-4713-bc18-ff73c0a6cba6&page=queryresults\">Open Job</a>"
      ],
      "text/plain": [
       "<IPython.core.display.HTML object>"
      ]
     },
     "metadata": {},
     "output_type": "display_data"
    },
    {
     "data": {
      "text/plain": [
       "XGBClassifier(booster='GBTREE', tree_method='AUTO')"
      ]
     },
     "execution_count": 94,
     "metadata": {},
     "output_type": "execute_result"
    }
   ],
   "source": [
    "# Save the model locally in your BigQuery project (under Models)\n",
    "model_name = 'model_xgboost_01'\n",
    "model.to_gbq(f\"{dataset_id}.{model_name}\", replace=True)"
   ]
  },
  {
   "cell_type": "code",
   "execution_count": 95,
   "id": "TXBn82lh5RcA",
   "metadata": {
    "executionInfo": {
     "elapsed": 225,
     "status": "ok",
     "timestamp": 1725456669739,
     "user": {
      "displayName": "",
      "userId": ""
     },
     "user_tz": -120
    },
    "id": "TXBn82lh5RcA"
   },
   "outputs": [],
   "source": [
    "model_load = bpd.read_gbq_model(f\"{dataset_id}.{model_name}\")"
   ]
  },
  {
   "cell_type": "code",
   "execution_count": 96,
   "id": "AxYWQat95ZDF",
   "metadata": {
    "colab": {
     "base_uri": "https://localhost:8080/"
    },
    "executionInfo": {
     "elapsed": 2,
     "status": "ok",
     "timestamp": 1725456670641,
     "user": {
      "displayName": "",
      "userId": ""
     },
     "user_tz": -120
    },
    "id": "AxYWQat95ZDF",
    "outputId": "ef6a1d9b-bb6d-4b5c-b3c6-9a25d2fb5f01"
   },
   "outputs": [
    {
     "data": {
      "text/plain": [
       "bigframes.ml.ensemble.XGBClassifier"
      ]
     },
     "execution_count": 96,
     "metadata": {},
     "output_type": "execute_result"
    }
   ],
   "source": [
    "type(model_load)"
   ]
  },
  {
   "cell_type": "markdown",
   "id": "z8BIZje87iI0",
   "metadata": {
    "id": "z8BIZje87iI0"
   },
   "source": [
    "### Apply the stored model to a (new) dataset"
   ]
  },
  {
   "cell_type": "code",
   "execution_count": 97,
   "id": "O1bjbpvv6qeL",
   "metadata": {
    "colab": {
     "base_uri": "https://localhost:8080/",
     "height": 411
    },
    "executionInfo": {
     "elapsed": 47814,
     "status": "ok",
     "timestamp": 1725456720161,
     "user": {
      "displayName": "",
      "userId": ""
     },
     "user_tz": -120
    },
    "id": "O1bjbpvv6qeL",
    "outputId": "66b79365-9211-49a5-ed7a-d993cb4225e2"
   },
   "outputs": [
    {
     "data": {
      "text/html": [
       "Query job 955826ca-c4ef-4169-8911-91043232c09e is DONE. 2.3 MB processed. <a target=\"_blank\" href=\"https://console.cloud.google.com/bigquery?project=de123456-user-prd-1&j=bq:europe-west3:955826ca-c4ef-4169-8911-91043232c09e&page=queryresults\">Open Job</a>"
      ],
      "text/plain": [
       "<IPython.core.display.HTML object>"
      ]
     },
     "metadata": {},
     "output_type": "display_data"
    },
    {
     "data": {
      "text/html": [
       "Query job cd8c763d-f3ef-458c-9773-b9bdb8cff7fb is DONE. 0 Bytes processed. <a target=\"_blank\" href=\"https://console.cloud.google.com/bigquery?project=de123456-user-prd-1&j=bq:europe-west3:cd8c763d-f3ef-458c-9773-b9bdb8cff7fb&page=queryresults\">Open Job</a>"
      ],
      "text/plain": [
       "<IPython.core.display.HTML object>"
      ]
     },
     "metadata": {},
     "output_type": "display_data"
    },
    {
     "data": {
      "text/html": [
       "Query job 0d3c00a9-9049-4ee3-849f-e56ccd2a27d0 is DONE. 943 Bytes processed. <a target=\"_blank\" href=\"https://console.cloud.google.com/bigquery?project=de123456-user-prd-1&j=bq:europe-west3:0d3c00a9-9049-4ee3-849f-e56ccd2a27d0&page=queryresults\">Open Job</a>"
      ],
      "text/plain": [
       "<IPython.core.display.HTML object>"
      ]
     },
     "metadata": {},
     "output_type": "display_data"
    },
    {
     "data": {
      "text/html": [
       "<div>\n",
       "<style scoped>\n",
       "    .dataframe tbody tr th:only-of-type {\n",
       "        vertical-align: middle;\n",
       "    }\n",
       "\n",
       "    .dataframe tbody tr th {\n",
       "        vertical-align: top;\n",
       "    }\n",
       "\n",
       "    .dataframe thead th {\n",
       "        text-align: right;\n",
       "    }\n",
       "</style>\n",
       "<table border=\"1\" class=\"dataframe\">\n",
       "  <thead>\n",
       "    <tr style=\"text-align: right;\">\n",
       "      <th></th>\n",
       "      <th>Target</th>\n",
       "      <th>age</th>\n",
       "      <th>workclass</th>\n",
       "      <th>fnlwgt</th>\n",
       "      <th>education</th>\n",
       "      <th>education_num</th>\n",
       "      <th>marital_status</th>\n",
       "      <th>occupation</th>\n",
       "      <th>relationship</th>\n",
       "      <th>race</th>\n",
       "      <th>sex</th>\n",
       "      <th>capital_gain</th>\n",
       "      <th>capital_loss</th>\n",
       "      <th>hours_per_week</th>\n",
       "      <th>native_country</th>\n",
       "      <th>row_id</th>\n",
       "    </tr>\n",
       "  </thead>\n",
       "  <tbody>\n",
       "    <tr>\n",
       "      <th>0</th>\n",
       "      <td>0</td>\n",
       "      <td>38</td>\n",
       "      <td>Private</td>\n",
       "      <td>206535</td>\n",
       "      <td>Some-college</td>\n",
       "      <td>10</td>\n",
       "      <td>Divorced</td>\n",
       "      <td>Tech-support</td>\n",
       "      <td>Unmarried</td>\n",
       "      <td>White</td>\n",
       "      <td>Female</td>\n",
       "      <td>0</td>\n",
       "      <td>0</td>\n",
       "      <td>50</td>\n",
       "      <td>United-States</td>\n",
       "      <td>Row1079</td>\n",
       "    </tr>\n",
       "    <tr>\n",
       "      <th>1</th>\n",
       "      <td>0</td>\n",
       "      <td>56</td>\n",
       "      <td>Private</td>\n",
       "      <td>183169</td>\n",
       "      <td>HS-grad</td>\n",
       "      <td>9</td>\n",
       "      <td>Never-married</td>\n",
       "      <td>Adm-clerical</td>\n",
       "      <td>Own-child</td>\n",
       "      <td>White</td>\n",
       "      <td>Female</td>\n",
       "      <td>0</td>\n",
       "      <td>0</td>\n",
       "      <td>35</td>\n",
       "      <td>United-States</td>\n",
       "      <td>Row13436</td>\n",
       "    </tr>\n",
       "    <tr>\n",
       "      <th>2</th>\n",
       "      <td>0</td>\n",
       "      <td>69</td>\n",
       "      <td>Private</td>\n",
       "      <td>29087</td>\n",
       "      <td>7th-8th</td>\n",
       "      <td>4</td>\n",
       "      <td>Married-civ-spouse</td>\n",
       "      <td>Handlers-cleaners</td>\n",
       "      <td>Husband</td>\n",
       "      <td>White</td>\n",
       "      <td>Male</td>\n",
       "      <td>0</td>\n",
       "      <td>0</td>\n",
       "      <td>6</td>\n",
       "      <td>United-States</td>\n",
       "      <td>Row14372</td>\n",
       "    </tr>\n",
       "    <tr>\n",
       "      <th>3</th>\n",
       "      <td>1</td>\n",
       "      <td>38</td>\n",
       "      <td>Private</td>\n",
       "      <td>149347</td>\n",
       "      <td>Masters</td>\n",
       "      <td>14</td>\n",
       "      <td>Married-civ-spouse</td>\n",
       "      <td>Prof-specialty</td>\n",
       "      <td>Husband</td>\n",
       "      <td>White</td>\n",
       "      <td>Male</td>\n",
       "      <td>0</td>\n",
       "      <td>0</td>\n",
       "      <td>50</td>\n",
       "      <td>United-States</td>\n",
       "      <td>Row14644</td>\n",
       "    </tr>\n",
       "    <tr>\n",
       "      <th>4</th>\n",
       "      <td>0</td>\n",
       "      <td>48</td>\n",
       "      <td>Private</td>\n",
       "      <td>310639</td>\n",
       "      <td>Some-college</td>\n",
       "      <td>10</td>\n",
       "      <td>Divorced</td>\n",
       "      <td>Exec-managerial</td>\n",
       "      <td>Not-in-family</td>\n",
       "      <td>White</td>\n",
       "      <td>Male</td>\n",
       "      <td>0</td>\n",
       "      <td>0</td>\n",
       "      <td>50</td>\n",
       "      <td>United-States</td>\n",
       "      <td>Row10348</td>\n",
       "    </tr>\n",
       "  </tbody>\n",
       "</table>\n",
       "<p>5 rows × 16 columns</p>\n",
       "</div>[5 rows x 16 columns in total]"
      ],
      "text/plain": [
       "   Target  age workclass  fnlwgt     education  education_num  \\\n",
       "0       0   38   Private  206535  Some-college             10   \n",
       "1       0   56   Private  183169       HS-grad              9   \n",
       "2       0   69   Private   29087       7th-8th              4   \n",
       "3       1   38   Private  149347       Masters             14   \n",
       "4       0   48   Private  310639  Some-college             10   \n",
       "\n",
       "       marital_status         occupation   relationship   race     sex  \\\n",
       "0            Divorced       Tech-support      Unmarried  White  Female   \n",
       "1       Never-married       Adm-clerical      Own-child  White  Female   \n",
       "2  Married-civ-spouse  Handlers-cleaners        Husband  White    Male   \n",
       "3  Married-civ-spouse     Prof-specialty        Husband  White    Male   \n",
       "4            Divorced    Exec-managerial  Not-in-family  White    Male   \n",
       "\n",
       "   capital_gain  capital_loss  hours_per_week native_country    row_id  \n",
       "0             0             0              50  United-States   Row1079  \n",
       "1             0             0              35  United-States  Row13436  \n",
       "2             0             0               6  United-States  Row14372  \n",
       "3             0             0              50  United-States  Row14644  \n",
       "4             0             0              50  United-States  Row10348  \n",
       "\n",
       "[5 rows x 16 columns]"
      ]
     },
     "execution_count": 97,
     "metadata": {},
     "output_type": "execute_result"
    }
   ],
   "source": [
    "# data_test = data_test.rename(columns={\"native-country\": \"native_country\"})\n",
    "# data_test = data_test.rename(columns={\"Target_int\": \"Target\"})\n",
    "data_test.head()"
   ]
  },
  {
   "cell_type": "code",
   "execution_count": 98,
   "id": "3Fa32yve6bl8",
   "metadata": {
    "colab": {
     "base_uri": "https://localhost:8080/"
    },
    "executionInfo": {
     "elapsed": 261,
     "status": "ok",
     "timestamp": 1725456723265,
     "user": {
      "displayName": "",
      "userId": ""
     },
     "user_tz": -120
    },
    "id": "3Fa32yve6bl8",
    "outputId": "a26bacb2-cc00-4f5f-818a-42479f72e112"
   },
   "outputs": [
    {
     "name": "stdout",
     "output_type": "stream",
     "text": [
      "Target                      Int64\n",
      "age                         Int64\n",
      "workclass         string[pyarrow]\n",
      "fnlwgt                      Int64\n",
      "education         string[pyarrow]\n",
      "education_num               Int64\n",
      "marital_status    string[pyarrow]\n",
      "occupation        string[pyarrow]\n",
      "relationship      string[pyarrow]\n",
      "race              string[pyarrow]\n",
      "sex               string[pyarrow]\n",
      "capital_gain                Int64\n",
      "capital_loss                Int64\n",
      "hours_per_week              Int64\n",
      "native_country    string[pyarrow]\n",
      "row_id            string[pyarrow]\n",
      "dtype: object\n"
     ]
    }
   ],
   "source": [
    "print(data_test.dtypes)"
   ]
  },
  {
   "cell_type": "code",
   "execution_count": 99,
   "id": "RySn7ve45acC",
   "metadata": {
    "colab": {
     "base_uri": "https://localhost:8080/",
     "height": 34
    },
    "executionInfo": {
     "elapsed": 5589,
     "status": "ok",
     "timestamp": 1725456732810,
     "user": {
      "displayName": "",
      "userId": ""
     },
     "user_tz": -120
    },
    "id": "RySn7ve45acC",
    "outputId": "70243204-2ec2-4c8e-fbf7-608b516777ff"
   },
   "outputs": [
    {
     "data": {
      "text/html": [
       "Query job 03a42ca1-bbac-4660-83f7-6315eb6eb8a8 is DONE. 2.4 MB processed. <a target=\"_blank\" href=\"https://console.cloud.google.com/bigquery?project=de123456-user-prd-1&j=bq:europe-west3:03a42ca1-bbac-4660-83f7-6315eb6eb8a8&page=queryresults\">Open Job</a>"
      ],
      "text/plain": [
       "<IPython.core.display.HTML object>"
      ]
     },
     "metadata": {},
     "output_type": "display_data"
    }
   ],
   "source": [
    "# Predict the outcome with (new) data\n",
    "test_pred = model_load.predict(data_test)"
   ]
  },
  {
   "cell_type": "code",
   "execution_count": 100,
   "id": "UvghlISj5vop",
   "metadata": {
    "colab": {
     "base_uri": "https://localhost:8080/",
     "height": 481
    },
    "executionInfo": {
     "elapsed": 6456,
     "status": "ok",
     "timestamp": 1725456745165,
     "user": {
      "displayName": "",
      "userId": ""
     },
     "user_tz": -120
    },
    "id": "UvghlISj5vop",
    "outputId": "43593992-c525-495b-d6f8-c19d80e3f383"
   },
   "outputs": [
    {
     "data": {
      "text/html": [
       "Query job d747bd35-f1fb-4d2c-ac3a-81931e2d54b3 is DONE. 3.0 MB processed. <a target=\"_blank\" href=\"https://console.cloud.google.com/bigquery?project=de123456-user-prd-1&j=bq:europe-west3:d747bd35-f1fb-4d2c-ac3a-81931e2d54b3&page=queryresults\">Open Job</a>"
      ],
      "text/plain": [
       "<IPython.core.display.HTML object>"
      ]
     },
     "metadata": {},
     "output_type": "display_data"
    },
    {
     "data": {
      "text/html": [
       "Query job d9b96f4a-f88e-43e6-ba60-ba1a6f18aa02 is DONE. 0 Bytes processed. <a target=\"_blank\" href=\"https://console.cloud.google.com/bigquery?project=de123456-user-prd-1&j=bq:europe-west3:d9b96f4a-f88e-43e6-ba60-ba1a6f18aa02&page=queryresults\">Open Job</a>"
      ],
      "text/plain": [
       "<IPython.core.display.HTML object>"
      ]
     },
     "metadata": {},
     "output_type": "display_data"
    },
    {
     "data": {
      "text/html": [
       "Query job 19919077-1776-4636-905d-94baa948ce88 is DONE. 1.1 kB processed. <a target=\"_blank\" href=\"https://console.cloud.google.com/bigquery?project=de123456-user-prd-1&j=bq:europe-west3:19919077-1776-4636-905d-94baa948ce88&page=queryresults\">Open Job</a>"
      ],
      "text/plain": [
       "<IPython.core.display.HTML object>"
      ]
     },
     "metadata": {},
     "output_type": "display_data"
    },
    {
     "data": {
      "text/html": [
       "<div>\n",
       "<style scoped>\n",
       "    .dataframe tbody tr th:only-of-type {\n",
       "        vertical-align: middle;\n",
       "    }\n",
       "\n",
       "    .dataframe tbody tr th {\n",
       "        vertical-align: top;\n",
       "    }\n",
       "\n",
       "    .dataframe thead th {\n",
       "        text-align: right;\n",
       "    }\n",
       "</style>\n",
       "<table border=\"1\" class=\"dataframe\">\n",
       "  <thead>\n",
       "    <tr style=\"text-align: right;\">\n",
       "      <th></th>\n",
       "      <th>predicted_Target</th>\n",
       "      <th>predicted_Target_probs</th>\n",
       "      <th>Target</th>\n",
       "      <th>age</th>\n",
       "      <th>workclass</th>\n",
       "      <th>fnlwgt</th>\n",
       "      <th>education</th>\n",
       "      <th>education_num</th>\n",
       "      <th>marital_status</th>\n",
       "      <th>occupation</th>\n",
       "      <th>relationship</th>\n",
       "      <th>race</th>\n",
       "      <th>sex</th>\n",
       "      <th>capital_gain</th>\n",
       "      <th>capital_loss</th>\n",
       "      <th>hours_per_week</th>\n",
       "      <th>native_country</th>\n",
       "      <th>row_id</th>\n",
       "    </tr>\n",
       "  </thead>\n",
       "  <tbody>\n",
       "    <tr>\n",
       "      <th>0</th>\n",
       "      <td>0</td>\n",
       "      <td>[{'label': 1, 'prob': 0.10922787338495255}\n",
       " {'...</td>\n",
       "      <td>0</td>\n",
       "      <td>38</td>\n",
       "      <td>Private</td>\n",
       "      <td>206535</td>\n",
       "      <td>Some-college</td>\n",
       "      <td>10</td>\n",
       "      <td>Divorced</td>\n",
       "      <td>Tech-support</td>\n",
       "      <td>Unmarried</td>\n",
       "      <td>White</td>\n",
       "      <td>Female</td>\n",
       "      <td>0</td>\n",
       "      <td>0</td>\n",
       "      <td>50</td>\n",
       "      <td>United-States</td>\n",
       "      <td>Row1079</td>\n",
       "    </tr>\n",
       "    <tr>\n",
       "      <th>1</th>\n",
       "      <td>0</td>\n",
       "      <td>[{'label': 1, 'prob': 0.03274129703640938}\n",
       " {'...</td>\n",
       "      <td>0</td>\n",
       "      <td>56</td>\n",
       "      <td>Private</td>\n",
       "      <td>183169</td>\n",
       "      <td>HS-grad</td>\n",
       "      <td>9</td>\n",
       "      <td>Never-married</td>\n",
       "      <td>Adm-clerical</td>\n",
       "      <td>Own-child</td>\n",
       "      <td>White</td>\n",
       "      <td>Female</td>\n",
       "      <td>0</td>\n",
       "      <td>0</td>\n",
       "      <td>35</td>\n",
       "      <td>United-States</td>\n",
       "      <td>Row13436</td>\n",
       "    </tr>\n",
       "    <tr>\n",
       "      <th>2</th>\n",
       "      <td>0</td>\n",
       "      <td>[{'label': 1, 'prob': 0.05487420782446861}\n",
       " {'...</td>\n",
       "      <td>0</td>\n",
       "      <td>69</td>\n",
       "      <td>Private</td>\n",
       "      <td>29087</td>\n",
       "      <td>7th-8th</td>\n",
       "      <td>4</td>\n",
       "      <td>Married-civ-spouse</td>\n",
       "      <td>Handlers-cleaners</td>\n",
       "      <td>Husband</td>\n",
       "      <td>White</td>\n",
       "      <td>Male</td>\n",
       "      <td>0</td>\n",
       "      <td>0</td>\n",
       "      <td>6</td>\n",
       "      <td>United-States</td>\n",
       "      <td>Row14372</td>\n",
       "    </tr>\n",
       "    <tr>\n",
       "      <th>3</th>\n",
       "      <td>1</td>\n",
       "      <td>[{'label': 1, 'prob': 0.7182402610778809}\n",
       " {'l...</td>\n",
       "      <td>1</td>\n",
       "      <td>38</td>\n",
       "      <td>Private</td>\n",
       "      <td>149347</td>\n",
       "      <td>Masters</td>\n",
       "      <td>14</td>\n",
       "      <td>Married-civ-spouse</td>\n",
       "      <td>Prof-specialty</td>\n",
       "      <td>Husband</td>\n",
       "      <td>White</td>\n",
       "      <td>Male</td>\n",
       "      <td>0</td>\n",
       "      <td>0</td>\n",
       "      <td>50</td>\n",
       "      <td>United-States</td>\n",
       "      <td>Row14644</td>\n",
       "    </tr>\n",
       "    <tr>\n",
       "      <th>4</th>\n",
       "      <td>0</td>\n",
       "      <td>[{'label': 1, 'prob': 0.21385003626346588}\n",
       " {'...</td>\n",
       "      <td>0</td>\n",
       "      <td>48</td>\n",
       "      <td>Private</td>\n",
       "      <td>310639</td>\n",
       "      <td>Some-college</td>\n",
       "      <td>10</td>\n",
       "      <td>Divorced</td>\n",
       "      <td>Exec-managerial</td>\n",
       "      <td>Not-in-family</td>\n",
       "      <td>White</td>\n",
       "      <td>Male</td>\n",
       "      <td>0</td>\n",
       "      <td>0</td>\n",
       "      <td>50</td>\n",
       "      <td>United-States</td>\n",
       "      <td>Row10348</td>\n",
       "    </tr>\n",
       "  </tbody>\n",
       "</table>\n",
       "<p>5 rows × 18 columns</p>\n",
       "</div>[5 rows x 18 columns in total]"
      ],
      "text/plain": [
       "   predicted_Target                             predicted_Target_probs  \\\n",
       "0                 0  [{'label': 1, 'prob': 0.10922787338495255}\n",
       " {'...   \n",
       "1                 0  [{'label': 1, 'prob': 0.03274129703640938}\n",
       " {'...   \n",
       "2                 0  [{'label': 1, 'prob': 0.05487420782446861}\n",
       " {'...   \n",
       "3                 1  [{'label': 1, 'prob': 0.7182402610778809}\n",
       " {'l...   \n",
       "4                 0  [{'label': 1, 'prob': 0.21385003626346588}\n",
       " {'...   \n",
       "\n",
       "   Target  age workclass  fnlwgt     education  education_num  \\\n",
       "0       0   38   Private  206535  Some-college             10   \n",
       "1       0   56   Private  183169       HS-grad              9   \n",
       "2       0   69   Private   29087       7th-8th              4   \n",
       "3       1   38   Private  149347       Masters             14   \n",
       "4       0   48   Private  310639  Some-college             10   \n",
       "\n",
       "       marital_status         occupation   relationship   race     sex  \\\n",
       "0            Divorced       Tech-support      Unmarried  White  Female   \n",
       "1       Never-married       Adm-clerical      Own-child  White  Female   \n",
       "2  Married-civ-spouse  Handlers-cleaners        Husband  White    Male   \n",
       "3  Married-civ-spouse     Prof-specialty        Husband  White    Male   \n",
       "4            Divorced    Exec-managerial  Not-in-family  White    Male   \n",
       "\n",
       "   capital_gain  capital_loss  hours_per_week native_country    row_id  \n",
       "0             0             0              50  United-States   Row1079  \n",
       "1             0             0              35  United-States  Row13436  \n",
       "2             0             0               6  United-States  Row14372  \n",
       "3             0             0              50  United-States  Row14644  \n",
       "4             0             0              50  United-States  Row10348  \n",
       "\n",
       "[5 rows x 18 columns]"
      ]
     },
     "execution_count": 100,
     "metadata": {},
     "output_type": "execute_result"
    }
   ],
   "source": [
    "# the predicted Target Probs are a nested object that will have to be untagled\n",
    "test_pred.head()"
   ]
  },
  {
   "cell_type": "markdown",
   "id": "voGwXeQe2yr7",
   "metadata": {
    "id": "voGwXeQe2yr7"
   },
   "source": [
    "## Apply the model via SQL Code in BigQuery\n",
    "\n",
    "You can use the model created directly on BigQuery in SQL code. Given that the dataset has the same features that were there when training the model.\n",
    "\n",
    "```SQL\n",
    "SELECT\n",
    "  (SELECT prob FROM UNNEST(predicted_Target_probs) WHERE label = 1 LIMIT 1) AS proba_1,\n",
    "  (SELECT prob FROM UNNEST(predicted_Target_probs) WHERE label = 0 LIMIT 1) AS proba_0,\n",
    "  predicted_Target,\n",
    "  Target\n",
    "FROM\n",
    "  ML.PREDICT(MODEL `de123456-user-prd-1.xgb_classification_project.model_xgboost_01`,\n",
    "    (SELECT\n",
    "      *\n",
    "     FROM\n",
    "     `de123456-user-prd-1.xgb_classification_project.census_test_new`))\n",
    "```\n",
    "\n"
   ]
  }
 ],
 "metadata": {
  "colab": {
   "name": "GCP - 010 - XGBoost Binary Classification and Bigframes",
   "provenance": []
  },
  "kernelspec": {
   "display_name": "Python 3 (ipykernel)",
   "language": "python",
   "name": "python3"
  },
  "language_info": {
   "codemirror_mode": {
    "name": "ipython",
    "version": 3
   },
   "file_extension": ".py",
   "mimetype": "text/x-python",
   "name": "python",
   "nbconvert_exporter": "python",
   "pygments_lexer": "ipython3",
   "version": "3.9.16"
  }
 },
 "nbformat": 4,
 "nbformat_minor": 5
}
